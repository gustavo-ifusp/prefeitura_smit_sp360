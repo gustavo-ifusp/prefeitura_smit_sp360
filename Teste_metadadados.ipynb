{
  "nbformat": 4,
  "nbformat_minor": 0,
  "metadata": {
    "colab": {
      "name": "Teste_metadadados.ipynb",
      "provenance": [],
      "authorship_tag": "ABX9TyMyn6+Iq5pEYpFXxE+cwQZk",
      "include_colab_link": true
    },
    "kernelspec": {
      "name": "python3",
      "display_name": "Python 3"
    },
    "language_info": {
      "name": "python"
    }
  },
  "cells": [
    {
      "cell_type": "markdown",
      "metadata": {
        "id": "view-in-github",
        "colab_type": "text"
      },
      "source": [
        "<a href=\"https://colab.research.google.com/github/gustavo-ifusp/prefeitura_smit_sp360/blob/main/Teste_metadadados.ipynb\" target=\"_parent\"><img src=\"https://colab.research.google.com/assets/colab-badge.svg\" alt=\"Open In Colab\"/></a>"
      ]
    },
    {
      "cell_type": "code",
      "metadata": {
        "id": "120ikPij6NKL"
      },
      "source": [
        "import pandas as pd\n",
        "import numpy as np\n",
        "from datetime import datetime, date, timedelta"
      ],
      "execution_count": null,
      "outputs": []
    },
    {
      "cell_type": "code",
      "metadata": {
        "id": "le6gLAGM6QE3"
      },
      "source": [
        "data_hoje = date.today()\n",
        "data_atual = data_hoje"
      ],
      "execution_count": null,
      "outputs": []
    },
    {
      "cell_type": "code",
      "metadata": {
        "id": "TS4YpJ9J6iOw"
      },
      "source": [
        "def converteNumMesNome(numMes):\n",
        "    dicionario_meses = {\n",
        "           1  : ['Janeiro','JAN'],\n",
        "           2  : ['Fevereiro','FEV'],\n",
        "           3  : ['Março','MAR'],\n",
        "           4  : ['Abril','ABR'],\n",
        "           5  : ['Maio','MAI'],\n",
        "           6  : ['Junho','JUN'],\n",
        "           7  : ['Julho','JUL'],\n",
        "           8  : ['Agosto','AGO'],\n",
        "           9  : ['Setembro','SET'],\n",
        "           10 : ['Outubro','OUT'],\n",
        "           11 : ['Novembro','NOV'],\n",
        "           12 : ['Dezembro','DEZ']\n",
        "    }\n",
        "    return dicionario_meses[numMes]"
      ],
      "execution_count": null,
      "outputs": []
    },
    {
      "cell_type": "code",
      "metadata": {
        "colab": {
          "base_uri": "https://localhost:8080/",
          "height": 35
        },
        "id": "pdQqdXtZ6QNW",
        "outputId": "e3a8bedb-7211-4643-ce0d-395fbb410029"
      },
      "source": [
        "mes = data_atual.month\n",
        "mes_str = converteNumMesNome(mes)[1]\n",
        "dia_str = str(data_atual.day)\n",
        "ano_str = str(data_atual.year)\n",
        "ultimo_salvo = dia_str + mes_str + ano_str  \n",
        "ultimo_salvo"
      ],
      "execution_count": null,
      "outputs": [
        {
          "output_type": "execute_result",
          "data": {
            "application/vnd.google.colaboratory.intrinsic+json": {
              "type": "string"
            },
            "text/plain": [
              "'23AGO2021'"
            ]
          },
          "metadata": {},
          "execution_count": 15
        }
      ]
    },
    {
      "cell_type": "code",
      "metadata": {
        "colab": {
          "base_uri": "https://localhost:8080/",
          "height": 35
        },
        "id": "2p6VjGRUOIfL",
        "outputId": "c4f7dc3e-d273-4dd8-a45b-65c9c0047580"
      },
      "source": [
        "mes = data_atual.month\n",
        "mes_str = converteNumMesNome(mes)[0]\n",
        "dia_str = str(data_atual.day)\n",
        "ano_str = str(data_atual.year)\n",
        "ultimo_salvo = dia_str + mes_str + ano_str  \n",
        "ultimo_salvo"
      ],
      "execution_count": null,
      "outputs": [
        {
          "output_type": "execute_result",
          "data": {
            "application/vnd.google.colaboratory.intrinsic+json": {
              "type": "string"
            },
            "text/plain": [
              "'23Agosto2021'"
            ]
          },
          "metadata": {},
          "execution_count": 16
        }
      ]
    }
  ]
}