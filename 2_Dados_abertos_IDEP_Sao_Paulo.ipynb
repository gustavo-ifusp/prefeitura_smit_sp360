{
  "nbformat": 4,
  "nbformat_minor": 0,
  "metadata": {
    "colab": {
      "name": "2 - Dados_abertos_IDEP_Sao_Paulo.ipynb",
      "provenance": [],
      "authorship_tag": "ABX9TyNj3olxICPIf9H7cNaohYnK",
      "include_colab_link": true
    },
    "kernelspec": {
      "name": "python3",
      "display_name": "Python 3"
    },
    "language_info": {
      "name": "python"
    }
  },
  "cells": [
    {
      "cell_type": "markdown",
      "metadata": {
        "id": "view-in-github",
        "colab_type": "text"
      },
      "source": [
        "<a href=\"https://colab.research.google.com/github/gustavo-ifusp/prefeitura_smit_sp360/blob/main/2_Dados_abertos_IDEP_Sao_Paulo.ipynb\" target=\"_parent\"><img src=\"https://colab.research.google.com/assets/colab-badge.svg\" alt=\"Open In Colab\"/></a>"
      ]
    },
    {
      "cell_type": "markdown",
      "metadata": {
        "id": "F9mz79Fbbvxs"
      },
      "source": [
        "#**Índice de Desenvolvimento da Educação Paulistana (IDEP) - 2019**\n",
        "**Link dos Dados de origem:**\n",
        "http://dados.prefeitura.sp.gov.br/dataset/idep\n",
        "\n",
        "Responsável: Gustavo de Andrade - gustavo.andrade@prefeitura.sp.gov.br\n",
        "\n",
        "IDEP: [0,10]"
      ]
    },
    {
      "cell_type": "code",
      "metadata": {
        "id": "-f0we6hegLLF"
      },
      "source": [
        "import numpy as np\n",
        "import pandas as pd\n",
        "import matplotlib.pyplot as plt\n",
        "import seaborn as sns\n",
        "import re\n",
        "from datetime import datetime, date, timedelta"
      ],
      "execution_count": null,
      "outputs": []
    },
    {
      "cell_type": "markdown",
      "metadata": {
        "id": "RyXrPK-yiEiR"
      },
      "source": [
        "#**IDEP - Anos Finais**"
      ]
    },
    {
      "cell_type": "markdown",
      "metadata": {
        "id": "51BgFIZ5dfk_"
      },
      "source": [
        "http://dados.prefeitura.sp.gov.br/dataset/ebb19682-daec-41a9-b7b1-d71e964e1088/resource/995b6b23-218a-4499-afaa-a5f50cca1de8/download/idepanosfinaisescolas2019.xls"
      ]
    },
    {
      "cell_type": "code",
      "metadata": {
        "id": "j86XV9DhgDfd"
      },
      "source": [
        "xls = pd.ExcelFile(\"idepanosfinaisescolas2019.xls\")"
      ],
      "execution_count": null,
      "outputs": []
    },
    {
      "cell_type": "code",
      "metadata": {
        "id": "F7xTu1FlgOX1"
      },
      "source": [
        "xls_1 = pd.read_excel(xls, 'FAIXA 1', skiprows = range(0, 1))\n",
        "xls_2 = pd.read_excel(xls, 'FAIXA 2', skiprows = range(0, 1))\n",
        "xls_3 = pd.read_excel(xls, 'FAIXA 3', skiprows = range(0, 1))\n",
        "xls_4 = pd.read_excel(xls, 'FAIXA 4', skiprows = range(0, 1))\n",
        "xls_5 = pd.read_excel(xls, 'FAIXA 5', skiprows = range(0, 1))\n",
        "xls_6 = pd.read_excel(xls, 'FAIXA 6', skiprows = range(0, 1))"
      ],
      "execution_count": null,
      "outputs": []
    },
    {
      "cell_type": "code",
      "metadata": {
        "colab": {
          "base_uri": "https://localhost:8080/"
        },
        "id": "lQteqLlSh_Ua",
        "outputId": "2c297e5c-c0dd-4223-8381-bfbd7a520088"
      },
      "source": [
        "idep_anos_finais = pd.concat([xls_1, xls_2, xls_3, xls_4, xls_5, xls_6], axis = 0, ignore_index=True)\n",
        "print(idep_anos_finais)"
      ],
      "execution_count": null,
      "outputs": [
        {
          "output_type": "stream",
          "name": "stdout",
          "text": [
            "     Cod_Esc                                    Escola  ...     2022     2023\n",
            "0      94862                EMEF ALBERTO SANTOS DUMONT  ...   5.1494  5.41501\n",
            "1        191                   EMEF ALIPIO CORREA NETO  ...  5.38381   5.6117\n",
            "2      95427                   EMEF ALVARES DE AZEVEDO  ...  5.50603  5.65633\n",
            "3      92827               EMEF ALVARO SILVA BRAGA GAL  ...  4.49791  4.81228\n",
            "4      93238                    EMEF ANTENOR NASCENTES  ...  5.14667  5.33998\n",
            "..       ...                                       ...  ...      ...      ...\n",
            "545    94749  EMEF MARTIN FRANCISCO RIBEIRO DE ANDRADA  ...  6.13859  6.20695\n",
            "546    94790          EMEF HELENA LOMBARDI BRAGA PROFA  ...  7.11111  7.20288\n",
            "547    92711               EMEF DEODORO DA FONSECA MAL  ...  5.80454  5.91377\n",
            "548    93742                  EMEF LUIS SAIA ARQUITETO  ...  6.05144  6.17085\n",
            "549    93955                EMEF JACKSON DE FIGUEIREDO  ...  5.65554  5.84881\n",
            "\n",
            "[550 rows x 14 columns]\n"
          ]
        }
      ]
    },
    {
      "cell_type": "markdown",
      "metadata": {
        "id": "-NPDW06EiJfJ"
      },
      "source": [
        "#**IDEP - Anos iniciais**"
      ]
    },
    {
      "cell_type": "markdown",
      "metadata": {
        "id": "5jU2yhxvdi-X"
      },
      "source": [
        "http://dados.prefeitura.sp.gov.br/dataset/ebb19682-daec-41a9-b7b1-d71e964e1088/resource/bb22511b-e897-4f6b-a30f-0edd535d2160/download/idepanosiniciaisescolas2019.xlsx"
      ]
    },
    {
      "cell_type": "code",
      "metadata": {
        "id": "ksorAQvJjuNF"
      },
      "source": [
        "xlsx = pd.ExcelFile(\"idepanosiniciaisescolas2019.xlsx\")"
      ],
      "execution_count": null,
      "outputs": []
    },
    {
      "cell_type": "code",
      "metadata": {
        "id": "phB5ywrDjweU"
      },
      "source": [
        "xlsx_1 = pd.read_excel(xlsx, 'FAIXA 1', skiprows = range(0, 1))\n",
        "xlsx_2 = pd.read_excel(xlsx, 'FAIXA 2', skiprows = range(0, 1))\n",
        "xlsx_3 = pd.read_excel(xlsx, 'FAIXA 3', skiprows = range(0, 1))\n",
        "xlsx_4 = pd.read_excel(xlsx, 'FAIXA 4', skiprows = range(0, 1))\n",
        "xlsx_5 = pd.read_excel(xlsx, 'FAIXA 5', skiprows = range(0, 1))\n",
        "xlsx_6 = pd.read_excel(xlsx, 'FAIXA 6', skiprows = range(0, 1))"
      ],
      "execution_count": null,
      "outputs": []
    },
    {
      "cell_type": "code",
      "metadata": {
        "id": "3pSFizcnkJZl"
      },
      "source": [
        "idep_anos_iniciais = pd.concat([xlsx_1, xlsx_2, xlsx_3, xlsx_4, xlsx_5, xlsx_6], axis = 0, ignore_index=True)"
      ],
      "execution_count": null,
      "outputs": []
    },
    {
      "cell_type": "code",
      "metadata": {
        "id": "8h4s8dNuwj5e"
      },
      "source": [
        "idep_anos_iniciais.reset_index(drop=True, inplace=True)"
      ],
      "execution_count": null,
      "outputs": []
    },
    {
      "cell_type": "code",
      "metadata": {
        "colab": {
          "base_uri": "https://localhost:8080/"
        },
        "id": "CYCBeEEAovQu",
        "outputId": "eadf5bba-0512-45ca-dba2-2b26f4d6bef4"
      },
      "source": [
        "display(idep_anos_iniciais)"
      ],
      "execution_count": null,
      "outputs": [
        {
          "output_type": "display_data",
          "data": {
            "text/html": [
              "<div>\n",
              "<style scoped>\n",
              "    .dataframe tbody tr th:only-of-type {\n",
              "        vertical-align: middle;\n",
              "    }\n",
              "\n",
              "    .dataframe tbody tr th {\n",
              "        vertical-align: top;\n",
              "    }\n",
              "\n",
              "    .dataframe thead th {\n",
              "        text-align: right;\n",
              "    }\n",
              "</style>\n",
              "<table border=\"1\" class=\"dataframe\">\n",
              "  <thead>\n",
              "    <tr style=\"text-align: right;\">\n",
              "      <th></th>\n",
              "      <th>Cod_Esc</th>\n",
              "      <th>Escola</th>\n",
              "      <th>Diretoria</th>\n",
              "      <th>Distrito</th>\n",
              "      <th>NSE</th>\n",
              "      <th>ICG</th>\n",
              "      <th>Faixa</th>\n",
              "      <th>2018</th>\n",
              "      <th>2019</th>\n",
              "      <th>2019.1</th>\n",
              "      <th>2020</th>\n",
              "      <th>2021</th>\n",
              "      <th>2022</th>\n",
              "      <th>2023</th>\n",
              "    </tr>\n",
              "  </thead>\n",
              "  <tbody>\n",
              "    <tr>\n",
              "      <th>0</th>\n",
              "      <td>191</td>\n",
              "      <td>EMEF ALIPIO CORREA NETO</td>\n",
              "      <td>BUTANTA</td>\n",
              "      <td>VILA SONIA</td>\n",
              "      <td>3</td>\n",
              "      <td>1</td>\n",
              "      <td>1</td>\n",
              "      <td>5.50931</td>\n",
              "      <td>4.93</td>\n",
              "      <td>5.69288</td>\n",
              "      <td>5.88089</td>\n",
              "      <td>6.07233</td>\n",
              "      <td>6.26611</td>\n",
              "      <td>6.46106</td>\n",
              "    </tr>\n",
              "    <tr>\n",
              "      <th>1</th>\n",
              "      <td>264</td>\n",
              "      <td>EMEF SYLVIO HECK ALMIRANTE</td>\n",
              "      <td>SANTO AMARO</td>\n",
              "      <td>PEDREIRA</td>\n",
              "      <td>3</td>\n",
              "      <td>1</td>\n",
              "      <td>1</td>\n",
              "      <td>4.48521</td>\n",
              "      <td>4.04</td>\n",
              "      <td>4.70024</td>\n",
              "      <td>4.9198</td>\n",
              "      <td>5.14285</td>\n",
              "      <td>5.36828</td>\n",
              "      <td>5.59489</td>\n",
              "    </tr>\n",
              "    <tr>\n",
              "      <th>2</th>\n",
              "      <td>477</td>\n",
              "      <td>EMEF EDA TEREZINHA CHICA MEDEIROS PROFA</td>\n",
              "      <td>BUTANTA</td>\n",
              "      <td>RAPOSO TAVARES</td>\n",
              "      <td>3</td>\n",
              "      <td>1</td>\n",
              "      <td>1</td>\n",
              "      <td>4.78085</td>\n",
              "      <td>4.3</td>\n",
              "      <td>5.00168</td>\n",
              "      <td>5.22844</td>\n",
              "      <td>5.45977</td>\n",
              "      <td>5.69423</td>\n",
              "      <td>5.93027</td>\n",
              "    </tr>\n",
              "    <tr>\n",
              "      <th>3</th>\n",
              "      <td>8842</td>\n",
              "      <td>EMEF SEBASTIAO FRANCISCO O NEGRO</td>\n",
              "      <td>ITAQUERA</td>\n",
              "      <td>PARQUE DO CARMO</td>\n",
              "      <td>3</td>\n",
              "      <td>1</td>\n",
              "      <td>1</td>\n",
              "      <td>4.86494</td>\n",
              "      <td>4.79</td>\n",
              "      <td>5.08516</td>\n",
              "      <td>5.31152</td>\n",
              "      <td>5.54266</td>\n",
              "      <td>5.77704</td>\n",
              "      <td>6.01308</td>\n",
              "    </tr>\n",
              "    <tr>\n",
              "      <th>4</th>\n",
              "      <td>10049</td>\n",
              "      <td>EMEF CHICO FALCONE PADRE</td>\n",
              "      <td>SAO MIGUEL</td>\n",
              "      <td>VILA CURUCA</td>\n",
              "      <td>3</td>\n",
              "      <td>1</td>\n",
              "      <td>1</td>\n",
              "      <td>4.61271</td>\n",
              "      <td>4.7</td>\n",
              "      <td>4.82765</td>\n",
              "      <td>5.04744</td>\n",
              "      <td>5.27095</td>\n",
              "      <td>5.49701</td>\n",
              "      <td>5.72434</td>\n",
              "    </tr>\n",
              "    <tr>\n",
              "      <th>...</th>\n",
              "      <td>...</td>\n",
              "      <td>...</td>\n",
              "      <td>...</td>\n",
              "      <td>...</td>\n",
              "      <td>...</td>\n",
              "      <td>...</td>\n",
              "      <td>...</td>\n",
              "      <td>...</td>\n",
              "      <td>...</td>\n",
              "      <td>...</td>\n",
              "      <td>...</td>\n",
              "      <td>...</td>\n",
              "      <td>...</td>\n",
              "      <td>...</td>\n",
              "    </tr>\n",
              "    <tr>\n",
              "      <th>545</th>\n",
              "      <td>93203</td>\n",
              "      <td>EMEF LAERTE RAMOS CARVALHO PROF</td>\n",
              "      <td>SANTO AMARO</td>\n",
              "      <td>CAMPO GRANDE</td>\n",
              "      <td>5</td>\n",
              "      <td>1</td>\n",
              "      <td>5</td>\n",
              "      <td>6.02143</td>\n",
              "      <td>5.66</td>\n",
              "      <td>6.18793</td>\n",
              "      <td>6.35876</td>\n",
              "      <td>6.53292</td>\n",
              "      <td>6.70936</td>\n",
              "      <td>6.88695</td>\n",
              "    </tr>\n",
              "    <tr>\n",
              "      <th>546</th>\n",
              "      <td>93173</td>\n",
              "      <td>EMEF JOAQUIM CANDIDO A MARQUES DESEMBARGADOR</td>\n",
              "      <td>SANTO AMARO</td>\n",
              "      <td>SANTO AMARO</td>\n",
              "      <td>5</td>\n",
              "      <td>1</td>\n",
              "      <td>5</td>\n",
              "      <td>6.61646</td>\n",
              "      <td>5.68</td>\n",
              "      <td>6.77352</td>\n",
              "      <td>6.93623</td>\n",
              "      <td>7.10336</td>\n",
              "      <td>7.27353</td>\n",
              "      <td>7.44524</td>\n",
              "    </tr>\n",
              "    <tr>\n",
              "      <th>547</th>\n",
              "      <td>92711</td>\n",
              "      <td>EMEF DEODORO DA FONSECA MAL</td>\n",
              "      <td>BUTANTA</td>\n",
              "      <td>BUTANTA</td>\n",
              "      <td>5</td>\n",
              "      <td>2</td>\n",
              "      <td>6</td>\n",
              "      <td>5.4673</td>\n",
              "      <td>4.97</td>\n",
              "      <td>5.6532</td>\n",
              "      <td>5.84365</td>\n",
              "      <td>6.0376</td>\n",
              "      <td>6.23394</td>\n",
              "      <td>6.43149</td>\n",
              "    </tr>\n",
              "    <tr>\n",
              "      <th>548</th>\n",
              "      <td>93742</td>\n",
              "      <td>EMEF LUIS SAIA ARQUITETO</td>\n",
              "      <td>SAO MIGUEL</td>\n",
              "      <td>SAO MIGUEL</td>\n",
              "      <td>5</td>\n",
              "      <td>2</td>\n",
              "      <td>6</td>\n",
              "      <td>5.1715</td>\n",
              "      <td>4.65</td>\n",
              "      <td>5.37164</td>\n",
              "      <td>5.57683</td>\n",
              "      <td>5.78592</td>\n",
              "      <td>5.99766</td>\n",
              "      <td>6.21075</td>\n",
              "    </tr>\n",
              "    <tr>\n",
              "      <th>549</th>\n",
              "      <td>93955</td>\n",
              "      <td>EMEF JACKSON DE FIGUEIREDO</td>\n",
              "      <td>PENHA</td>\n",
              "      <td>TATUAPE</td>\n",
              "      <td>5</td>\n",
              "      <td>2</td>\n",
              "      <td>6</td>\n",
              "      <td>5.61821</td>\n",
              "      <td>5.48</td>\n",
              "      <td>5.81068</td>\n",
              "      <td>6.00895</td>\n",
              "      <td>6.21171</td>\n",
              "      <td>6.41755</td>\n",
              "      <td>6.62494</td>\n",
              "    </tr>\n",
              "  </tbody>\n",
              "</table>\n",
              "<p>550 rows × 14 columns</p>\n",
              "</div>"
            ],
            "text/plain": [
              "     Cod_Esc                                        Escola  ...     2022     2023\n",
              "0        191                       EMEF ALIPIO CORREA NETO  ...  6.26611  6.46106\n",
              "1        264                    EMEF SYLVIO HECK ALMIRANTE  ...  5.36828  5.59489\n",
              "2        477       EMEF EDA TEREZINHA CHICA MEDEIROS PROFA  ...  5.69423  5.93027\n",
              "3       8842              EMEF SEBASTIAO FRANCISCO O NEGRO  ...  5.77704  6.01308\n",
              "4      10049                      EMEF CHICO FALCONE PADRE  ...  5.49701  5.72434\n",
              "..       ...                                           ...  ...      ...      ...\n",
              "545    93203               EMEF LAERTE RAMOS CARVALHO PROF  ...  6.70936  6.88695\n",
              "546    93173  EMEF JOAQUIM CANDIDO A MARQUES DESEMBARGADOR  ...  7.27353  7.44524\n",
              "547    92711                   EMEF DEODORO DA FONSECA MAL  ...  6.23394  6.43149\n",
              "548    93742                      EMEF LUIS SAIA ARQUITETO  ...  5.99766  6.21075\n",
              "549    93955                    EMEF JACKSON DE FIGUEIREDO  ...  6.41755  6.62494\n",
              "\n",
              "[550 rows x 14 columns]"
            ]
          },
          "metadata": {}
        }
      ]
    },
    {
      "cell_type": "markdown",
      "metadata": {
        "id": "DlUJXkEfm_dj"
      },
      "source": [
        "#**Modelagem 1 -  anos iniciais**\n",
        "\n",
        "*   Renomear Colunas\n",
        "*   Substituir '*' por '0'\n",
        "*   Converter colunas 'object' em 'float'\n",
        "\n"
      ]
    },
    {
      "cell_type": "code",
      "metadata": {
        "id": "Fd8vLxV-vlYq"
      },
      "source": [
        "idep_anos_iniciais = idep_anos_iniciais.rename(columns={'NSE' : 'nse', 'ICG':'icg','Faixa':'faixa', 2018: 'idep_2018', 2019: 'idep_2019', '2019.1':'meta_2019', 2020 : 'meta_2020', 2021:'meta_2021', 2022:'meta_2022', 2023:'meta_2023'})"
      ],
      "execution_count": null,
      "outputs": []
    },
    {
      "cell_type": "code",
      "metadata": {
        "colab": {
          "base_uri": "https://localhost:8080/"
        },
        "id": "tS64Z72JGA0N",
        "outputId": "eab44ba2-8683-4659-a7a8-4f62e417934a"
      },
      "source": [
        "idep_anos_iniciais.info()"
      ],
      "execution_count": null,
      "outputs": [
        {
          "output_type": "stream",
          "name": "stdout",
          "text": [
            "<class 'pandas.core.frame.DataFrame'>\n",
            "RangeIndex: 550 entries, 0 to 549\n",
            "Data columns (total 14 columns):\n",
            " #   Column     Non-Null Count  Dtype \n",
            "---  ------     --------------  ----- \n",
            " 0   Cod_Esc    550 non-null    int64 \n",
            " 1   Escola     550 non-null    object\n",
            " 2   Diretoria  550 non-null    object\n",
            " 3   Distrito   550 non-null    object\n",
            " 4   nse        550 non-null    int64 \n",
            " 5   icg        550 non-null    int64 \n",
            " 6   faixa      550 non-null    int64 \n",
            " 7   idep_2018  550 non-null    object\n",
            " 8   idep_2019  550 non-null    object\n",
            " 9   meta_2019  550 non-null    object\n",
            " 10  meta_2020  550 non-null    object\n",
            " 11  meta_2021  550 non-null    object\n",
            " 12  meta_2022  550 non-null    object\n",
            " 13  meta_2023  550 non-null    object\n",
            "dtypes: int64(4), object(10)\n",
            "memory usage: 60.3+ KB\n"
          ]
        }
      ]
    },
    {
      "cell_type": "code",
      "metadata": {
        "colab": {
          "base_uri": "https://localhost:8080/"
        },
        "id": "5VNLlqzrMqmy",
        "outputId": "ebea6ea6-9d0c-4c56-e1c6-1fc9dba173e8"
      },
      "source": [
        "idep_anos_iniciais.iloc[529:533]"
      ],
      "execution_count": null,
      "outputs": [
        {
          "output_type": "execute_result",
          "data": {
            "text/html": [
              "<div>\n",
              "<style scoped>\n",
              "    .dataframe tbody tr th:only-of-type {\n",
              "        vertical-align: middle;\n",
              "    }\n",
              "\n",
              "    .dataframe tbody tr th {\n",
              "        vertical-align: top;\n",
              "    }\n",
              "\n",
              "    .dataframe thead th {\n",
              "        text-align: right;\n",
              "    }\n",
              "</style>\n",
              "<table border=\"1\" class=\"dataframe\">\n",
              "  <thead>\n",
              "    <tr style=\"text-align: right;\">\n",
              "      <th></th>\n",
              "      <th>Cod_Esc</th>\n",
              "      <th>Escola</th>\n",
              "      <th>Diretoria</th>\n",
              "      <th>Distrito</th>\n",
              "      <th>nse</th>\n",
              "      <th>icg</th>\n",
              "      <th>faixa</th>\n",
              "      <th>idep_2018</th>\n",
              "      <th>idep_2019</th>\n",
              "      <th>meta_2019</th>\n",
              "      <th>meta_2020</th>\n",
              "      <th>meta_2021</th>\n",
              "      <th>meta_2022</th>\n",
              "      <th>meta_2023</th>\n",
              "    </tr>\n",
              "  </thead>\n",
              "  <tbody>\n",
              "    <tr>\n",
              "      <th>529</th>\n",
              "      <td>95036</td>\n",
              "      <td>EMEF LEAO MACHADO PROF</td>\n",
              "      <td>IPIRANGA</td>\n",
              "      <td>SACOMA</td>\n",
              "      <td>4</td>\n",
              "      <td>2</td>\n",
              "      <td>4</td>\n",
              "      <td>5.85688</td>\n",
              "      <td>5.3</td>\n",
              "      <td>6.02961</td>\n",
              "      <td>6.20677</td>\n",
              "      <td>6.38735</td>\n",
              "      <td>6.57027</td>\n",
              "      <td>6.75437</td>\n",
              "    </tr>\n",
              "    <tr>\n",
              "      <th>530</th>\n",
              "      <td>19303</td>\n",
              "      <td>CEU EMEF CASA BLANCA</td>\n",
              "      <td>CAMPO LIMPO</td>\n",
              "      <td>JARDIM SAO LUIS</td>\n",
              "      <td>4</td>\n",
              "      <td>2</td>\n",
              "      <td>4</td>\n",
              "      <td>6.00472</td>\n",
              "      <td>5.9</td>\n",
              "      <td>6.18713</td>\n",
              "      <td>6.37576</td>\n",
              "      <td>6.56922</td>\n",
              "      <td>6.76602</td>\n",
              "      <td>6.9645</td>\n",
              "    </tr>\n",
              "    <tr>\n",
              "      <th>531</th>\n",
              "      <td>19291</td>\n",
              "      <td>EMEF VARGEM GRANDE</td>\n",
              "      <td>CAPELA DO SOCORRO</td>\n",
              "      <td>PARELHEIROS</td>\n",
              "      <td>4</td>\n",
              "      <td>2</td>\n",
              "      <td>4</td>\n",
              "      <td>*</td>\n",
              "      <td>*</td>\n",
              "      <td>*</td>\n",
              "      <td>*</td>\n",
              "      <td>*</td>\n",
              "      <td>*</td>\n",
              "      <td>*</td>\n",
              "    </tr>\n",
              "    <tr>\n",
              "      <th>532</th>\n",
              "      <td>93319</td>\n",
              "      <td>EMEF ALMEIDA JUNIOR PROF</td>\n",
              "      <td>CAPELA DO SOCORRO</td>\n",
              "      <td>SOCORRO</td>\n",
              "      <td>5</td>\n",
              "      <td>1</td>\n",
              "      <td>5</td>\n",
              "      <td>5.19577</td>\n",
              "      <td>4.91</td>\n",
              "      <td>5.40858</td>\n",
              "      <td>5.62796</td>\n",
              "      <td>5.85245</td>\n",
              "      <td>6.08044</td>\n",
              "      <td>6.3102</td>\n",
              "    </tr>\n",
              "  </tbody>\n",
              "</table>\n",
              "</div>"
            ],
            "text/plain": [
              "     Cod_Esc                    Escola  ... meta_2022 meta_2023\n",
              "529    95036    EMEF LEAO MACHADO PROF  ...   6.57027   6.75437\n",
              "530    19303      CEU EMEF CASA BLANCA  ...   6.76602    6.9645\n",
              "531    19291        EMEF VARGEM GRANDE  ...         *         *\n",
              "532    93319  EMEF ALMEIDA JUNIOR PROF  ...   6.08044    6.3102\n",
              "\n",
              "[4 rows x 14 columns]"
            ]
          },
          "metadata": {},
          "execution_count": 211
        }
      ]
    },
    {
      "cell_type": "markdown",
      "metadata": {
        "id": "Lug_xJ3EOPMA"
      },
      "source": [
        "Necessário substituir os '*' para valor númerico 0 como str"
      ]
    },
    {
      "cell_type": "code",
      "metadata": {
        "id": "DxTVvGAsVoqx"
      },
      "source": [
        "idep_anos_iniciais.loc[idep_anos_iniciais.idep_2018 == '*', 'idep_2018'] = '0'\n",
        "idep_anos_iniciais.loc[idep_anos_iniciais.idep_2019 == '*', 'idep_2019'] = '0'\n",
        "idep_anos_iniciais.loc[idep_anos_iniciais.meta_2019 == '*', 'meta_2019'] = '0'\n",
        "idep_anos_iniciais.loc[idep_anos_iniciais.meta_2020 == '*', 'meta_2020'] = '0'\n",
        "idep_anos_iniciais.loc[idep_anos_iniciais.meta_2021 == '*', 'meta_2021'] = '0'\n",
        "idep_anos_iniciais.loc[idep_anos_iniciais.meta_2022 == '*', 'meta_2022'] = '0'\n",
        "idep_anos_iniciais.loc[idep_anos_iniciais.meta_2023 == '*', 'meta_2023'] = '0'"
      ],
      "execution_count": null,
      "outputs": []
    },
    {
      "cell_type": "code",
      "metadata": {
        "colab": {
          "base_uri": "https://localhost:8080/"
        },
        "id": "QdabESs5WkJF",
        "outputId": "7765d14c-c69b-421a-fe7c-d160ed6104e2"
      },
      "source": [
        "idep_anos_iniciais.iloc[529:533]"
      ],
      "execution_count": null,
      "outputs": [
        {
          "output_type": "execute_result",
          "data": {
            "text/html": [
              "<div>\n",
              "<style scoped>\n",
              "    .dataframe tbody tr th:only-of-type {\n",
              "        vertical-align: middle;\n",
              "    }\n",
              "\n",
              "    .dataframe tbody tr th {\n",
              "        vertical-align: top;\n",
              "    }\n",
              "\n",
              "    .dataframe thead th {\n",
              "        text-align: right;\n",
              "    }\n",
              "</style>\n",
              "<table border=\"1\" class=\"dataframe\">\n",
              "  <thead>\n",
              "    <tr style=\"text-align: right;\">\n",
              "      <th></th>\n",
              "      <th>Cod_Esc</th>\n",
              "      <th>Escola</th>\n",
              "      <th>Diretoria</th>\n",
              "      <th>Distrito</th>\n",
              "      <th>nse</th>\n",
              "      <th>icg</th>\n",
              "      <th>faixa</th>\n",
              "      <th>idep_2018</th>\n",
              "      <th>idep_2019</th>\n",
              "      <th>meta_2019</th>\n",
              "      <th>meta_2020</th>\n",
              "      <th>meta_2021</th>\n",
              "      <th>meta_2022</th>\n",
              "      <th>meta_2023</th>\n",
              "    </tr>\n",
              "  </thead>\n",
              "  <tbody>\n",
              "    <tr>\n",
              "      <th>529</th>\n",
              "      <td>95036</td>\n",
              "      <td>EMEF LEAO MACHADO PROF</td>\n",
              "      <td>IPIRANGA</td>\n",
              "      <td>SACOMA</td>\n",
              "      <td>4</td>\n",
              "      <td>2</td>\n",
              "      <td>4</td>\n",
              "      <td>5.85688</td>\n",
              "      <td>5.3</td>\n",
              "      <td>6.02961</td>\n",
              "      <td>6.20677</td>\n",
              "      <td>6.38735</td>\n",
              "      <td>6.57027</td>\n",
              "      <td>6.75437</td>\n",
              "    </tr>\n",
              "    <tr>\n",
              "      <th>530</th>\n",
              "      <td>19303</td>\n",
              "      <td>CEU EMEF CASA BLANCA</td>\n",
              "      <td>CAMPO LIMPO</td>\n",
              "      <td>JARDIM SAO LUIS</td>\n",
              "      <td>4</td>\n",
              "      <td>2</td>\n",
              "      <td>4</td>\n",
              "      <td>6.00472</td>\n",
              "      <td>5.9</td>\n",
              "      <td>6.18713</td>\n",
              "      <td>6.37576</td>\n",
              "      <td>6.56922</td>\n",
              "      <td>6.76602</td>\n",
              "      <td>6.9645</td>\n",
              "    </tr>\n",
              "    <tr>\n",
              "      <th>531</th>\n",
              "      <td>19291</td>\n",
              "      <td>EMEF VARGEM GRANDE</td>\n",
              "      <td>CAPELA DO SOCORRO</td>\n",
              "      <td>PARELHEIROS</td>\n",
              "      <td>4</td>\n",
              "      <td>2</td>\n",
              "      <td>4</td>\n",
              "      <td>0</td>\n",
              "      <td>0</td>\n",
              "      <td>0</td>\n",
              "      <td>0</td>\n",
              "      <td>0</td>\n",
              "      <td>0</td>\n",
              "      <td>0</td>\n",
              "    </tr>\n",
              "    <tr>\n",
              "      <th>532</th>\n",
              "      <td>93319</td>\n",
              "      <td>EMEF ALMEIDA JUNIOR PROF</td>\n",
              "      <td>CAPELA DO SOCORRO</td>\n",
              "      <td>SOCORRO</td>\n",
              "      <td>5</td>\n",
              "      <td>1</td>\n",
              "      <td>5</td>\n",
              "      <td>5.19577</td>\n",
              "      <td>4.91</td>\n",
              "      <td>5.40858</td>\n",
              "      <td>5.62796</td>\n",
              "      <td>5.85245</td>\n",
              "      <td>6.08044</td>\n",
              "      <td>6.3102</td>\n",
              "    </tr>\n",
              "  </tbody>\n",
              "</table>\n",
              "</div>"
            ],
            "text/plain": [
              "     Cod_Esc                    Escola  ... meta_2022 meta_2023\n",
              "529    95036    EMEF LEAO MACHADO PROF  ...   6.57027   6.75437\n",
              "530    19303      CEU EMEF CASA BLANCA  ...   6.76602    6.9645\n",
              "531    19291        EMEF VARGEM GRANDE  ...         0         0\n",
              "532    93319  EMEF ALMEIDA JUNIOR PROF  ...   6.08044    6.3102\n",
              "\n",
              "[4 rows x 14 columns]"
            ]
          },
          "metadata": {},
          "execution_count": 213
        }
      ]
    },
    {
      "cell_type": "markdown",
      "metadata": {
        "id": "KTU-rEhPa1fr"
      },
      "source": [
        "Converter colunas 'object' em 'float'"
      ]
    },
    {
      "cell_type": "code",
      "metadata": {
        "id": "6SRFFYTja5Qq"
      },
      "source": [
        "idep_anos_iniciais['idep_2018'] = idep_anos_iniciais['idep_2018'].astype('float')\n",
        "idep_anos_iniciais['idep_2019'] = idep_anos_iniciais['idep_2019'].astype('float')\n",
        "idep_anos_iniciais['meta_2019'] = idep_anos_iniciais['meta_2019'].astype('float')\n",
        "idep_anos_iniciais['meta_2020'] = idep_anos_iniciais['meta_2020'].astype('float')\n",
        "idep_anos_iniciais['meta_2021'] = idep_anos_iniciais['meta_2021'].astype('float')\n",
        "idep_anos_iniciais['meta_2022'] = idep_anos_iniciais['meta_2022'].astype('float')\n",
        "idep_anos_iniciais['meta_2023'] = idep_anos_iniciais['meta_2023'].astype('float')"
      ],
      "execution_count": null,
      "outputs": []
    },
    {
      "cell_type": "code",
      "metadata": {
        "colab": {
          "base_uri": "https://localhost:8080/"
        },
        "id": "BqSrXcYubJTc",
        "outputId": "2b9bc8ac-e134-4142-96a6-42e1b1706c07"
      },
      "source": [
        "idep_anos_iniciais.info()"
      ],
      "execution_count": null,
      "outputs": [
        {
          "output_type": "stream",
          "name": "stdout",
          "text": [
            "<class 'pandas.core.frame.DataFrame'>\n",
            "RangeIndex: 550 entries, 0 to 549\n",
            "Data columns (total 14 columns):\n",
            " #   Column     Non-Null Count  Dtype  \n",
            "---  ------     --------------  -----  \n",
            " 0   Cod_Esc    550 non-null    int64  \n",
            " 1   Escola     550 non-null    object \n",
            " 2   Diretoria  550 non-null    object \n",
            " 3   Distrito   550 non-null    object \n",
            " 4   nse        550 non-null    int64  \n",
            " 5   icg        550 non-null    int64  \n",
            " 6   faixa      550 non-null    int64  \n",
            " 7   idep_2018  550 non-null    float64\n",
            " 8   idep_2019  550 non-null    float64\n",
            " 9   meta_2019  550 non-null    float64\n",
            " 10  meta_2020  550 non-null    float64\n",
            " 11  meta_2021  550 non-null    float64\n",
            " 12  meta_2022  550 non-null    float64\n",
            " 13  meta_2023  550 non-null    float64\n",
            "dtypes: float64(7), int64(4), object(3)\n",
            "memory usage: 60.3+ KB\n"
          ]
        }
      ]
    },
    {
      "cell_type": "markdown",
      "metadata": {
        "id": "1QbC6BNOZITc"
      },
      "source": [
        "#**Modelagem 2 -  anos finais**\n",
        "\n",
        "*   Renomear Colunas\n",
        "*   Substituir '*' por '0'\n",
        "*   Converter colunas 'object' em 'float'\n"
      ]
    },
    {
      "cell_type": "code",
      "metadata": {
        "id": "NKXtP6IOZKAO"
      },
      "source": [
        "idep_anos_finais = idep_anos_finais.rename(columns={'NSE' : 'nse', 'ICG':'icg','Faixa':'faixa', 2018: 'idep_2018', 2019: 'idep_2019', '2019.1':'meta_2019', 2020 : 'meta_2020', 2021:'meta_2021', 2022:'meta_2022', 2023:'meta_2023'})"
      ],
      "execution_count": null,
      "outputs": []
    },
    {
      "cell_type": "code",
      "metadata": {
        "colab": {
          "base_uri": "https://localhost:8080/"
        },
        "id": "HG7VD_FRZKC8",
        "outputId": "6cc74a23-7744-403c-f0b7-281dc7d65170"
      },
      "source": [
        "idep_anos_finais.info()"
      ],
      "execution_count": null,
      "outputs": [
        {
          "output_type": "stream",
          "name": "stdout",
          "text": [
            "<class 'pandas.core.frame.DataFrame'>\n",
            "RangeIndex: 550 entries, 0 to 549\n",
            "Data columns (total 14 columns):\n",
            " #   Column     Non-Null Count  Dtype \n",
            "---  ------     --------------  ----- \n",
            " 0   Cod_Esc    550 non-null    int64 \n",
            " 1   Escola     550 non-null    object\n",
            " 2   Diretoria  550 non-null    object\n",
            " 3   Distrito   550 non-null    object\n",
            " 4   nse        550 non-null    int64 \n",
            " 5   icg        550 non-null    int64 \n",
            " 6   faixa      550 non-null    int64 \n",
            " 7   idep_2018  550 non-null    object\n",
            " 8   idep_2019  550 non-null    object\n",
            " 9   meta_2019  550 non-null    object\n",
            " 10  meta_2020  550 non-null    object\n",
            " 11  meta_2021  550 non-null    object\n",
            " 12  meta_2022  550 non-null    object\n",
            " 13  meta_2023  550 non-null    object\n",
            "dtypes: int64(4), object(10)\n",
            "memory usage: 60.3+ KB\n"
          ]
        }
      ]
    },
    {
      "cell_type": "code",
      "metadata": {
        "colab": {
          "base_uri": "https://localhost:8080/"
        },
        "id": "3QRvWBSJZKFs",
        "outputId": "27a7b6c9-1b3f-4040-f7da-7dd0c6a912f4"
      },
      "source": [
        "idep_anos_finais.iloc[529:533]"
      ],
      "execution_count": null,
      "outputs": [
        {
          "output_type": "execute_result",
          "data": {
            "text/html": [
              "<div>\n",
              "<style scoped>\n",
              "    .dataframe tbody tr th:only-of-type {\n",
              "        vertical-align: middle;\n",
              "    }\n",
              "\n",
              "    .dataframe tbody tr th {\n",
              "        vertical-align: top;\n",
              "    }\n",
              "\n",
              "    .dataframe thead th {\n",
              "        text-align: right;\n",
              "    }\n",
              "</style>\n",
              "<table border=\"1\" class=\"dataframe\">\n",
              "  <thead>\n",
              "    <tr style=\"text-align: right;\">\n",
              "      <th></th>\n",
              "      <th>Cod_Esc</th>\n",
              "      <th>Escola</th>\n",
              "      <th>Diretoria</th>\n",
              "      <th>Distrito</th>\n",
              "      <th>nse</th>\n",
              "      <th>icg</th>\n",
              "      <th>faixa</th>\n",
              "      <th>idep_2018</th>\n",
              "      <th>idep_2019</th>\n",
              "      <th>meta_2019</th>\n",
              "      <th>meta_2020</th>\n",
              "      <th>meta_2021</th>\n",
              "      <th>meta_2022</th>\n",
              "      <th>meta_2023</th>\n",
              "    </tr>\n",
              "  </thead>\n",
              "  <tbody>\n",
              "    <tr>\n",
              "      <th>529</th>\n",
              "      <td>93963</td>\n",
              "      <td>EMEF JOAO PINHEIRO PRESIDENTE</td>\n",
              "      <td>PENHA</td>\n",
              "      <td>VILA MATILDE</td>\n",
              "      <td>4</td>\n",
              "      <td>2</td>\n",
              "      <td>4</td>\n",
              "      <td>5.76835</td>\n",
              "      <td>5.37</td>\n",
              "      <td>5.94752</td>\n",
              "      <td>6.13151</td>\n",
              "      <td>6.31923</td>\n",
              "      <td>6.50948</td>\n",
              "      <td>6.70102</td>\n",
              "    </tr>\n",
              "    <tr>\n",
              "      <th>530</th>\n",
              "      <td>19500</td>\n",
              "      <td>EMEF HERBERT DE SOUZA - BETINHO</td>\n",
              "      <td>CAMPO LIMPO</td>\n",
              "      <td>CAPAO REDONDO</td>\n",
              "      <td>4</td>\n",
              "      <td>2</td>\n",
              "      <td>4</td>\n",
              "      <td>*</td>\n",
              "      <td>*</td>\n",
              "      <td>*</td>\n",
              "      <td>*</td>\n",
              "      <td>*</td>\n",
              "      <td>*</td>\n",
              "      <td>*</td>\n",
              "    </tr>\n",
              "    <tr>\n",
              "      <th>531</th>\n",
              "      <td>99112</td>\n",
              "      <td>EMEF PRACINHAS DA FEB</td>\n",
              "      <td>CAMPO LIMPO</td>\n",
              "      <td>JARDIM SAO LUIS</td>\n",
              "      <td>4</td>\n",
              "      <td>2</td>\n",
              "      <td>4</td>\n",
              "      <td>*</td>\n",
              "      <td>*</td>\n",
              "      <td>*</td>\n",
              "      <td>*</td>\n",
              "      <td>*</td>\n",
              "      <td>*</td>\n",
              "      <td>*</td>\n",
              "    </tr>\n",
              "    <tr>\n",
              "      <th>532</th>\n",
              "      <td>94021</td>\n",
              "      <td>EMEF VISCONDE DE CAIRU</td>\n",
              "      <td>PENHA</td>\n",
              "      <td>VILA MATILDE</td>\n",
              "      <td>5</td>\n",
              "      <td>1</td>\n",
              "      <td>5</td>\n",
              "      <td>4.71759</td>\n",
              "      <td>4.83</td>\n",
              "      <td>4.85973</td>\n",
              "      <td>5.00302</td>\n",
              "      <td>5.14717</td>\n",
              "      <td>5.29191</td>\n",
              "      <td>5.43694</td>\n",
              "    </tr>\n",
              "  </tbody>\n",
              "</table>\n",
              "</div>"
            ],
            "text/plain": [
              "     Cod_Esc                           Escola  ... meta_2022 meta_2023\n",
              "529    93963    EMEF JOAO PINHEIRO PRESIDENTE  ...   6.50948   6.70102\n",
              "530    19500  EMEF HERBERT DE SOUZA - BETINHO  ...         *         *\n",
              "531    99112            EMEF PRACINHAS DA FEB  ...         *         *\n",
              "532    94021           EMEF VISCONDE DE CAIRU  ...   5.29191   5.43694\n",
              "\n",
              "[4 rows x 14 columns]"
            ]
          },
          "metadata": {},
          "execution_count": 218
        }
      ]
    },
    {
      "cell_type": "code",
      "metadata": {
        "id": "DJ4h_rdLdNrK"
      },
      "source": [
        "idep_anos_finais.loc[idep_anos_finais.idep_2018 == '*', 'idep_2018'] = '0'\n",
        "idep_anos_finais.loc[idep_anos_finais.idep_2019 == '*', 'idep_2019'] = '0'\n",
        "idep_anos_finais.loc[idep_anos_finais.meta_2019 == '*', 'meta_2019'] = '0'\n",
        "idep_anos_finais.loc[idep_anos_finais.meta_2020 == '*', 'meta_2020'] = '0'\n",
        "idep_anos_finais.loc[idep_anos_finais.meta_2021 == '*', 'meta_2021'] = '0'\n",
        "idep_anos_finais.loc[idep_anos_finais.meta_2022 == '*', 'meta_2022'] = '0'\n",
        "idep_anos_finais.loc[idep_anos_finais.meta_2023 == '*', 'meta_2023'] = '0'"
      ],
      "execution_count": null,
      "outputs": []
    },
    {
      "cell_type": "code",
      "metadata": {
        "id": "O3Ac34Bdj6gG",
        "colab": {
          "base_uri": "https://localhost:8080/"
        },
        "outputId": "33013094-46db-467e-d7ce-5c68c79ffe5a"
      },
      "source": [
        "idep_anos_finais.iloc[529:533]"
      ],
      "execution_count": null,
      "outputs": [
        {
          "output_type": "execute_result",
          "data": {
            "text/html": [
              "<div>\n",
              "<style scoped>\n",
              "    .dataframe tbody tr th:only-of-type {\n",
              "        vertical-align: middle;\n",
              "    }\n",
              "\n",
              "    .dataframe tbody tr th {\n",
              "        vertical-align: top;\n",
              "    }\n",
              "\n",
              "    .dataframe thead th {\n",
              "        text-align: right;\n",
              "    }\n",
              "</style>\n",
              "<table border=\"1\" class=\"dataframe\">\n",
              "  <thead>\n",
              "    <tr style=\"text-align: right;\">\n",
              "      <th></th>\n",
              "      <th>Cod_Esc</th>\n",
              "      <th>Escola</th>\n",
              "      <th>Diretoria</th>\n",
              "      <th>Distrito</th>\n",
              "      <th>nse</th>\n",
              "      <th>icg</th>\n",
              "      <th>faixa</th>\n",
              "      <th>idep_2018</th>\n",
              "      <th>idep_2019</th>\n",
              "      <th>meta_2019</th>\n",
              "      <th>meta_2020</th>\n",
              "      <th>meta_2021</th>\n",
              "      <th>meta_2022</th>\n",
              "      <th>meta_2023</th>\n",
              "    </tr>\n",
              "  </thead>\n",
              "  <tbody>\n",
              "    <tr>\n",
              "      <th>529</th>\n",
              "      <td>93963</td>\n",
              "      <td>EMEF JOAO PINHEIRO PRESIDENTE</td>\n",
              "      <td>PENHA</td>\n",
              "      <td>VILA MATILDE</td>\n",
              "      <td>4</td>\n",
              "      <td>2</td>\n",
              "      <td>4</td>\n",
              "      <td>5.76835</td>\n",
              "      <td>5.37</td>\n",
              "      <td>5.94752</td>\n",
              "      <td>6.13151</td>\n",
              "      <td>6.31923</td>\n",
              "      <td>6.50948</td>\n",
              "      <td>6.70102</td>\n",
              "    </tr>\n",
              "    <tr>\n",
              "      <th>530</th>\n",
              "      <td>19500</td>\n",
              "      <td>EMEF HERBERT DE SOUZA - BETINHO</td>\n",
              "      <td>CAMPO LIMPO</td>\n",
              "      <td>CAPAO REDONDO</td>\n",
              "      <td>4</td>\n",
              "      <td>2</td>\n",
              "      <td>4</td>\n",
              "      <td>0</td>\n",
              "      <td>0</td>\n",
              "      <td>0</td>\n",
              "      <td>0</td>\n",
              "      <td>0</td>\n",
              "      <td>0</td>\n",
              "      <td>0</td>\n",
              "    </tr>\n",
              "    <tr>\n",
              "      <th>531</th>\n",
              "      <td>99112</td>\n",
              "      <td>EMEF PRACINHAS DA FEB</td>\n",
              "      <td>CAMPO LIMPO</td>\n",
              "      <td>JARDIM SAO LUIS</td>\n",
              "      <td>4</td>\n",
              "      <td>2</td>\n",
              "      <td>4</td>\n",
              "      <td>0</td>\n",
              "      <td>0</td>\n",
              "      <td>0</td>\n",
              "      <td>0</td>\n",
              "      <td>0</td>\n",
              "      <td>0</td>\n",
              "      <td>0</td>\n",
              "    </tr>\n",
              "    <tr>\n",
              "      <th>532</th>\n",
              "      <td>94021</td>\n",
              "      <td>EMEF VISCONDE DE CAIRU</td>\n",
              "      <td>PENHA</td>\n",
              "      <td>VILA MATILDE</td>\n",
              "      <td>5</td>\n",
              "      <td>1</td>\n",
              "      <td>5</td>\n",
              "      <td>4.71759</td>\n",
              "      <td>4.83</td>\n",
              "      <td>4.85973</td>\n",
              "      <td>5.00302</td>\n",
              "      <td>5.14717</td>\n",
              "      <td>5.29191</td>\n",
              "      <td>5.43694</td>\n",
              "    </tr>\n",
              "  </tbody>\n",
              "</table>\n",
              "</div>"
            ],
            "text/plain": [
              "     Cod_Esc                           Escola  ... meta_2022 meta_2023\n",
              "529    93963    EMEF JOAO PINHEIRO PRESIDENTE  ...   6.50948   6.70102\n",
              "530    19500  EMEF HERBERT DE SOUZA - BETINHO  ...         0         0\n",
              "531    99112            EMEF PRACINHAS DA FEB  ...         0         0\n",
              "532    94021           EMEF VISCONDE DE CAIRU  ...   5.29191   5.43694\n",
              "\n",
              "[4 rows x 14 columns]"
            ]
          },
          "metadata": {},
          "execution_count": 220
        }
      ]
    },
    {
      "cell_type": "code",
      "metadata": {
        "id": "kYi1hjQ6dNuY"
      },
      "source": [
        "idep_anos_finais['idep_2018'] = idep_anos_finais['idep_2018'].astype('float')\n",
        "idep_anos_finais['idep_2019'] = idep_anos_finais['idep_2019'].astype('float')\n",
        "idep_anos_finais['meta_2019'] = idep_anos_finais['meta_2019'].astype('float')\n",
        "idep_anos_finais['meta_2020'] = idep_anos_finais['meta_2020'].astype('float')\n",
        "idep_anos_finais['meta_2021'] = idep_anos_finais['meta_2021'].astype('float')\n",
        "idep_anos_finais['meta_2022'] = idep_anos_finais['meta_2022'].astype('float')\n",
        "idep_anos_finais['meta_2023'] = idep_anos_finais['meta_2023'].astype('float')"
      ],
      "execution_count": null,
      "outputs": []
    },
    {
      "cell_type": "code",
      "metadata": {
        "id": "c2kqfl3tdNxK",
        "colab": {
          "base_uri": "https://localhost:8080/"
        },
        "outputId": "8f199250-3962-478d-ba88-b11ee5876022"
      },
      "source": [
        "idep_anos_finais.info()"
      ],
      "execution_count": null,
      "outputs": [
        {
          "output_type": "stream",
          "name": "stdout",
          "text": [
            "<class 'pandas.core.frame.DataFrame'>\n",
            "RangeIndex: 550 entries, 0 to 549\n",
            "Data columns (total 14 columns):\n",
            " #   Column     Non-Null Count  Dtype  \n",
            "---  ------     --------------  -----  \n",
            " 0   Cod_Esc    550 non-null    int64  \n",
            " 1   Escola     550 non-null    object \n",
            " 2   Diretoria  550 non-null    object \n",
            " 3   Distrito   550 non-null    object \n",
            " 4   nse        550 non-null    int64  \n",
            " 5   icg        550 non-null    int64  \n",
            " 6   faixa      550 non-null    int64  \n",
            " 7   idep_2018  550 non-null    float64\n",
            " 8   idep_2019  550 non-null    float64\n",
            " 9   meta_2019  550 non-null    float64\n",
            " 10  meta_2020  550 non-null    float64\n",
            " 11  meta_2021  550 non-null    float64\n",
            " 12  meta_2022  550 non-null    float64\n",
            " 13  meta_2023  550 non-null    float64\n",
            "dtypes: float64(7), int64(4), object(3)\n",
            "memory usage: 60.3+ KB\n"
          ]
        }
      ]
    },
    {
      "cell_type": "markdown",
      "metadata": {
        "id": "zZ3ojHOSeCrc"
      },
      "source": [
        "#**Estatística Descritiva - anos iniciais e finais**"
      ]
    },
    {
      "cell_type": "markdown",
      "metadata": {
        "id": "r9GgSqOKjO4a"
      },
      "source": [
        "Anos iniciais:"
      ]
    },
    {
      "cell_type": "code",
      "metadata": {
        "id": "bp0M2DKEjEFi"
      },
      "source": [
        "idep_anos_iniciais['idep_media'] = idep_anos_iniciais[['idep_2018','idep_2019']].mean(axis=1)"
      ],
      "execution_count": null,
      "outputs": []
    },
    {
      "cell_type": "code",
      "metadata": {
        "colab": {
          "base_uri": "https://localhost:8080/"
        },
        "id": "4wNtucC6k58w",
        "outputId": "114fd3cc-d1b9-4de3-c151-e0054540f1ac"
      },
      "source": [
        "idep_anos_iniciais.iloc[529:533]"
      ],
      "execution_count": null,
      "outputs": [
        {
          "output_type": "execute_result",
          "data": {
            "text/html": [
              "<div>\n",
              "<style scoped>\n",
              "    .dataframe tbody tr th:only-of-type {\n",
              "        vertical-align: middle;\n",
              "    }\n",
              "\n",
              "    .dataframe tbody tr th {\n",
              "        vertical-align: top;\n",
              "    }\n",
              "\n",
              "    .dataframe thead th {\n",
              "        text-align: right;\n",
              "    }\n",
              "</style>\n",
              "<table border=\"1\" class=\"dataframe\">\n",
              "  <thead>\n",
              "    <tr style=\"text-align: right;\">\n",
              "      <th></th>\n",
              "      <th>Cod_Esc</th>\n",
              "      <th>Escola</th>\n",
              "      <th>Diretoria</th>\n",
              "      <th>Distrito</th>\n",
              "      <th>nse</th>\n",
              "      <th>icg</th>\n",
              "      <th>faixa</th>\n",
              "      <th>idep_2018</th>\n",
              "      <th>idep_2019</th>\n",
              "      <th>meta_2019</th>\n",
              "      <th>meta_2020</th>\n",
              "      <th>meta_2021</th>\n",
              "      <th>meta_2022</th>\n",
              "      <th>meta_2023</th>\n",
              "      <th>idep_media</th>\n",
              "    </tr>\n",
              "  </thead>\n",
              "  <tbody>\n",
              "    <tr>\n",
              "      <th>529</th>\n",
              "      <td>95036</td>\n",
              "      <td>EMEF LEAO MACHADO PROF</td>\n",
              "      <td>IPIRANGA</td>\n",
              "      <td>SACOMA</td>\n",
              "      <td>4</td>\n",
              "      <td>2</td>\n",
              "      <td>4</td>\n",
              "      <td>5.856881</td>\n",
              "      <td>5.30</td>\n",
              "      <td>6.029610</td>\n",
              "      <td>6.206771</td>\n",
              "      <td>6.387355</td>\n",
              "      <td>6.570271</td>\n",
              "      <td>6.754367</td>\n",
              "      <td>5.578441</td>\n",
              "    </tr>\n",
              "    <tr>\n",
              "      <th>530</th>\n",
              "      <td>19303</td>\n",
              "      <td>CEU EMEF CASA BLANCA</td>\n",
              "      <td>CAMPO LIMPO</td>\n",
              "      <td>JARDIM SAO LUIS</td>\n",
              "      <td>4</td>\n",
              "      <td>2</td>\n",
              "      <td>4</td>\n",
              "      <td>6.004722</td>\n",
              "      <td>5.90</td>\n",
              "      <td>6.187132</td>\n",
              "      <td>6.375755</td>\n",
              "      <td>6.569224</td>\n",
              "      <td>6.766015</td>\n",
              "      <td>6.964497</td>\n",
              "      <td>5.952361</td>\n",
              "    </tr>\n",
              "    <tr>\n",
              "      <th>531</th>\n",
              "      <td>19291</td>\n",
              "      <td>EMEF VARGEM GRANDE</td>\n",
              "      <td>CAPELA DO SOCORRO</td>\n",
              "      <td>PARELHEIROS</td>\n",
              "      <td>4</td>\n",
              "      <td>2</td>\n",
              "      <td>4</td>\n",
              "      <td>0.000000</td>\n",
              "      <td>0.00</td>\n",
              "      <td>0.000000</td>\n",
              "      <td>0.000000</td>\n",
              "      <td>0.000000</td>\n",
              "      <td>0.000000</td>\n",
              "      <td>0.000000</td>\n",
              "      <td>0.000000</td>\n",
              "    </tr>\n",
              "    <tr>\n",
              "      <th>532</th>\n",
              "      <td>93319</td>\n",
              "      <td>EMEF ALMEIDA JUNIOR PROF</td>\n",
              "      <td>CAPELA DO SOCORRO</td>\n",
              "      <td>SOCORRO</td>\n",
              "      <td>5</td>\n",
              "      <td>1</td>\n",
              "      <td>5</td>\n",
              "      <td>5.195771</td>\n",
              "      <td>4.91</td>\n",
              "      <td>5.408577</td>\n",
              "      <td>5.627959</td>\n",
              "      <td>5.852451</td>\n",
              "      <td>6.080440</td>\n",
              "      <td>6.310203</td>\n",
              "      <td>5.052885</td>\n",
              "    </tr>\n",
              "  </tbody>\n",
              "</table>\n",
              "</div>"
            ],
            "text/plain": [
              "     Cod_Esc                    Escola  ... meta_2023 idep_media\n",
              "529    95036    EMEF LEAO MACHADO PROF  ...  6.754367   5.578441\n",
              "530    19303      CEU EMEF CASA BLANCA  ...  6.964497   5.952361\n",
              "531    19291        EMEF VARGEM GRANDE  ...  0.000000   0.000000\n",
              "532    93319  EMEF ALMEIDA JUNIOR PROF  ...  6.310203   5.052885\n",
              "\n",
              "[4 rows x 15 columns]"
            ]
          },
          "metadata": {},
          "execution_count": 224
        }
      ]
    },
    {
      "cell_type": "markdown",
      "metadata": {
        "id": "2Mj_92JTjROy"
      },
      "source": [
        "Anos finais:"
      ]
    },
    {
      "cell_type": "code",
      "metadata": {
        "id": "6tJvbc97jLiC"
      },
      "source": [
        "idep_anos_finais['idep_media'] = idep_anos_finais[['idep_2018','idep_2019']].mean(axis=1)"
      ],
      "execution_count": null,
      "outputs": []
    },
    {
      "cell_type": "code",
      "metadata": {
        "colab": {
          "base_uri": "https://localhost:8080/"
        },
        "id": "Or3FVG9dkHlV",
        "outputId": "d5f0882a-9a93-496c-b0d5-f1e8a2d156f2"
      },
      "source": [
        "idep_anos_finais.iloc[529:534]"
      ],
      "execution_count": null,
      "outputs": [
        {
          "output_type": "execute_result",
          "data": {
            "text/html": [
              "<div>\n",
              "<style scoped>\n",
              "    .dataframe tbody tr th:only-of-type {\n",
              "        vertical-align: middle;\n",
              "    }\n",
              "\n",
              "    .dataframe tbody tr th {\n",
              "        vertical-align: top;\n",
              "    }\n",
              "\n",
              "    .dataframe thead th {\n",
              "        text-align: right;\n",
              "    }\n",
              "</style>\n",
              "<table border=\"1\" class=\"dataframe\">\n",
              "  <thead>\n",
              "    <tr style=\"text-align: right;\">\n",
              "      <th></th>\n",
              "      <th>Cod_Esc</th>\n",
              "      <th>Escola</th>\n",
              "      <th>Diretoria</th>\n",
              "      <th>Distrito</th>\n",
              "      <th>nse</th>\n",
              "      <th>icg</th>\n",
              "      <th>faixa</th>\n",
              "      <th>idep_2018</th>\n",
              "      <th>idep_2019</th>\n",
              "      <th>meta_2019</th>\n",
              "      <th>meta_2020</th>\n",
              "      <th>meta_2021</th>\n",
              "      <th>meta_2022</th>\n",
              "      <th>meta_2023</th>\n",
              "      <th>idep_media</th>\n",
              "    </tr>\n",
              "  </thead>\n",
              "  <tbody>\n",
              "    <tr>\n",
              "      <th>529</th>\n",
              "      <td>93963</td>\n",
              "      <td>EMEF JOAO PINHEIRO PRESIDENTE</td>\n",
              "      <td>PENHA</td>\n",
              "      <td>VILA MATILDE</td>\n",
              "      <td>4</td>\n",
              "      <td>2</td>\n",
              "      <td>4</td>\n",
              "      <td>5.768352</td>\n",
              "      <td>5.37</td>\n",
              "      <td>5.947525</td>\n",
              "      <td>6.131513</td>\n",
              "      <td>6.319227</td>\n",
              "      <td>6.509480</td>\n",
              "      <td>6.701021</td>\n",
              "      <td>5.569176</td>\n",
              "    </tr>\n",
              "    <tr>\n",
              "      <th>530</th>\n",
              "      <td>19500</td>\n",
              "      <td>EMEF HERBERT DE SOUZA - BETINHO</td>\n",
              "      <td>CAMPO LIMPO</td>\n",
              "      <td>CAPAO REDONDO</td>\n",
              "      <td>4</td>\n",
              "      <td>2</td>\n",
              "      <td>4</td>\n",
              "      <td>0.000000</td>\n",
              "      <td>0.00</td>\n",
              "      <td>0.000000</td>\n",
              "      <td>0.000000</td>\n",
              "      <td>0.000000</td>\n",
              "      <td>0.000000</td>\n",
              "      <td>0.000000</td>\n",
              "      <td>0.000000</td>\n",
              "    </tr>\n",
              "    <tr>\n",
              "      <th>531</th>\n",
              "      <td>99112</td>\n",
              "      <td>EMEF PRACINHAS DA FEB</td>\n",
              "      <td>CAMPO LIMPO</td>\n",
              "      <td>JARDIM SAO LUIS</td>\n",
              "      <td>4</td>\n",
              "      <td>2</td>\n",
              "      <td>4</td>\n",
              "      <td>0.000000</td>\n",
              "      <td>0.00</td>\n",
              "      <td>0.000000</td>\n",
              "      <td>0.000000</td>\n",
              "      <td>0.000000</td>\n",
              "      <td>0.000000</td>\n",
              "      <td>0.000000</td>\n",
              "      <td>0.000000</td>\n",
              "    </tr>\n",
              "    <tr>\n",
              "      <th>532</th>\n",
              "      <td>94021</td>\n",
              "      <td>EMEF VISCONDE DE CAIRU</td>\n",
              "      <td>PENHA</td>\n",
              "      <td>VILA MATILDE</td>\n",
              "      <td>5</td>\n",
              "      <td>1</td>\n",
              "      <td>5</td>\n",
              "      <td>4.717593</td>\n",
              "      <td>4.83</td>\n",
              "      <td>4.859732</td>\n",
              "      <td>5.003018</td>\n",
              "      <td>5.147173</td>\n",
              "      <td>5.291911</td>\n",
              "      <td>5.436942</td>\n",
              "      <td>4.773797</td>\n",
              "    </tr>\n",
              "    <tr>\n",
              "      <th>533</th>\n",
              "      <td>94129</td>\n",
              "      <td>EMEF GUILHERME DE ALMEIDA</td>\n",
              "      <td>PENHA</td>\n",
              "      <td>CANGAIBA</td>\n",
              "      <td>5</td>\n",
              "      <td>1</td>\n",
              "      <td>5</td>\n",
              "      <td>4.733317</td>\n",
              "      <td>5.14</td>\n",
              "      <td>4.876066</td>\n",
              "      <td>5.019988</td>\n",
              "      <td>5.164798</td>\n",
              "      <td>5.310204</td>\n",
              "      <td>5.455909</td>\n",
              "      <td>4.936658</td>\n",
              "    </tr>\n",
              "  </tbody>\n",
              "</table>\n",
              "</div>"
            ],
            "text/plain": [
              "     Cod_Esc                           Escola  ... meta_2023 idep_media\n",
              "529    93963    EMEF JOAO PINHEIRO PRESIDENTE  ...  6.701021   5.569176\n",
              "530    19500  EMEF HERBERT DE SOUZA - BETINHO  ...  0.000000   0.000000\n",
              "531    99112            EMEF PRACINHAS DA FEB  ...  0.000000   0.000000\n",
              "532    94021           EMEF VISCONDE DE CAIRU  ...  5.436942   4.773797\n",
              "533    94129        EMEF GUILHERME DE ALMEIDA  ...  5.455909   4.936658\n",
              "\n",
              "[5 rows x 15 columns]"
            ]
          },
          "metadata": {},
          "execution_count": 226
        }
      ]
    },
    {
      "cell_type": "markdown",
      "metadata": {
        "id": "rOjIn9dpsU_j"
      },
      "source": [
        "#**Acrecentando coluna ''data_referencia':**"
      ]
    },
    {
      "cell_type": "code",
      "metadata": {
        "id": "DKvn_1wpsbEq"
      },
      "source": [
        "data_ultima_atualizacao = '2019-10-23'"
      ],
      "execution_count": null,
      "outputs": []
    },
    {
      "cell_type": "code",
      "metadata": {
        "id": "4EXwO7OjsbHq"
      },
      "source": [
        "idep_anos_iniciais['data_referencia'] = pd.to_datetime(data_ultima_atualizacao)\n",
        "idep_anos_finais['data_referencia'] = pd.to_datetime(data_ultima_atualizacao)"
      ],
      "execution_count": null,
      "outputs": []
    },
    {
      "cell_type": "code",
      "metadata": {
        "colab": {
          "base_uri": "https://localhost:8080/"
        },
        "id": "WN9EMY5EtWgN",
        "outputId": "e6dc89bb-4491-4c31-86a2-8151902f5a05"
      },
      "source": [
        "idep_anos_iniciais.iloc[530:533]"
      ],
      "execution_count": null,
      "outputs": [
        {
          "output_type": "execute_result",
          "data": {
            "text/html": [
              "<div>\n",
              "<style scoped>\n",
              "    .dataframe tbody tr th:only-of-type {\n",
              "        vertical-align: middle;\n",
              "    }\n",
              "\n",
              "    .dataframe tbody tr th {\n",
              "        vertical-align: top;\n",
              "    }\n",
              "\n",
              "    .dataframe thead th {\n",
              "        text-align: right;\n",
              "    }\n",
              "</style>\n",
              "<table border=\"1\" class=\"dataframe\">\n",
              "  <thead>\n",
              "    <tr style=\"text-align: right;\">\n",
              "      <th></th>\n",
              "      <th>Cod_Esc</th>\n",
              "      <th>Escola</th>\n",
              "      <th>Diretoria</th>\n",
              "      <th>Distrito</th>\n",
              "      <th>nse</th>\n",
              "      <th>icg</th>\n",
              "      <th>faixa</th>\n",
              "      <th>idep_2018</th>\n",
              "      <th>idep_2019</th>\n",
              "      <th>meta_2019</th>\n",
              "      <th>meta_2020</th>\n",
              "      <th>meta_2021</th>\n",
              "      <th>meta_2022</th>\n",
              "      <th>meta_2023</th>\n",
              "      <th>idep_media</th>\n",
              "      <th>data_referencia</th>\n",
              "    </tr>\n",
              "  </thead>\n",
              "  <tbody>\n",
              "    <tr>\n",
              "      <th>530</th>\n",
              "      <td>19303</td>\n",
              "      <td>CEU EMEF CASA BLANCA</td>\n",
              "      <td>CAMPO LIMPO</td>\n",
              "      <td>JARDIM SAO LUIS</td>\n",
              "      <td>4</td>\n",
              "      <td>2</td>\n",
              "      <td>4</td>\n",
              "      <td>6.004722</td>\n",
              "      <td>5.90</td>\n",
              "      <td>6.187132</td>\n",
              "      <td>6.375755</td>\n",
              "      <td>6.569224</td>\n",
              "      <td>6.766015</td>\n",
              "      <td>6.964497</td>\n",
              "      <td>5.952361</td>\n",
              "      <td>2019-10-23</td>\n",
              "    </tr>\n",
              "    <tr>\n",
              "      <th>531</th>\n",
              "      <td>19291</td>\n",
              "      <td>EMEF VARGEM GRANDE</td>\n",
              "      <td>CAPELA DO SOCORRO</td>\n",
              "      <td>PARELHEIROS</td>\n",
              "      <td>4</td>\n",
              "      <td>2</td>\n",
              "      <td>4</td>\n",
              "      <td>0.000000</td>\n",
              "      <td>0.00</td>\n",
              "      <td>0.000000</td>\n",
              "      <td>0.000000</td>\n",
              "      <td>0.000000</td>\n",
              "      <td>0.000000</td>\n",
              "      <td>0.000000</td>\n",
              "      <td>0.000000</td>\n",
              "      <td>2019-10-23</td>\n",
              "    </tr>\n",
              "    <tr>\n",
              "      <th>532</th>\n",
              "      <td>93319</td>\n",
              "      <td>EMEF ALMEIDA JUNIOR PROF</td>\n",
              "      <td>CAPELA DO SOCORRO</td>\n",
              "      <td>SOCORRO</td>\n",
              "      <td>5</td>\n",
              "      <td>1</td>\n",
              "      <td>5</td>\n",
              "      <td>5.195771</td>\n",
              "      <td>4.91</td>\n",
              "      <td>5.408577</td>\n",
              "      <td>5.627959</td>\n",
              "      <td>5.852451</td>\n",
              "      <td>6.080440</td>\n",
              "      <td>6.310203</td>\n",
              "      <td>5.052885</td>\n",
              "      <td>2019-10-23</td>\n",
              "    </tr>\n",
              "  </tbody>\n",
              "</table>\n",
              "</div>"
            ],
            "text/plain": [
              "     Cod_Esc                    Escola  ... idep_media data_referencia\n",
              "530    19303      CEU EMEF CASA BLANCA  ...   5.952361      2019-10-23\n",
              "531    19291        EMEF VARGEM GRANDE  ...   0.000000      2019-10-23\n",
              "532    93319  EMEF ALMEIDA JUNIOR PROF  ...   5.052885      2019-10-23\n",
              "\n",
              "[3 rows x 16 columns]"
            ]
          },
          "metadata": {},
          "execution_count": 229
        }
      ]
    },
    {
      "cell_type": "code",
      "metadata": {
        "colab": {
          "base_uri": "https://localhost:8080/"
        },
        "id": "8EGJKvvawuy5",
        "outputId": "97035db8-290f-4125-9244-ee27a0009819"
      },
      "source": [
        "idep_anos_finais.iloc[529:532]"
      ],
      "execution_count": null,
      "outputs": [
        {
          "output_type": "execute_result",
          "data": {
            "text/html": [
              "<div>\n",
              "<style scoped>\n",
              "    .dataframe tbody tr th:only-of-type {\n",
              "        vertical-align: middle;\n",
              "    }\n",
              "\n",
              "    .dataframe tbody tr th {\n",
              "        vertical-align: top;\n",
              "    }\n",
              "\n",
              "    .dataframe thead th {\n",
              "        text-align: right;\n",
              "    }\n",
              "</style>\n",
              "<table border=\"1\" class=\"dataframe\">\n",
              "  <thead>\n",
              "    <tr style=\"text-align: right;\">\n",
              "      <th></th>\n",
              "      <th>Cod_Esc</th>\n",
              "      <th>Escola</th>\n",
              "      <th>Diretoria</th>\n",
              "      <th>Distrito</th>\n",
              "      <th>nse</th>\n",
              "      <th>icg</th>\n",
              "      <th>faixa</th>\n",
              "      <th>idep_2018</th>\n",
              "      <th>idep_2019</th>\n",
              "      <th>meta_2019</th>\n",
              "      <th>meta_2020</th>\n",
              "      <th>meta_2021</th>\n",
              "      <th>meta_2022</th>\n",
              "      <th>meta_2023</th>\n",
              "      <th>idep_media</th>\n",
              "      <th>data_referencia</th>\n",
              "    </tr>\n",
              "  </thead>\n",
              "  <tbody>\n",
              "    <tr>\n",
              "      <th>529</th>\n",
              "      <td>93963</td>\n",
              "      <td>EMEF JOAO PINHEIRO PRESIDENTE</td>\n",
              "      <td>PENHA</td>\n",
              "      <td>VILA MATILDE</td>\n",
              "      <td>4</td>\n",
              "      <td>2</td>\n",
              "      <td>4</td>\n",
              "      <td>5.768352</td>\n",
              "      <td>5.37</td>\n",
              "      <td>5.947525</td>\n",
              "      <td>6.131513</td>\n",
              "      <td>6.319227</td>\n",
              "      <td>6.50948</td>\n",
              "      <td>6.701021</td>\n",
              "      <td>5.569176</td>\n",
              "      <td>2019-10-23</td>\n",
              "    </tr>\n",
              "    <tr>\n",
              "      <th>530</th>\n",
              "      <td>19500</td>\n",
              "      <td>EMEF HERBERT DE SOUZA - BETINHO</td>\n",
              "      <td>CAMPO LIMPO</td>\n",
              "      <td>CAPAO REDONDO</td>\n",
              "      <td>4</td>\n",
              "      <td>2</td>\n",
              "      <td>4</td>\n",
              "      <td>0.000000</td>\n",
              "      <td>0.00</td>\n",
              "      <td>0.000000</td>\n",
              "      <td>0.000000</td>\n",
              "      <td>0.000000</td>\n",
              "      <td>0.00000</td>\n",
              "      <td>0.000000</td>\n",
              "      <td>0.000000</td>\n",
              "      <td>2019-10-23</td>\n",
              "    </tr>\n",
              "    <tr>\n",
              "      <th>531</th>\n",
              "      <td>99112</td>\n",
              "      <td>EMEF PRACINHAS DA FEB</td>\n",
              "      <td>CAMPO LIMPO</td>\n",
              "      <td>JARDIM SAO LUIS</td>\n",
              "      <td>4</td>\n",
              "      <td>2</td>\n",
              "      <td>4</td>\n",
              "      <td>0.000000</td>\n",
              "      <td>0.00</td>\n",
              "      <td>0.000000</td>\n",
              "      <td>0.000000</td>\n",
              "      <td>0.000000</td>\n",
              "      <td>0.00000</td>\n",
              "      <td>0.000000</td>\n",
              "      <td>0.000000</td>\n",
              "      <td>2019-10-23</td>\n",
              "    </tr>\n",
              "  </tbody>\n",
              "</table>\n",
              "</div>"
            ],
            "text/plain": [
              "     Cod_Esc                           Escola  ... idep_media data_referencia\n",
              "529    93963    EMEF JOAO PINHEIRO PRESIDENTE  ...   5.569176      2019-10-23\n",
              "530    19500  EMEF HERBERT DE SOUZA - BETINHO  ...   0.000000      2019-10-23\n",
              "531    99112            EMEF PRACINHAS DA FEB  ...   0.000000      2019-10-23\n",
              "\n",
              "[3 rows x 16 columns]"
            ]
          },
          "metadata": {},
          "execution_count": 230
        }
      ]
    },
    {
      "cell_type": "markdown",
      "metadata": {
        "id": "gM9loK3RCd-x"
      },
      "source": [
        "#**Dicionários**<br>\n",
        "**Transformar a coluna de distritos e diretoria em uma referência a tabela de distritos e diretoria respectivamente**<br><br>\n",
        "id_diretoria e id_distrito<br>\n"
      ]
    },
    {
      "cell_type": "code",
      "metadata": {
        "id": "1Z5gRamOFSqB"
      },
      "source": [
        "def ConverteSubPrefeituraNumID(id_nome):\n",
        "    dicionario_sub_prefeitura = {\n",
        "          'PIRITUBA' : 'PIR',\n",
        "          'JARAGUA' : 'JAR',\n",
        "          'SAO DOMINGOS' : 'SDO',\n",
        "          'FREGUESIA' : 'FRE',\n",
        "          'FREGUESIA DO O' : 'FRE',\n",
        "          'BRASILANDIA' : 'BRL',\n",
        "          'CASA VERDE' : 'CVE',\n",
        "          'CACHOEIRINHA' : 'CAC',\n",
        "          'LIMAO' : 'LIM',\n",
        "          'MANDAQUI' : 'MAN',\n",
        "          'SANTANA' : 'STN',\n",
        "          'TUCURUVI' : 'TUC',\n",
        "          'JACANA' : 'JAC',\n",
        "          'TREMEMBE' : 'TRE',\n",
        "          'VILA MARIA' : 'VMR',\n",
        "          'VILA GUILHERME' : 'VGL',\n",
        "          'VILA MEDEIROS' : 'VMD',\n",
        "          'ARTUR ALVIM' : 'AAL',\n",
        "          'CANGAIBA' : 'CNG',\n",
        "          'VILA MATILDE' : 'VMT',\n",
        "          'PENHA' : 'PEN',\n",
        "          'ERMELINO MATARAZZO' : 'ERM',\n",
        "          'PONTE RASA' : 'PRA',\n",
        "          'SAO MIGUEL' : 'SMI',\n",
        "          'JARDIM HELENA' : 'JDH',\n",
        "          'VILA JACUI' : 'VJA',\n",
        "          'ITAIM PAULISTA' : 'IPA',\n",
        "          'VILA CURUCA' : 'VCR',\n",
        "          'CIDADE LIDER' : 'CLD',\n",
        "          'ITAQUERA' : 'ITQ',\n",
        "          'JOSE BONIFACIO'  : 'JBO',\n",
        "          'PARQUE DO CARMO' : 'PQC',\n",
        "          'GUAIANASES' : 'GUA',\n",
        "          'LAJEADO' : 'LAJ',\n",
        "          'BARRA FUNDA' : 'BFU',\n",
        "          'JAGUARA' : 'JAG',\n",
        "          'JAGUARE' : 'JRE',\n",
        "          'LAPA' : 'LAP',\n",
        "          'PERDIZES' : 'PRD',\n",
        "          'VILA LEOPOLDINA' : 'VLE',\n",
        "          'BOM RETIRO' : 'BRE',\n",
        "          'BELA VISTA' : 'BVI',\n",
        "          'CAMBUCI' : 'CMB',\n",
        "          'CONSOLACAO' : 'CON',\n",
        "          'LIBERDADE' : 'LIB',\n",
        "          'REPUBLICA' : 'REP',\n",
        "          'SANTA CECILIA' : 'SCE',\n",
        "          'SE' : 'SE',\n",
        "          'AGUA RASA' : 'ARA',\n",
        "          'BELEM' : 'BEL',\n",
        "          'BRAS' : 'BRS',\n",
        "          'MOOCA' : 'MOO',\n",
        "          'PARI' : 'PRI',\n",
        "          'TATUAPE' : 'TAT',\n",
        "          'ARICANDUVA' : 'ARI',\n",
        "          'FORMOSA' : 'CAR',\n",
        "          'VILA FORMOSA' : 'VFO',\n",
        "          'CARRAO' : 'CAR',\n",
        "          'IGUATEMI' : 'IGU',\n",
        "          'SAO MATEUS' : 'SMT',\n",
        "          'SAO RAFAEL' : 'SRA',\n",
        "          'SAO LUCAS' : 'SLU',\n",
        "          'VILA PRUDENTE' : 'VPR',\n",
        "          'CURSINO' : 'CUR',\n",
        "          'IPIRANGA' : 'IPI',\n",
        "          'SACOMA' : 'SAC',\n",
        "          'MOEMA' : 'MOE',\n",
        "          'SAUDE' : 'SAU',\n",
        "          'VILA MARIANA' : 'VMN',\n",
        "          'BUTANTA' : 'BUT',\n",
        "          'MORUMBI' : 'MOR',\n",
        "          'RIO PEQUENO' : 'RPE',\n",
        "          'RAPOSO TAVARES' : 'RTA',\n",
        "          'VILA SONIA' : 'VSO',\n",
        "          'PINHEIROS' : 'PIN',\n",
        "          'ALTO DE PINHEIROS' : 'API',\n",
        "          'ITAIM BIBI' : 'IBI',\n",
        "          'JARDIM PAULISTA' : 'JDP',\n",
        "          'CAMPO LIMPO' : 'CLM',\n",
        "          'CAPAO REDONDO' : 'CRE',\n",
        "          'VILA ANDRADE' : 'VAN',\n",
        "          'JARDIM ANGELA' : 'JDA',\n",
        "          'JARDIM SAO LUIS' : 'JDS',\n",
        "          'CIDADE DUTRA' : 'CDU',\n",
        "          'GRAJAU' : 'GRA',\n",
        "          'SOCORRO' : 'SOC',\n",
        "          'CAPELA DO SOCORRO' : 'SOC',\n",
        "          'CIDADE ADEMAR' : 'CAD',\n",
        "          'PEDREIRA'  : 'PDR',\n",
        "          'MARSILAC' : 'MAR',\n",
        "          'PARELHEIROS' : 'PLH',\n",
        "          'JABAQUARA' : 'JAB',\n",
        "          'SANTO AMARO' : 'SAM',\n",
        "          'CAMPO BELO' : 'CBE',\n",
        "          'CAMPO GRANDE' : 'CGR',\n",
        "          'CIDADE TIRADENTES' : 'CTI',\n",
        "          'ANHANGUERA' : 'ANH',\n",
        "          'PERUS' : 'PRS',\n",
        "          'SAPOPEMBA' : 'SAP'\n",
        "    }\n",
        "    return dicionario_sub_prefeitura[id_nome]"
      ],
      "execution_count": null,
      "outputs": []
    },
    {
      "cell_type": "code",
      "metadata": {
        "id": "Xh2r-bqZkKJc"
      },
      "source": [
        "def ConverteDiretoriaNumID(id_diret):\n",
        "    dicionario_diretoria = {\n",
        "            'BUTANTA' : 1,\n",
        "            'CAMPO LIMPO' : 2,\n",
        "            'CAPELA DO SOCORRO' : 3,\n",
        "            'FREGUESIA/BRASILANDIA' : 4,\n",
        "            'FREGUESIA' : 4,\n",
        "            'BRASILANDIA' : 4,\n",
        "            'GUAIANASES' : 5,\n",
        "            'IPIRANGA' : 6,\n",
        "            'ITAQUERA' : 7,\n",
        "            'JACANA/TREMEMBE' : 8,\n",
        "            'JACANA' : 8,\n",
        "            'TREMEMBE' : 8,\n",
        "            'PENHA' : 9,\n",
        "            'PIRITUBA/JARAGUA' : 10,\n",
        "            'PIRITUBA' : 10,\n",
        "            'JARAGUA' : 10,\n",
        "            'SANTO AMARO' : 11,\n",
        "            'SAO MATEUS' : 12,\n",
        "            'SAO MIGUEL' : 13\n",
        "                }\n",
        "    return dicionario_diretoria[id_diret]"
      ],
      "execution_count": null,
      "outputs": []
    },
    {
      "cell_type": "markdown",
      "metadata": {
        "id": "1qjhdsaZj7bj"
      },
      "source": [
        "#**Aplicando os dicionários para os Anos Finais**"
      ]
    },
    {
      "cell_type": "code",
      "metadata": {
        "colab": {
          "base_uri": "https://localhost:8080/"
        },
        "id": "kZf3ARMfdFCl",
        "outputId": "7ec5fe39-485e-4c5b-e54d-5bcaf6b1c726"
      },
      "source": [
        " nome = idep_anos_finais['Distrito'][0]\n",
        " nome"
      ],
      "execution_count": null,
      "outputs": [
        {
          "output_type": "execute_result",
          "data": {
            "application/vnd.google.colaboratory.intrinsic+json": {
              "type": "string"
            },
            "text/plain": [
              "'VILA MEDEIROS'"
            ]
          },
          "metadata": {},
          "execution_count": 233
        }
      ]
    },
    {
      "cell_type": "code",
      "metadata": {
        "colab": {
          "base_uri": "https://localhost:8080/"
        },
        "id": "WzwGuA0vJxuS",
        "outputId": "8632da4f-2655-4538-a7c6-16c64971a7c9"
      },
      "source": [
        "n = 0\n",
        "lista = []\n",
        "while n<550: \n",
        "  id_nome = idep_anos_finais['Distrito'][n]\n",
        "  distrito = ConverteSubPrefeituraNumID(id_nome)\n",
        "  lista.insert(n,distrito)\n",
        "  n = n + 1\n",
        "print(lista)"
      ],
      "execution_count": null,
      "outputs": [
        {
          "output_type": "stream",
          "name": "stdout",
          "text": [
            "['VMD', 'VSO', 'SLU', 'RPE', 'CGR', 'PEN', 'CTI', 'JAC', 'SAP', 'VMR', 'JAB', 'CTI', 'PRS', 'SAP', 'CTI', 'CRE', 'VMR', 'RTA', 'VCR', 'CTI', 'JAR', 'CTI', 'CTI', 'GRA', 'RTA', 'CLD', 'VLE', 'RTA', 'CTI', 'VAN', 'BRL', 'SAP', 'PRS', 'JDH', 'SAP', 'SLU', 'VAN', 'VPR', 'BRL', 'SAP', 'LIM', 'RPE', 'PRI', 'SAC', 'VPR', 'IPA', 'SAP', 'IPA', 'JRE', 'PRS', 'BRL', 'IGU', 'TRE', 'RTA', 'SRA', 'BRL', 'GRA', 'TRE', 'JDH', 'CTI', 'JDA', 'BRL', 'SMT', 'CAD', 'VJA', 'JAR', 'JDS', 'JDA', 'JBO', 'CRE', 'JBO', 'JDS', 'PDR', 'CTI', 'SAC', 'JAR', 'CLM', 'VAN', 'ANH', 'SAP', 'FRE', 'PRS', 'RPE', 'SDO', 'PQC', 'PDR', 'BRL', 'PLH', 'VSO', 'RTA', 'SAP', 'CTI', 'PIR', 'JAR', 'CTI', 'SAC', 'JAR', 'BRL', 'ARI', 'RPE', 'SRA', 'BRL', 'JAR', 'CAD', 'VAN', 'JAR', 'RPE', 'VMR', 'MOR', 'CTI', 'VAN', 'JDS', 'CRE', 'JDS', 'JDA', 'JDH', 'SRA', 'SE', 'PRS', 'SAC', 'CTI', 'SAP', 'CRE', 'BRL', 'CLM', 'VMR', 'JDS', 'SDO', 'JDS', 'SRA', 'CRE', 'VMD', 'PDR', 'BRL', 'SAC', 'JDS', 'CTI', 'SAP', 'GRA', 'SAP', 'RTA', 'VCR', 'SAP', 'IPI', 'CUR', 'LIM', 'CAC', 'TRE', 'CRE', 'CRE', 'ANH', 'JDH', 'CAC', 'CRE', 'IPI', 'GRA', 'CAD', 'CAD', 'SAC', 'PRS', 'SRA', 'ANH', 'BVI', 'VAN', 'CNG', 'RPE', 'CRE', 'IGU', 'SRA', 'PDR', 'VJA', 'VCR', 'JAR', 'SMI', 'CRE', 'VSO', 'CTI', 'CLD', 'CRE', 'JAR', 'JAB', 'CLM', 'CDU', 'ITQ', 'SOC', 'JBO', 'PIR', 'SMT', 'CDU', 'GUA', 'CAR', 'CLM', 'CLM', 'GRA', 'CRE', 'JBO', 'JAR', 'CBE', 'JAR', 'VFO', 'JDA', 'JDH', 'VSO', 'JDS', 'CTI', 'CAD', 'FRE', 'CLD', 'SAC', 'JAR', 'IGU', 'VJA', 'GUA', 'CGR', 'CTI', 'SDO', 'CLM', 'CTI', 'CTI', 'JAR', 'ANH', 'RTA', 'SAP', 'SAC', 'SDO', 'VCR', 'JDH', 'CAC', 'JDA', 'TRE', 'PRA', 'CTI', 'SAP', 'VMD', 'ITQ', 'PRA', 'VJA', 'JAR', 'VJA', 'SMT', 'IPA', 'VJA', 'JAG', 'IPA', 'PRS', 'CBE', 'GRA', 'RTA', 'JAB', 'CAC', 'PDR', 'AAL', 'RTA', 'MAN', 'CVE', 'CDU', 'PIR', 'ERM', 'SRA', 'FRE', 'CAD', 'SMI', 'IPA', 'SAC', 'SRA', 'PRS', 'MAN', 'VMR', 'BRL', 'GUA', 'BRL', 'CRE', 'IPA', 'LIB', 'TRE', 'JAR', 'LAJ', 'JAB', 'PIN', 'VCR', 'JAR', 'IGU', 'VGL', 'JAR', 'AAL', 'CRE', 'IPA', 'VCR', 'VMD', 'VJA', 'LAJ', 'TUC', 'RPE', 'PIR', 'ARA', 'ITQ', 'CDU', 'CTI', 'MAN', 'CRE', 'JDH', 'JDA', 'VCR', 'JBO', 'ARA', 'RTA', 'VMT', 'RPE', 'BEL', 'CDU', 'JAC', 'SAC', 'JAB', 'PRA', 'JAC', 'IBI', 'CLD', 'IGU', 'CRE', 'ITQ', 'VLE', 'AAL', 'BRL', 'FRE', 'SMT', 'TUC', 'SAP', 'RTA', 'SLU', 'CUR', 'VJA', 'ARI', 'SMT', 'VGL', 'SAC', 'SLU', 'STN', 'PDR', 'SAC', 'CAD', 'SMI', 'CGR', 'ANH', 'JDA', 'SAP', 'MOE', 'TRE', 'CTI', 'AAL', 'SAP', 'SLU', 'FRE', 'VCR', 'VCR', 'CDU', 'SAP', 'SAP', 'JDH', 'PRD', 'CVE', 'JDS', 'VMT', 'VMT', 'SAP', 'SAM', 'JAR', 'JAR', 'VCR', 'ERM', 'MAN', 'VMR', 'CNG', 'SAP', 'CLD', 'GRA', 'IGU', 'CRE', 'PRS', 'VMN', 'SDO', 'CDU', 'IGU', 'VMR', 'CGR', 'AAL', 'IGU', 'IGU', 'VPR', 'CLM', 'ERM', 'VMT', 'CRE', 'GUA', 'IGU', 'SLU', 'CDU', 'CDU', 'PQC', 'SAC', 'SMT', 'VJA', 'CAC', 'VMT', 'RTA', 'CAR', 'IBI', 'ARA', 'CAC', 'ANH', 'PLH', 'GRA', 'PLH', 'IGU', 'SAP', 'JRE', 'JDA', 'PRA', 'BRL', 'JDH', 'PIR', 'JDS', 'JDA', 'CLM', 'VCR', 'JDA', 'IPA', 'FRE', 'GRA', 'CTI', 'CLM', 'CLD', 'CRE', 'SRA', 'JAR', 'BRL', 'CBE', 'IGU', 'PLH', 'FRE', 'CTI', 'TRE', 'PDR', 'PLH', 'SLU', 'ITQ', 'STN', 'JAR', 'JDS', 'LAJ', 'IGU', 'VMD', 'LAJ', 'CLM', 'PRA', 'JAC', 'LAJ', 'JAR', 'TAT', 'SMI', 'CNG', 'GRA', 'JAG', 'SDO', 'JDA', 'SLU', 'ARI', 'BRL', 'PIR', 'CAD', 'CTI', 'CLM', 'CLM', 'VFO', 'CLM', 'VSO', 'IPA', 'JAB', 'CLM', 'GRA', 'CDU', 'LAJ', 'ITQ', 'JDH', 'STN', 'JDA', 'SAM', 'JBO', 'CLM', 'SMI', 'CLM', 'PDR', 'CDU', 'CVE', 'AAL', 'CLD', 'JAB', 'PIR', 'CLM', 'CAC', 'IGU', 'RTA', 'CDU', 'LAJ', 'CNG', 'JDS', 'FRE', 'BRL', 'IPA', 'CDU', 'IPA', 'TRE', 'SMT', 'GRA', 'STN', 'TAT', 'GRA', 'JDA', 'VPR', 'IPA', 'VJA', 'VCR', 'PIR', 'MOO', 'ANH', 'ARA', 'SAU', 'PRA', 'SAC', 'SMI', 'VMT', 'CRE', 'JDS', 'VMT', 'CNG', 'BUT', 'SDO', 'CDU', 'CGR', 'SAM', 'SOC', 'CAR', 'ARI', 'BUT', 'CGR', 'SOC', 'TUC', 'VGL', 'BUT', 'SMI', 'TAT']\n"
          ]
        }
      ]
    },
    {
      "cell_type": "code",
      "metadata": {
        "id": "B_h-BHk_jcfD"
      },
      "source": [
        "idep_anos_finais['id_distrito'] = lista"
      ],
      "execution_count": null,
      "outputs": []
    },
    {
      "cell_type": "code",
      "metadata": {
        "id": "wYuKcWYhmuZo"
      },
      "source": [
        "m = 0\n",
        "lista2 = []\n",
        "while m<550: \n",
        "  id_diret = idep_anos_finais['Diretoria'][m]\n",
        "  diretoria = ConverteDiretoriaNumID(id_diret)\n",
        "  lista2.insert(m,diretoria)\n",
        "  m = m + 1"
      ],
      "execution_count": null,
      "outputs": []
    },
    {
      "cell_type": "code",
      "metadata": {
        "colab": {
          "base_uri": "https://localhost:8080/"
        },
        "id": "rMUq1glmmucH",
        "outputId": "161112bf-e243-4586-c621-46ca095faca8"
      },
      "source": [
        "idep_anos_finais['id_diretoria'] = lista2\n",
        "print(lista2)"
      ],
      "execution_count": null,
      "outputs": [
        {
          "output_type": "stream",
          "name": "stdout",
          "text": [
            "[8, 1, 6, 1, 11, 9, 5, 8, 12, 8, 11, 5, 10, 12, 5, 2, 8, 1, 13, 5, 10, 5, 5, 3, 1, 7, 10, 1, 5, 2, 4, 12, 10, 13, 12, 6, 2, 6, 4, 12, 4, 1, 9, 6, 6, 13, 12, 13, 10, 10, 4, 12, 8, 1, 12, 4, 3, 8, 13, 5, 2, 4, 12, 11, 13, 10, 2, 2, 7, 2, 7, 2, 11, 5, 6, 10, 2, 2, 10, 12, 4, 10, 1, 10, 7, 11, 4, 3, 1, 1, 12, 5, 10, 10, 5, 6, 10, 4, 7, 1, 12, 4, 10, 11, 2, 10, 1, 8, 1, 5, 2, 2, 2, 2, 2, 13, 12, 6, 10, 6, 5, 12, 2, 4, 2, 8, 2, 10, 2, 12, 2, 8, 11, 4, 6, 2, 5, 12, 3, 12, 1, 13, 12, 6, 6, 4, 4, 8, 2, 2, 10, 13, 4, 2, 6, 3, 11, 11, 6, 10, 12, 10, 6, 2, 9, 1, 2, 12, 12, 11, 13, 13, 10, 13, 2, 1, 5, 7, 2, 10, 11, 2, 3, 7, 3, 7, 10, 12, 3, 5, 7, 2, 2, 3, 2, 7, 10, 11, 10, 7, 2, 13, 1, 2, 5, 11, 4, 7, 6, 10, 12, 13, 5, 11, 5, 10, 2, 5, 5, 10, 10, 1, 12, 6, 10, 13, 13, 4, 2, 8, 9, 5, 12, 8, 7, 9, 13, 10, 13, 12, 13, 13, 10, 13, 10, 11, 3, 1, 11, 4, 11, 9, 1, 8, 4, 3, 10, 9, 12, 4, 11, 13, 13, 6, 12, 10, 8, 8, 4, 5, 4, 2, 13, 6, 8, 10, 5, 11, 1, 13, 10, 12, 8, 10, 9, 2, 13, 13, 8, 13, 5, 8, 1, 10, 9, 7, 3, 5, 8, 2, 13, 2, 13, 7, 9, 1, 9, 1, 9, 3, 8, 6, 11, 9, 8, 1, 7, 12, 2, 7, 10, 9, 4, 4, 12, 8, 12, 1, 6, 6, 13, 7, 12, 8, 6, 6, 8, 11, 6, 11, 13, 11, 10, 2, 12, 6, 8, 5, 9, 12, 6, 4, 13, 13, 3, 12, 12, 13, 10, 4, 2, 9, 9, 12, 11, 10, 10, 13, 9, 8, 8, 9, 12, 7, 3, 12, 2, 10, 6, 10, 3, 12, 8, 11, 9, 12, 12, 6, 2, 9, 9, 2, 5, 12, 6, 3, 3, 7, 6, 12, 13, 4, 9, 1, 7, 1, 9, 4, 10, 3, 3, 3, 12, 12, 10, 2, 9, 4, 13, 10, 2, 2, 2, 13, 2, 13, 4, 3, 5, 2, 7, 2, 12, 10, 4, 11, 12, 3, 4, 5, 8, 11, 3, 6, 7, 8, 10, 2, 5, 12, 8, 5, 2, 9, 8, 5, 10, 9, 13, 9, 3, 10, 10, 2, 6, 7, 4, 10, 11, 5, 2, 2, 7, 2, 1, 13, 11, 2, 3, 3, 5, 7, 13, 8, 2, 11, 7, 2, 13, 2, 11, 3, 4, 9, 7, 11, 10, 2, 4, 12, 1, 3, 5, 9, 2, 4, 4, 13, 3, 13, 8, 12, 3, 8, 9, 3, 2, 6, 13, 13, 13, 10, 9, 10, 9, 6, 9, 6, 13, 9, 2, 2, 9, 9, 1, 10, 3, 11, 11, 3, 7, 7, 1, 11, 3, 8, 8, 1, 13, 9]\n"
          ]
        }
      ]
    },
    {
      "cell_type": "code",
      "metadata": {
        "colab": {
          "base_uri": "https://localhost:8080/"
        },
        "id": "IANG2UAzmuh-",
        "outputId": "3cb7cba6-af9d-4049-df0b-f3bea4ea5165"
      },
      "source": [
        "idep_anos_finais.head(3)"
      ],
      "execution_count": null,
      "outputs": [
        {
          "output_type": "execute_result",
          "data": {
            "text/html": [
              "<div>\n",
              "<style scoped>\n",
              "    .dataframe tbody tr th:only-of-type {\n",
              "        vertical-align: middle;\n",
              "    }\n",
              "\n",
              "    .dataframe tbody tr th {\n",
              "        vertical-align: top;\n",
              "    }\n",
              "\n",
              "    .dataframe thead th {\n",
              "        text-align: right;\n",
              "    }\n",
              "</style>\n",
              "<table border=\"1\" class=\"dataframe\">\n",
              "  <thead>\n",
              "    <tr style=\"text-align: right;\">\n",
              "      <th></th>\n",
              "      <th>Cod_Esc</th>\n",
              "      <th>Escola</th>\n",
              "      <th>Diretoria</th>\n",
              "      <th>Distrito</th>\n",
              "      <th>nse</th>\n",
              "      <th>icg</th>\n",
              "      <th>faixa</th>\n",
              "      <th>idep_2018</th>\n",
              "      <th>idep_2019</th>\n",
              "      <th>meta_2019</th>\n",
              "      <th>meta_2020</th>\n",
              "      <th>meta_2021</th>\n",
              "      <th>meta_2022</th>\n",
              "      <th>meta_2023</th>\n",
              "      <th>idep_media</th>\n",
              "      <th>data_referencia</th>\n",
              "      <th>id_distrito</th>\n",
              "      <th>id_diretoria</th>\n",
              "    </tr>\n",
              "  </thead>\n",
              "  <tbody>\n",
              "    <tr>\n",
              "      <th>0</th>\n",
              "      <td>94862</td>\n",
              "      <td>EMEF ALBERTO SANTOS DUMONT</td>\n",
              "      <td>JACANA/TREMEMBE</td>\n",
              "      <td>VILA MEDEIROS</td>\n",
              "      <td>3</td>\n",
              "      <td>1</td>\n",
              "      <td>1</td>\n",
              "      <td>4.121534</td>\n",
              "      <td>3.58</td>\n",
              "      <td>4.370064</td>\n",
              "      <td>4.625244</td>\n",
              "      <td>4.885569</td>\n",
              "      <td>5.149399</td>\n",
              "      <td>5.415007</td>\n",
              "      <td>3.850767</td>\n",
              "      <td>2019-10-23</td>\n",
              "      <td>VMD</td>\n",
              "      <td>8</td>\n",
              "    </tr>\n",
              "    <tr>\n",
              "      <th>1</th>\n",
              "      <td>191</td>\n",
              "      <td>EMEF ALIPIO CORREA NETO</td>\n",
              "      <td>BUTANTA</td>\n",
              "      <td>VILA SONIA</td>\n",
              "      <td>3</td>\n",
              "      <td>1</td>\n",
              "      <td>1</td>\n",
              "      <td>4.496260</td>\n",
              "      <td>4.80</td>\n",
              "      <td>4.712270</td>\n",
              "      <td>4.932927</td>\n",
              "      <td>5.157158</td>\n",
              "      <td>5.383814</td>\n",
              "      <td>5.611696</td>\n",
              "      <td>4.648130</td>\n",
              "      <td>2019-10-23</td>\n",
              "      <td>VSO</td>\n",
              "      <td>1</td>\n",
              "    </tr>\n",
              "    <tr>\n",
              "      <th>2</th>\n",
              "      <td>95427</td>\n",
              "      <td>EMEF ALVARES DE AZEVEDO</td>\n",
              "      <td>IPIRANGA</td>\n",
              "      <td>SAO LUCAS</td>\n",
              "      <td>3</td>\n",
              "      <td>1</td>\n",
              "      <td>1</td>\n",
              "      <td>4.911974</td>\n",
              "      <td>4.91</td>\n",
              "      <td>5.058724</td>\n",
              "      <td>5.206879</td>\n",
              "      <td>5.356097</td>\n",
              "      <td>5.506032</td>\n",
              "      <td>5.656326</td>\n",
              "      <td>4.910987</td>\n",
              "      <td>2019-10-23</td>\n",
              "      <td>SLU</td>\n",
              "      <td>6</td>\n",
              "    </tr>\n",
              "  </tbody>\n",
              "</table>\n",
              "</div>"
            ],
            "text/plain": [
              "   Cod_Esc                      Escola  ... id_distrito id_diretoria\n",
              "0    94862  EMEF ALBERTO SANTOS DUMONT  ...         VMD            8\n",
              "1      191     EMEF ALIPIO CORREA NETO  ...         VSO            1\n",
              "2    95427     EMEF ALVARES DE AZEVEDO  ...         SLU            6\n",
              "\n",
              "[3 rows x 18 columns]"
            ]
          },
          "metadata": {},
          "execution_count": 238
        }
      ]
    },
    {
      "cell_type": "markdown",
      "metadata": {
        "id": "PAO6OjKFkDWj"
      },
      "source": [
        "#**Aplicando os dicionários para os Anos iniciais**"
      ]
    },
    {
      "cell_type": "code",
      "metadata": {
        "colab": {
          "base_uri": "https://localhost:8080/"
        },
        "id": "O5COMhB0kGAV",
        "outputId": "62e222bb-09f1-4e58-dbcd-21cdc63c75f5"
      },
      "source": [
        "n2 = 0\n",
        "lista3 = []\n",
        "while n2<550: \n",
        "  id_nome = idep_anos_iniciais['Distrito'][n2]\n",
        "  distrito = ConverteSubPrefeituraNumID(id_nome)\n",
        "  lista3.insert(n2,distrito)\n",
        "  n2 = n2 + 1\n",
        "print(lista3)"
      ],
      "execution_count": null,
      "outputs": [
        {
          "output_type": "stream",
          "name": "stdout",
          "text": [
            "['VSO', 'PDR', 'RTA', 'PQC', 'VCR', 'PDR', 'SLU', 'PLH', 'JDH', 'CTI', 'PRS', 'CTI', 'VJA', 'VMR', 'CAD', 'PRS', 'IGU', 'SAP', 'RTA', 'SAC', 'CRE', 'VAN', 'JDA', 'GRA', 'JAR', 'PRS', 'BRL', 'BRL', 'VAN', 'PEN', 'ANH', 'JRE', 'TRE', 'GRA', 'IPA', 'PRS', 'JAR', 'RTA', 'RTA', 'JDS', 'JDA', 'SAC', 'IPA', 'CRE', 'CTI', 'CTI', 'SRA', 'BRL', 'VAN', 'CTI', 'RTA', 'JBO', 'SAP', 'RPE', 'RPE', 'RPE', 'JDS', 'CLM', 'VLE', 'CGR', 'CLD', 'CTI', 'CTI', 'JDH', 'BRL', 'FRE', 'LIM', 'BRL', 'JAR', 'SDO', 'PRI', 'TRE', 'VMR', 'VMD', 'JAC', 'SMT', 'JAB', 'VPR', 'VPR', 'SLU', 'SAP', 'SAP', 'SAP', 'SAP', 'SAP', 'SAP', 'CTI', 'CTI', 'CTI', 'VSO', 'JBO', 'BRL', 'CRE', 'JAR', 'SAC', 'CAD', 'CRE', 'RTA', 'SAP', 'CTI', 'SRA', 'VCR', 'SAP', 'JDS', 'CTI', 'IPI', 'VAN', 'PRS', 'JAR', 'SRA', 'ANH', 'JAR', 'VAN', 'SRA', 'ANH', 'VAN', 'CTI', 'SDO', 'CRE', 'CAC', 'SAC', 'VMR', 'GRA', 'CRE', 'MOR', 'RPE', 'RPE', 'JDA', 'CRE', 'CRE', 'JDS', 'JDS', 'JDS', 'CLM', 'JDS', 'PDR', 'GRA', 'CTI', 'JDH', 'JDH', 'CNG', 'BRL', 'BRL', 'BRL', 'CAC', 'LIM', 'BRL', 'PIR', 'JAR', 'PRS', 'SE', 'BVI', 'TRE', 'VMR', 'VMD', 'CUR', 'SAC', 'SAC', 'IPI', 'ARI', 'CAD', 'CAD', 'SAP', 'SRA', 'SAP', 'CTI', 'VJA', 'CTI', 'JAR', 'RPE', 'PLH', 'CTI', 'GUA', 'IPA', 'VCR', 'BRL', 'CAD', 'CAC', 'IGU', 'JAR', 'ITQ', 'JDA', 'JDA', 'JAR', 'SMT', 'VJA', 'JAR', 'SAP', 'JAR', 'SAP', 'CTI', 'FRE', 'JBO', 'BRL', 'IGU', 'CTI', 'CVE', 'RTA', 'LAJ', 'FRE', 'GRA', 'JAR', 'LAJ', 'SAC', 'GUA', 'CDU', 'CRE', 'JDH', 'IGU', 'TRE', 'ERM', 'JAB', 'PDR', 'SMI', 'SRA', 'IPA', 'CLD', 'VJA', 'VCR', 'VSO', 'STN', 'CAC', 'TRE', 'MAN', 'BRL', 'IPA', 'JAR', 'JDS', 'RPE', 'JAC', 'JDH', 'CLM', 'VSO', 'CLD', 'JBO', 'AAL', 'CTI', 'IGU', 'PRS', 'JAR', 'JAC', 'ITQ', 'VCR', 'SMI', 'CAC', 'FRE', 'CAR', 'CLD', 'CTI', 'CLM', 'JDH', 'ITQ', 'CTI', 'SMI', 'VMD', 'CRE', 'VCR', 'VMR', 'SMT', 'PIR', 'PDR', 'VJA', 'VMT', 'SAP', 'SAC', 'VLE', 'TRE', 'GRA', 'IGU', 'SOC', 'CRE', 'VFO', 'VGL', 'CBE', 'PLH', 'IGU', 'RTA', 'SAC', 'SAC', 'CGR', 'ANH', 'AAL', 'CBE', 'CLM', 'JAR', 'SAP', 'GUA', 'SDO', 'IGU', 'AAL', 'IBI', 'VMT', 'SRA', 'BEL', 'VMT', 'IGU', 'PDR', 'JAG', 'VJA', 'JAB', 'CDU', 'GRA', 'SAP', 'IGU', 'CDU', 'CDU', 'CNG', 'VCR', 'ERM', 'CLM', 'FRE', 'MAN', 'VCR', 'CAD', 'SLU', 'SRA', 'ARI', 'RPE', 'VJA', 'CRE', 'PRA', 'CVE', 'CRE', 'VMD', 'SAC', 'CDU', 'CAD', 'CDU', 'VMT', 'MAN', 'ANH', 'VMR', 'MAN', 'JAR', 'JAR', 'VCR', 'SAC', 'VMR', 'CRE', 'JDH', 'PRA', 'CAR', 'RTA', 'CRE', 'CRE', 'JDA', 'ITQ', 'IPA', 'ARA', 'JAB', 'VCR', 'VMT', 'VPR', 'JAR', 'TUC', 'RTA', 'SMT', 'JAB', 'SAP', 'SAM', 'JDA', 'GUA', 'PRA', 'SMT', 'JDS', 'AAL', 'CRE', 'JBO', 'CUR', 'PRS', 'ERM', 'SAP', 'IPA', 'VGL', 'CDU', 'LIB', 'RTA', 'CRE', 'SAP', 'CLM', 'PQC', 'CDU', 'VJA', 'TUC', 'VJA', 'SLU', 'PIR', 'PIR', 'IGU', 'SDO', 'ANH', 'CLD', 'IBI', 'CGR', 'PRS', 'RTA', 'PIN', 'CGR', 'CAC', 'SLU', 'SMT', 'SAP', 'CDU', 'SLU', 'ARA', 'SAC', 'SDO', 'SAP', 'PRD', 'ARA', 'VMN', 'MOE', 'AAL', 'GRA', 'STN', 'BRL', 'STN', 'JDA', 'VCR', 'IPA', 'LAJ', 'JDA', 'GRA', 'JDH', 'IGU', 'PDR', 'LAJ', 'LAJ', 'PDR', 'FRE', 'SRA', 'CLM', 'PRA', 'CLM', 'JDA', 'CRE', 'IPA', 'ITQ', 'JDA', 'PIR', 'FRE', 'CTI', 'IGU', 'PIR', 'SLU', 'CTI', 'JDA', 'BRL', 'CLM', 'JDS', 'SMI', 'LAJ', 'CLM', 'FRE', 'JDS', 'BRL', 'ITQ', 'CLM', 'JRE', 'JBO', 'JDH', 'JAR', 'ARI', 'CLD', 'AAL', 'CAD', 'SMI', 'SDO', 'BRL', 'CLM', 'VFO', 'PLH', 'RTA', 'CDU', 'CTI', 'JDS', 'JAC', 'IGU', 'GRA', 'SMT', 'CAC', 'VMD', 'VPR', 'JAR', 'PRA', 'CLM', 'CLM', 'GRA', 'SLU', 'PIR', 'IPA', 'CVE', 'TRE', 'SAM', 'CNG', 'IPA', 'CDU', 'VSO', 'GRA', 'CBE', 'LAJ', 'JAB', 'VMT', 'TAT', 'JAR', 'JAB', 'GRA', 'CLD', 'VJA', 'ARA', 'TAT', 'CRE', 'SMI', 'CDU', 'CLM', 'JAG', 'CDU', 'JDA', 'CLM', 'ANH', 'VCR', 'PIR', 'MOO', 'STN', 'TRE', 'IPA', 'SAU', 'CNG', 'PRA', 'SAC', 'JDS', 'PLH', 'SOC', 'CNG', 'VGL', 'SOC', 'TUC', 'VMT', 'BUT', 'BUT', 'CGR', 'CDU', 'CAR', 'SDO', 'ARI', 'CGR', 'SAM', 'BUT', 'SMI', 'TAT']\n"
          ]
        }
      ]
    },
    {
      "cell_type": "code",
      "metadata": {
        "id": "GHawoQaNkGDD"
      },
      "source": [
        "idep_anos_iniciais['id_distrito'] = lista3"
      ],
      "execution_count": null,
      "outputs": []
    },
    {
      "cell_type": "code",
      "metadata": {
        "id": "KmHad5hzoM2H"
      },
      "source": [
        "m2 = 0\n",
        "lista4 = []\n",
        "while m2<550: \n",
        "  id_diret = idep_anos_iniciais['Diretoria'][m2]\n",
        "  diretoria = ConverteDiretoriaNumID(id_diret)\n",
        "  lista4.insert(m2,diretoria)\n",
        "  m2 = m2 + 1"
      ],
      "execution_count": null,
      "outputs": []
    },
    {
      "cell_type": "code",
      "metadata": {
        "colab": {
          "base_uri": "https://localhost:8080/"
        },
        "id": "_kj5BYjcoM5U",
        "outputId": "2123c034-88e3-4bd8-ea29-c8c3cc85f43a"
      },
      "source": [
        "idep_anos_iniciais['id_diretoria'] = lista4\n",
        "print(lista4)"
      ],
      "execution_count": null,
      "outputs": [
        {
          "output_type": "stream",
          "name": "stdout",
          "text": [
            "[1, 11, 1, 7, 13, 11, 6, 3, 13, 5, 10, 5, 13, 8, 11, 10, 12, 12, 1, 6, 2, 2, 2, 3, 10, 10, 4, 4, 2, 9, 10, 10, 8, 3, 13, 10, 10, 1, 1, 2, 2, 6, 13, 2, 5, 5, 12, 4, 2, 5, 1, 7, 12, 1, 1, 1, 2, 2, 10, 11, 7, 5, 5, 13, 4, 4, 4, 4, 10, 10, 9, 8, 8, 8, 8, 12, 11, 6, 6, 6, 12, 12, 12, 12, 12, 12, 5, 5, 5, 1, 7, 4, 2, 10, 6, 11, 2, 1, 12, 5, 12, 13, 12, 2, 5, 6, 2, 10, 10, 12, 10, 10, 2, 12, 10, 2, 5, 10, 2, 4, 6, 8, 3, 2, 1, 1, 1, 2, 2, 2, 2, 2, 2, 2, 2, 11, 3, 5, 13, 13, 9, 4, 4, 4, 4, 4, 4, 10, 10, 10, 6, 6, 8, 8, 8, 6, 6, 6, 6, 7, 11, 11, 12, 12, 12, 5, 13, 5, 10, 1, 3, 5, 5, 13, 13, 4, 11, 4, 12, 10, 7, 2, 2, 10, 12, 13, 10, 12, 10, 12, 5, 4, 7, 4, 12, 5, 4, 1, 5, 4, 3, 10, 5, 6, 5, 3, 2, 13, 12, 8, 9, 11, 11, 13, 12, 13, 7, 13, 13, 1, 8, 4, 8, 8, 4, 13, 10, 2, 1, 8, 13, 2, 1, 7, 7, 9, 5, 12, 10, 10, 8, 7, 13, 13, 4, 4, 7, 7, 5, 2, 13, 7, 5, 13, 8, 2, 13, 8, 12, 10, 11, 13, 9, 12, 6, 10, 8, 3, 12, 3, 2, 7, 8, 11, 3, 12, 1, 6, 6, 11, 10, 9, 11, 2, 10, 12, 5, 10, 12, 9, 1, 9, 12, 9, 9, 12, 11, 10, 13, 11, 3, 3, 12, 12, 3, 3, 9, 13, 9, 2, 4, 8, 13, 11, 6, 12, 7, 1, 13, 2, 9, 4, 2, 8, 6, 3, 11, 3, 9, 8, 10, 8, 8, 10, 10, 13, 6, 8, 2, 13, 9, 7, 1, 2, 2, 2, 7, 13, 9, 11, 13, 9, 6, 10, 8, 1, 12, 11, 12, 11, 2, 5, 9, 12, 2, 9, 2, 7, 6, 10, 9, 12, 13, 8, 3, 6, 1, 2, 12, 2, 7, 3, 13, 8, 13, 6, 10, 10, 12, 10, 10, 7, 1, 11, 10, 1, 1, 11, 4, 6, 12, 12, 3, 6, 9, 6, 10, 12, 10, 9, 6, 6, 9, 3, 8, 4, 8, 2, 13, 13, 5, 2, 3, 13, 12, 11, 5, 5, 11, 4, 12, 2, 9, 2, 2, 2, 13, 7, 2, 10, 4, 5, 12, 10, 6, 5, 2, 4, 2, 2, 13, 5, 2, 4, 2, 4, 7, 2, 10, 7, 13, 10, 7, 7, 9, 11, 13, 10, 4, 2, 7, 3, 1, 3, 5, 2, 8, 12, 3, 12, 4, 8, 6, 10, 9, 2, 2, 3, 6, 10, 13, 4, 8, 11, 9, 13, 3, 1, 3, 11, 5, 11, 9, 9, 10, 11, 3, 7, 13, 9, 9, 2, 13, 3, 2, 10, 3, 2, 2, 10, 13, 10, 9, 8, 8, 13, 6, 9, 9, 6, 2, 3, 3, 9, 8, 3, 8, 9, 1, 1, 11, 3, 7, 10, 7, 11, 11, 1, 13, 9]\n"
          ]
        }
      ]
    },
    {
      "cell_type": "code",
      "metadata": {
        "colab": {
          "base_uri": "https://localhost:8080/"
        },
        "id": "oVVfOz2joM8M",
        "outputId": "141a8fa4-f453-44dd-a862-9d4f40cb9068"
      },
      "source": [
        "idep_anos_finais.head(3)"
      ],
      "execution_count": null,
      "outputs": [
        {
          "output_type": "execute_result",
          "data": {
            "text/html": [
              "<div>\n",
              "<style scoped>\n",
              "    .dataframe tbody tr th:only-of-type {\n",
              "        vertical-align: middle;\n",
              "    }\n",
              "\n",
              "    .dataframe tbody tr th {\n",
              "        vertical-align: top;\n",
              "    }\n",
              "\n",
              "    .dataframe thead th {\n",
              "        text-align: right;\n",
              "    }\n",
              "</style>\n",
              "<table border=\"1\" class=\"dataframe\">\n",
              "  <thead>\n",
              "    <tr style=\"text-align: right;\">\n",
              "      <th></th>\n",
              "      <th>Cod_Esc</th>\n",
              "      <th>Escola</th>\n",
              "      <th>Diretoria</th>\n",
              "      <th>Distrito</th>\n",
              "      <th>nse</th>\n",
              "      <th>icg</th>\n",
              "      <th>faixa</th>\n",
              "      <th>idep_2018</th>\n",
              "      <th>idep_2019</th>\n",
              "      <th>meta_2019</th>\n",
              "      <th>meta_2020</th>\n",
              "      <th>meta_2021</th>\n",
              "      <th>meta_2022</th>\n",
              "      <th>meta_2023</th>\n",
              "      <th>idep_media</th>\n",
              "      <th>data_referencia</th>\n",
              "      <th>id_distrito</th>\n",
              "      <th>id_diretoria</th>\n",
              "    </tr>\n",
              "  </thead>\n",
              "  <tbody>\n",
              "    <tr>\n",
              "      <th>0</th>\n",
              "      <td>94862</td>\n",
              "      <td>EMEF ALBERTO SANTOS DUMONT</td>\n",
              "      <td>JACANA/TREMEMBE</td>\n",
              "      <td>VILA MEDEIROS</td>\n",
              "      <td>3</td>\n",
              "      <td>1</td>\n",
              "      <td>1</td>\n",
              "      <td>4.121534</td>\n",
              "      <td>3.58</td>\n",
              "      <td>4.370064</td>\n",
              "      <td>4.625244</td>\n",
              "      <td>4.885569</td>\n",
              "      <td>5.149399</td>\n",
              "      <td>5.415007</td>\n",
              "      <td>3.850767</td>\n",
              "      <td>2019-10-23</td>\n",
              "      <td>VMD</td>\n",
              "      <td>8</td>\n",
              "    </tr>\n",
              "    <tr>\n",
              "      <th>1</th>\n",
              "      <td>191</td>\n",
              "      <td>EMEF ALIPIO CORREA NETO</td>\n",
              "      <td>BUTANTA</td>\n",
              "      <td>VILA SONIA</td>\n",
              "      <td>3</td>\n",
              "      <td>1</td>\n",
              "      <td>1</td>\n",
              "      <td>4.496260</td>\n",
              "      <td>4.80</td>\n",
              "      <td>4.712270</td>\n",
              "      <td>4.932927</td>\n",
              "      <td>5.157158</td>\n",
              "      <td>5.383814</td>\n",
              "      <td>5.611696</td>\n",
              "      <td>4.648130</td>\n",
              "      <td>2019-10-23</td>\n",
              "      <td>VSO</td>\n",
              "      <td>1</td>\n",
              "    </tr>\n",
              "    <tr>\n",
              "      <th>2</th>\n",
              "      <td>95427</td>\n",
              "      <td>EMEF ALVARES DE AZEVEDO</td>\n",
              "      <td>IPIRANGA</td>\n",
              "      <td>SAO LUCAS</td>\n",
              "      <td>3</td>\n",
              "      <td>1</td>\n",
              "      <td>1</td>\n",
              "      <td>4.911974</td>\n",
              "      <td>4.91</td>\n",
              "      <td>5.058724</td>\n",
              "      <td>5.206879</td>\n",
              "      <td>5.356097</td>\n",
              "      <td>5.506032</td>\n",
              "      <td>5.656326</td>\n",
              "      <td>4.910987</td>\n",
              "      <td>2019-10-23</td>\n",
              "      <td>SLU</td>\n",
              "      <td>6</td>\n",
              "    </tr>\n",
              "  </tbody>\n",
              "</table>\n",
              "</div>"
            ],
            "text/plain": [
              "   Cod_Esc                      Escola  ... id_distrito id_diretoria\n",
              "0    94862  EMEF ALBERTO SANTOS DUMONT  ...         VMD            8\n",
              "1      191     EMEF ALIPIO CORREA NETO  ...         VSO            1\n",
              "2    95427     EMEF ALVARES DE AZEVEDO  ...         SLU            6\n",
              "\n",
              "[3 rows x 18 columns]"
            ]
          },
          "metadata": {},
          "execution_count": 243
        }
      ]
    },
    {
      "cell_type": "markdown",
      "metadata": {
        "id": "okU5IWwnzulM"
      },
      "source": [
        "#**Criando nova tabela com nomes das escolas: 'idep_dim_escolas' para novo dicionário**"
      ]
    },
    {
      "cell_type": "code",
      "metadata": {
        "colab": {
          "base_uri": "https://localhost:8080/"
        },
        "id": "BXgaw1RIz9ks",
        "outputId": "84d51474-bd25-45c9-f55b-5803cb6d7fd5"
      },
      "source": [
        "idep_dim_escolas = pd.DataFrame()\n",
        "idep_dim_escolas['escola'] = idep_anos_finais['Escola']\n",
        "idep_dim_escolas.index = np.arange(1, len(idep_dim_escolas) + 1)\n",
        "idep_dim_escolas['id_escola'] = idep_dim_escolas.index\n",
        "print(idep_dim_escolas)"
      ],
      "execution_count": null,
      "outputs": [
        {
          "output_type": "stream",
          "name": "stdout",
          "text": [
            "                                       escola  id_escola\n",
            "1                  EMEF ALBERTO SANTOS DUMONT          1\n",
            "2                     EMEF ALIPIO CORREA NETO          2\n",
            "3                     EMEF ALVARES DE AZEVEDO          3\n",
            "4                 EMEF ALVARO SILVA BRAGA GAL          4\n",
            "5                      EMEF ANTENOR NASCENTES          5\n",
            "..                                        ...        ...\n",
            "546  EMEF MARTIN FRANCISCO RIBEIRO DE ANDRADA        546\n",
            "547          EMEF HELENA LOMBARDI BRAGA PROFA        547\n",
            "548               EMEF DEODORO DA FONSECA MAL        548\n",
            "549                  EMEF LUIS SAIA ARQUITETO        549\n",
            "550                EMEF JACKSON DE FIGUEIREDO        550\n",
            "\n",
            "[550 rows x 2 columns]\n"
          ]
        }
      ]
    },
    {
      "cell_type": "code",
      "metadata": {
        "id": "bnhuGXwb_DOj"
      },
      "source": [
        "idep_dim_escolas.reset_index(inplace=True, drop=False)"
      ],
      "execution_count": null,
      "outputs": []
    },
    {
      "cell_type": "code",
      "metadata": {
        "id": "BLiXhaRb_ys0"
      },
      "source": [
        "idep_dim_escolas = idep_dim_escolas.drop('index', 1)"
      ],
      "execution_count": null,
      "outputs": []
    },
    {
      "cell_type": "code",
      "metadata": {
        "colab": {
          "base_uri": "https://localhost:8080/"
        },
        "id": "KqrDuYq6_r5U",
        "outputId": "e8389195-7962-4168-bbd7-204286198d66"
      },
      "source": [
        "idep_dim_escolas"
      ],
      "execution_count": null,
      "outputs": [
        {
          "output_type": "execute_result",
          "data": {
            "text/html": [
              "<div>\n",
              "<style scoped>\n",
              "    .dataframe tbody tr th:only-of-type {\n",
              "        vertical-align: middle;\n",
              "    }\n",
              "\n",
              "    .dataframe tbody tr th {\n",
              "        vertical-align: top;\n",
              "    }\n",
              "\n",
              "    .dataframe thead th {\n",
              "        text-align: right;\n",
              "    }\n",
              "</style>\n",
              "<table border=\"1\" class=\"dataframe\">\n",
              "  <thead>\n",
              "    <tr style=\"text-align: right;\">\n",
              "      <th></th>\n",
              "      <th>escola</th>\n",
              "      <th>id_escola</th>\n",
              "    </tr>\n",
              "  </thead>\n",
              "  <tbody>\n",
              "    <tr>\n",
              "      <th>0</th>\n",
              "      <td>EMEF ALBERTO SANTOS DUMONT</td>\n",
              "      <td>1</td>\n",
              "    </tr>\n",
              "    <tr>\n",
              "      <th>1</th>\n",
              "      <td>EMEF ALIPIO CORREA NETO</td>\n",
              "      <td>2</td>\n",
              "    </tr>\n",
              "    <tr>\n",
              "      <th>2</th>\n",
              "      <td>EMEF ALVARES DE AZEVEDO</td>\n",
              "      <td>3</td>\n",
              "    </tr>\n",
              "    <tr>\n",
              "      <th>3</th>\n",
              "      <td>EMEF ALVARO SILVA BRAGA GAL</td>\n",
              "      <td>4</td>\n",
              "    </tr>\n",
              "    <tr>\n",
              "      <th>4</th>\n",
              "      <td>EMEF ANTENOR NASCENTES</td>\n",
              "      <td>5</td>\n",
              "    </tr>\n",
              "    <tr>\n",
              "      <th>...</th>\n",
              "      <td>...</td>\n",
              "      <td>...</td>\n",
              "    </tr>\n",
              "    <tr>\n",
              "      <th>545</th>\n",
              "      <td>EMEF MARTIN FRANCISCO RIBEIRO DE ANDRADA</td>\n",
              "      <td>546</td>\n",
              "    </tr>\n",
              "    <tr>\n",
              "      <th>546</th>\n",
              "      <td>EMEF HELENA LOMBARDI BRAGA PROFA</td>\n",
              "      <td>547</td>\n",
              "    </tr>\n",
              "    <tr>\n",
              "      <th>547</th>\n",
              "      <td>EMEF DEODORO DA FONSECA MAL</td>\n",
              "      <td>548</td>\n",
              "    </tr>\n",
              "    <tr>\n",
              "      <th>548</th>\n",
              "      <td>EMEF LUIS SAIA ARQUITETO</td>\n",
              "      <td>549</td>\n",
              "    </tr>\n",
              "    <tr>\n",
              "      <th>549</th>\n",
              "      <td>EMEF JACKSON DE FIGUEIREDO</td>\n",
              "      <td>550</td>\n",
              "    </tr>\n",
              "  </tbody>\n",
              "</table>\n",
              "<p>550 rows × 2 columns</p>\n",
              "</div>"
            ],
            "text/plain": [
              "                                       escola  id_escola\n",
              "0                  EMEF ALBERTO SANTOS DUMONT          1\n",
              "1                     EMEF ALIPIO CORREA NETO          2\n",
              "2                     EMEF ALVARES DE AZEVEDO          3\n",
              "3                 EMEF ALVARO SILVA BRAGA GAL          4\n",
              "4                      EMEF ANTENOR NASCENTES          5\n",
              "..                                        ...        ...\n",
              "545  EMEF MARTIN FRANCISCO RIBEIRO DE ANDRADA        546\n",
              "546          EMEF HELENA LOMBARDI BRAGA PROFA        547\n",
              "547               EMEF DEODORO DA FONSECA MAL        548\n",
              "548                  EMEF LUIS SAIA ARQUITETO        549\n",
              "549                EMEF JACKSON DE FIGUEIREDO        550\n",
              "\n",
              "[550 rows x 2 columns]"
            ]
          },
          "metadata": {},
          "execution_count": 247
        }
      ]
    },
    {
      "cell_type": "code",
      "metadata": {
        "id": "YZA34QS4z9qe"
      },
      "source": [
        "idep_dim_escolas.to_csv(r'idep_dim_escolas.csv', index = False)"
      ],
      "execution_count": null,
      "outputs": []
    },
    {
      "cell_type": "markdown",
      "metadata": {
        "id": "t9WHiiEf7fI0"
      },
      "source": [
        "#**Substituindo a coluna \"Escola\" pela \"id_escola\"**"
      ]
    },
    {
      "cell_type": "markdown",
      "metadata": {
        "id": "1WTY3tlM9HzW"
      },
      "source": [
        "Anos Finais"
      ]
    },
    {
      "cell_type": "code",
      "metadata": {
        "id": "Ubd_SyL37uR1"
      },
      "source": [
        "idep_anos_finais['Escola'] = idep_dim_escolas['id_escola']"
      ],
      "execution_count": null,
      "outputs": []
    },
    {
      "cell_type": "markdown",
      "metadata": {
        "id": "9VOGiT659XJw"
      },
      "source": [
        "Anos Iniciais"
      ]
    },
    {
      "cell_type": "code",
      "metadata": {
        "id": "WRUp1EnZ7uVA"
      },
      "source": [
        "idep_anos_iniciais['Escola'] = idep_dim_escolas['id_escola']"
      ],
      "execution_count": null,
      "outputs": []
    },
    {
      "cell_type": "markdown",
      "metadata": {
        "id": "raTU_z4TAEk8"
      },
      "source": [
        "Verif."
      ]
    },
    {
      "cell_type": "code",
      "metadata": {
        "colab": {
          "base_uri": "https://localhost:8080/"
        },
        "id": "4_OeKdWs7uXt",
        "outputId": "4d6db9d5-a6fc-420b-8ae1-b740f8d0fdee"
      },
      "source": [
        "idep_anos_finais.head(3)"
      ],
      "execution_count": null,
      "outputs": [
        {
          "output_type": "execute_result",
          "data": {
            "text/html": [
              "<div>\n",
              "<style scoped>\n",
              "    .dataframe tbody tr th:only-of-type {\n",
              "        vertical-align: middle;\n",
              "    }\n",
              "\n",
              "    .dataframe tbody tr th {\n",
              "        vertical-align: top;\n",
              "    }\n",
              "\n",
              "    .dataframe thead th {\n",
              "        text-align: right;\n",
              "    }\n",
              "</style>\n",
              "<table border=\"1\" class=\"dataframe\">\n",
              "  <thead>\n",
              "    <tr style=\"text-align: right;\">\n",
              "      <th></th>\n",
              "      <th>Cod_Esc</th>\n",
              "      <th>Escola</th>\n",
              "      <th>Diretoria</th>\n",
              "      <th>Distrito</th>\n",
              "      <th>nse</th>\n",
              "      <th>icg</th>\n",
              "      <th>faixa</th>\n",
              "      <th>idep_2018</th>\n",
              "      <th>idep_2019</th>\n",
              "      <th>meta_2019</th>\n",
              "      <th>meta_2020</th>\n",
              "      <th>meta_2021</th>\n",
              "      <th>meta_2022</th>\n",
              "      <th>meta_2023</th>\n",
              "      <th>idep_media</th>\n",
              "      <th>data_referencia</th>\n",
              "      <th>id_distrito</th>\n",
              "      <th>id_diretoria</th>\n",
              "    </tr>\n",
              "  </thead>\n",
              "  <tbody>\n",
              "    <tr>\n",
              "      <th>0</th>\n",
              "      <td>94862</td>\n",
              "      <td>1</td>\n",
              "      <td>JACANA/TREMEMBE</td>\n",
              "      <td>VILA MEDEIROS</td>\n",
              "      <td>3</td>\n",
              "      <td>1</td>\n",
              "      <td>1</td>\n",
              "      <td>4.121534</td>\n",
              "      <td>3.58</td>\n",
              "      <td>4.370064</td>\n",
              "      <td>4.625244</td>\n",
              "      <td>4.885569</td>\n",
              "      <td>5.149399</td>\n",
              "      <td>5.415007</td>\n",
              "      <td>3.850767</td>\n",
              "      <td>2019-10-23</td>\n",
              "      <td>VMD</td>\n",
              "      <td>8</td>\n",
              "    </tr>\n",
              "    <tr>\n",
              "      <th>1</th>\n",
              "      <td>191</td>\n",
              "      <td>2</td>\n",
              "      <td>BUTANTA</td>\n",
              "      <td>VILA SONIA</td>\n",
              "      <td>3</td>\n",
              "      <td>1</td>\n",
              "      <td>1</td>\n",
              "      <td>4.496260</td>\n",
              "      <td>4.80</td>\n",
              "      <td>4.712270</td>\n",
              "      <td>4.932927</td>\n",
              "      <td>5.157158</td>\n",
              "      <td>5.383814</td>\n",
              "      <td>5.611696</td>\n",
              "      <td>4.648130</td>\n",
              "      <td>2019-10-23</td>\n",
              "      <td>VSO</td>\n",
              "      <td>1</td>\n",
              "    </tr>\n",
              "    <tr>\n",
              "      <th>2</th>\n",
              "      <td>95427</td>\n",
              "      <td>3</td>\n",
              "      <td>IPIRANGA</td>\n",
              "      <td>SAO LUCAS</td>\n",
              "      <td>3</td>\n",
              "      <td>1</td>\n",
              "      <td>1</td>\n",
              "      <td>4.911974</td>\n",
              "      <td>4.91</td>\n",
              "      <td>5.058724</td>\n",
              "      <td>5.206879</td>\n",
              "      <td>5.356097</td>\n",
              "      <td>5.506032</td>\n",
              "      <td>5.656326</td>\n",
              "      <td>4.910987</td>\n",
              "      <td>2019-10-23</td>\n",
              "      <td>SLU</td>\n",
              "      <td>6</td>\n",
              "    </tr>\n",
              "  </tbody>\n",
              "</table>\n",
              "</div>"
            ],
            "text/plain": [
              "   Cod_Esc  Escola        Diretoria  ... data_referencia  id_distrito  id_diretoria\n",
              "0    94862       1  JACANA/TREMEMBE  ...      2019-10-23          VMD             8\n",
              "1      191       2          BUTANTA  ...      2019-10-23          VSO             1\n",
              "2    95427       3         IPIRANGA  ...      2019-10-23          SLU             6\n",
              "\n",
              "[3 rows x 18 columns]"
            ]
          },
          "metadata": {},
          "execution_count": 251
        }
      ]
    },
    {
      "cell_type": "code",
      "metadata": {
        "colab": {
          "base_uri": "https://localhost:8080/"
        },
        "id": "HHvYRB6m9xgR",
        "outputId": "35b3f190-afdd-41c2-a779-6ee8424b92d8"
      },
      "source": [
        "idep_anos_iniciais.head(3)"
      ],
      "execution_count": null,
      "outputs": [
        {
          "output_type": "execute_result",
          "data": {
            "text/html": [
              "<div>\n",
              "<style scoped>\n",
              "    .dataframe tbody tr th:only-of-type {\n",
              "        vertical-align: middle;\n",
              "    }\n",
              "\n",
              "    .dataframe tbody tr th {\n",
              "        vertical-align: top;\n",
              "    }\n",
              "\n",
              "    .dataframe thead th {\n",
              "        text-align: right;\n",
              "    }\n",
              "</style>\n",
              "<table border=\"1\" class=\"dataframe\">\n",
              "  <thead>\n",
              "    <tr style=\"text-align: right;\">\n",
              "      <th></th>\n",
              "      <th>Cod_Esc</th>\n",
              "      <th>Escola</th>\n",
              "      <th>Diretoria</th>\n",
              "      <th>Distrito</th>\n",
              "      <th>nse</th>\n",
              "      <th>icg</th>\n",
              "      <th>faixa</th>\n",
              "      <th>idep_2018</th>\n",
              "      <th>idep_2019</th>\n",
              "      <th>meta_2019</th>\n",
              "      <th>meta_2020</th>\n",
              "      <th>meta_2021</th>\n",
              "      <th>meta_2022</th>\n",
              "      <th>meta_2023</th>\n",
              "      <th>idep_media</th>\n",
              "      <th>data_referencia</th>\n",
              "      <th>id_distrito</th>\n",
              "      <th>id_diretoria</th>\n",
              "    </tr>\n",
              "  </thead>\n",
              "  <tbody>\n",
              "    <tr>\n",
              "      <th>0</th>\n",
              "      <td>191</td>\n",
              "      <td>1</td>\n",
              "      <td>BUTANTA</td>\n",
              "      <td>VILA SONIA</td>\n",
              "      <td>3</td>\n",
              "      <td>1</td>\n",
              "      <td>1</td>\n",
              "      <td>5.509309</td>\n",
              "      <td>4.93</td>\n",
              "      <td>5.692880</td>\n",
              "      <td>5.880894</td>\n",
              "      <td>6.072335</td>\n",
              "      <td>6.266107</td>\n",
              "      <td>6.461058</td>\n",
              "      <td>5.219654</td>\n",
              "      <td>2019-10-23</td>\n",
              "      <td>VSO</td>\n",
              "      <td>1</td>\n",
              "    </tr>\n",
              "    <tr>\n",
              "      <th>1</th>\n",
              "      <td>264</td>\n",
              "      <td>2</td>\n",
              "      <td>SANTO AMARO</td>\n",
              "      <td>PEDREIRA</td>\n",
              "      <td>3</td>\n",
              "      <td>1</td>\n",
              "      <td>1</td>\n",
              "      <td>4.485213</td>\n",
              "      <td>4.04</td>\n",
              "      <td>4.700236</td>\n",
              "      <td>4.919800</td>\n",
              "      <td>5.142854</td>\n",
              "      <td>5.368275</td>\n",
              "      <td>5.594893</td>\n",
              "      <td>4.262607</td>\n",
              "      <td>2019-10-23</td>\n",
              "      <td>PDR</td>\n",
              "      <td>11</td>\n",
              "    </tr>\n",
              "    <tr>\n",
              "      <th>2</th>\n",
              "      <td>477</td>\n",
              "      <td>3</td>\n",
              "      <td>BUTANTA</td>\n",
              "      <td>RAPOSO TAVARES</td>\n",
              "      <td>3</td>\n",
              "      <td>1</td>\n",
              "      <td>1</td>\n",
              "      <td>4.780853</td>\n",
              "      <td>4.30</td>\n",
              "      <td>5.001684</td>\n",
              "      <td>5.228437</td>\n",
              "      <td>5.459773</td>\n",
              "      <td>5.694232</td>\n",
              "      <td>5.930274</td>\n",
              "      <td>4.540427</td>\n",
              "      <td>2019-10-23</td>\n",
              "      <td>RTA</td>\n",
              "      <td>1</td>\n",
              "    </tr>\n",
              "  </tbody>\n",
              "</table>\n",
              "</div>"
            ],
            "text/plain": [
              "   Cod_Esc  Escola    Diretoria  ... data_referencia  id_distrito  id_diretoria\n",
              "0      191       1      BUTANTA  ...      2019-10-23          VSO             1\n",
              "1      264       2  SANTO AMARO  ...      2019-10-23          PDR            11\n",
              "2      477       3      BUTANTA  ...      2019-10-23          RTA             1\n",
              "\n",
              "[3 rows x 18 columns]"
            ]
          },
          "metadata": {},
          "execution_count": 252
        }
      ]
    },
    {
      "cell_type": "markdown",
      "metadata": {
        "id": "2YjnGtURxn07"
      },
      "source": [
        "#**Drop de colunas desnecessárias e última renomeação**"
      ]
    },
    {
      "cell_type": "code",
      "metadata": {
        "id": "wCQwHHQ8J5Ut"
      },
      "source": [
        "idep_anos_iniciais = idep_anos_iniciais.drop(['Diretoria', 'Distrito'], 1)\n",
        "idep_anos_finais = idep_anos_finais.drop(['Diretoria', 'Distrito'], 1)"
      ],
      "execution_count": null,
      "outputs": []
    },
    {
      "cell_type": "code",
      "metadata": {
        "id": "RPHPF7AJsJ9B"
      },
      "source": [
        "idep_anos_iniciais = idep_anos_iniciais.rename(columns={'Escola' : 'id_escola', 'Cod_Esc':'cod_esc'})\n",
        "idep_anos_finais = idep_anos_finais.rename(columns={'Escola' : 'id_escola', 'Cod_Esc':'cod_esc'})"
      ],
      "execution_count": null,
      "outputs": []
    },
    {
      "cell_type": "code",
      "metadata": {
        "colab": {
          "base_uri": "https://localhost:8080/"
        },
        "id": "oWy7mP9ypM9X",
        "outputId": "686557f0-4e89-4707-c69d-220e711f16e9"
      },
      "source": [
        "idep_anos_finais.head(3)"
      ],
      "execution_count": null,
      "outputs": [
        {
          "output_type": "execute_result",
          "data": {
            "text/html": [
              "<div>\n",
              "<style scoped>\n",
              "    .dataframe tbody tr th:only-of-type {\n",
              "        vertical-align: middle;\n",
              "    }\n",
              "\n",
              "    .dataframe tbody tr th {\n",
              "        vertical-align: top;\n",
              "    }\n",
              "\n",
              "    .dataframe thead th {\n",
              "        text-align: right;\n",
              "    }\n",
              "</style>\n",
              "<table border=\"1\" class=\"dataframe\">\n",
              "  <thead>\n",
              "    <tr style=\"text-align: right;\">\n",
              "      <th></th>\n",
              "      <th>cod_esc</th>\n",
              "      <th>id_escola</th>\n",
              "      <th>nse</th>\n",
              "      <th>icg</th>\n",
              "      <th>faixa</th>\n",
              "      <th>idep_2018</th>\n",
              "      <th>idep_2019</th>\n",
              "      <th>meta_2019</th>\n",
              "      <th>meta_2020</th>\n",
              "      <th>meta_2021</th>\n",
              "      <th>meta_2022</th>\n",
              "      <th>meta_2023</th>\n",
              "      <th>idep_media</th>\n",
              "      <th>data_referencia</th>\n",
              "      <th>id_distrito</th>\n",
              "      <th>id_diretoria</th>\n",
              "    </tr>\n",
              "  </thead>\n",
              "  <tbody>\n",
              "    <tr>\n",
              "      <th>0</th>\n",
              "      <td>94862</td>\n",
              "      <td>1</td>\n",
              "      <td>3</td>\n",
              "      <td>1</td>\n",
              "      <td>1</td>\n",
              "      <td>4.121534</td>\n",
              "      <td>3.58</td>\n",
              "      <td>4.370064</td>\n",
              "      <td>4.625244</td>\n",
              "      <td>4.885569</td>\n",
              "      <td>5.149399</td>\n",
              "      <td>5.415007</td>\n",
              "      <td>3.850767</td>\n",
              "      <td>2019-10-23</td>\n",
              "      <td>VMD</td>\n",
              "      <td>8</td>\n",
              "    </tr>\n",
              "    <tr>\n",
              "      <th>1</th>\n",
              "      <td>191</td>\n",
              "      <td>2</td>\n",
              "      <td>3</td>\n",
              "      <td>1</td>\n",
              "      <td>1</td>\n",
              "      <td>4.496260</td>\n",
              "      <td>4.80</td>\n",
              "      <td>4.712270</td>\n",
              "      <td>4.932927</td>\n",
              "      <td>5.157158</td>\n",
              "      <td>5.383814</td>\n",
              "      <td>5.611696</td>\n",
              "      <td>4.648130</td>\n",
              "      <td>2019-10-23</td>\n",
              "      <td>VSO</td>\n",
              "      <td>1</td>\n",
              "    </tr>\n",
              "    <tr>\n",
              "      <th>2</th>\n",
              "      <td>95427</td>\n",
              "      <td>3</td>\n",
              "      <td>3</td>\n",
              "      <td>1</td>\n",
              "      <td>1</td>\n",
              "      <td>4.911974</td>\n",
              "      <td>4.91</td>\n",
              "      <td>5.058724</td>\n",
              "      <td>5.206879</td>\n",
              "      <td>5.356097</td>\n",
              "      <td>5.506032</td>\n",
              "      <td>5.656326</td>\n",
              "      <td>4.910987</td>\n",
              "      <td>2019-10-23</td>\n",
              "      <td>SLU</td>\n",
              "      <td>6</td>\n",
              "    </tr>\n",
              "  </tbody>\n",
              "</table>\n",
              "</div>"
            ],
            "text/plain": [
              "   cod_esc  id_escola  nse  ...  data_referencia  id_distrito  id_diretoria\n",
              "0    94862          1    3  ...       2019-10-23          VMD             8\n",
              "1      191          2    3  ...       2019-10-23          VSO             1\n",
              "2    95427          3    3  ...       2019-10-23          SLU             6\n",
              "\n",
              "[3 rows x 16 columns]"
            ]
          },
          "metadata": {},
          "execution_count": 255
        }
      ]
    },
    {
      "cell_type": "code",
      "metadata": {
        "colab": {
          "base_uri": "https://localhost:8080/"
        },
        "id": "fnPn1Lrpq7qq",
        "outputId": "402b9d30-75d9-434b-eea9-110aa7daecb9"
      },
      "source": [
        "idep_anos_iniciais.head(3)"
      ],
      "execution_count": null,
      "outputs": [
        {
          "output_type": "execute_result",
          "data": {
            "text/html": [
              "<div>\n",
              "<style scoped>\n",
              "    .dataframe tbody tr th:only-of-type {\n",
              "        vertical-align: middle;\n",
              "    }\n",
              "\n",
              "    .dataframe tbody tr th {\n",
              "        vertical-align: top;\n",
              "    }\n",
              "\n",
              "    .dataframe thead th {\n",
              "        text-align: right;\n",
              "    }\n",
              "</style>\n",
              "<table border=\"1\" class=\"dataframe\">\n",
              "  <thead>\n",
              "    <tr style=\"text-align: right;\">\n",
              "      <th></th>\n",
              "      <th>cod_esc</th>\n",
              "      <th>id_escola</th>\n",
              "      <th>nse</th>\n",
              "      <th>icg</th>\n",
              "      <th>faixa</th>\n",
              "      <th>idep_2018</th>\n",
              "      <th>idep_2019</th>\n",
              "      <th>meta_2019</th>\n",
              "      <th>meta_2020</th>\n",
              "      <th>meta_2021</th>\n",
              "      <th>meta_2022</th>\n",
              "      <th>meta_2023</th>\n",
              "      <th>idep_media</th>\n",
              "      <th>data_referencia</th>\n",
              "      <th>id_distrito</th>\n",
              "      <th>id_diretoria</th>\n",
              "    </tr>\n",
              "  </thead>\n",
              "  <tbody>\n",
              "    <tr>\n",
              "      <th>0</th>\n",
              "      <td>191</td>\n",
              "      <td>1</td>\n",
              "      <td>3</td>\n",
              "      <td>1</td>\n",
              "      <td>1</td>\n",
              "      <td>5.509309</td>\n",
              "      <td>4.93</td>\n",
              "      <td>5.692880</td>\n",
              "      <td>5.880894</td>\n",
              "      <td>6.072335</td>\n",
              "      <td>6.266107</td>\n",
              "      <td>6.461058</td>\n",
              "      <td>5.219654</td>\n",
              "      <td>2019-10-23</td>\n",
              "      <td>VSO</td>\n",
              "      <td>1</td>\n",
              "    </tr>\n",
              "    <tr>\n",
              "      <th>1</th>\n",
              "      <td>264</td>\n",
              "      <td>2</td>\n",
              "      <td>3</td>\n",
              "      <td>1</td>\n",
              "      <td>1</td>\n",
              "      <td>4.485213</td>\n",
              "      <td>4.04</td>\n",
              "      <td>4.700236</td>\n",
              "      <td>4.919800</td>\n",
              "      <td>5.142854</td>\n",
              "      <td>5.368275</td>\n",
              "      <td>5.594893</td>\n",
              "      <td>4.262607</td>\n",
              "      <td>2019-10-23</td>\n",
              "      <td>PDR</td>\n",
              "      <td>11</td>\n",
              "    </tr>\n",
              "    <tr>\n",
              "      <th>2</th>\n",
              "      <td>477</td>\n",
              "      <td>3</td>\n",
              "      <td>3</td>\n",
              "      <td>1</td>\n",
              "      <td>1</td>\n",
              "      <td>4.780853</td>\n",
              "      <td>4.30</td>\n",
              "      <td>5.001684</td>\n",
              "      <td>5.228437</td>\n",
              "      <td>5.459773</td>\n",
              "      <td>5.694232</td>\n",
              "      <td>5.930274</td>\n",
              "      <td>4.540427</td>\n",
              "      <td>2019-10-23</td>\n",
              "      <td>RTA</td>\n",
              "      <td>1</td>\n",
              "    </tr>\n",
              "  </tbody>\n",
              "</table>\n",
              "</div>"
            ],
            "text/plain": [
              "   cod_esc  id_escola  nse  ...  data_referencia  id_distrito  id_diretoria\n",
              "0      191          1    3  ...       2019-10-23          VSO             1\n",
              "1      264          2    3  ...       2019-10-23          PDR            11\n",
              "2      477          3    3  ...       2019-10-23          RTA             1\n",
              "\n",
              "[3 rows x 16 columns]"
            ]
          },
          "metadata": {},
          "execution_count": 256
        }
      ]
    },
    {
      "cell_type": "markdown",
      "metadata": {
        "id": "no4Ek_kOKDcN"
      },
      "source": [
        "#**Salvando as tabelas**"
      ]
    },
    {
      "cell_type": "code",
      "metadata": {
        "id": "_YORmkmFxqjx"
      },
      "source": [
        "idep_anos_iniciais.to_csv(r'idep_fato_anos_iniciais', index = False)"
      ],
      "execution_count": null,
      "outputs": []
    },
    {
      "cell_type": "code",
      "metadata": {
        "id": "SJsjEGQixt7B"
      },
      "source": [
        "idep_anos_iniciais.to_csv(r'idep_fato_anos_finais', index = False)"
      ],
      "execution_count": null,
      "outputs": []
    },
    {
      "cell_type": "markdown",
      "metadata": {
        "id": "uryNDyMhQxPI"
      },
      "source": [
        "#Extra: Estudando Re"
      ]
    },
    {
      "cell_type": "code",
      "metadata": {
        "id": "H3_bKJzfQyFP"
      },
      "source": [
        "string = 'abc 126 de 236  f45 6'"
      ],
      "execution_count": null,
      "outputs": []
    },
    {
      "cell_type": "code",
      "metadata": {
        "colab": {
          "base_uri": "https://localhost:8080/"
        },
        "id": "_cOq0UGdQzKY",
        "outputId": "f53bd28c-8ac7-4959-d16e-618bcfcfa5d8"
      },
      "source": [
        "print(string)"
      ],
      "execution_count": null,
      "outputs": [
        {
          "output_type": "stream",
          "name": "stdout",
          "text": [
            "abc 126 de 236  f45 6\n"
          ]
        }
      ]
    },
    {
      "cell_type": "code",
      "metadata": {
        "id": "bXm_YTAWQ5tw"
      },
      "source": [
        "pattern = '6'"
      ],
      "execution_count": null,
      "outputs": []
    },
    {
      "cell_type": "code",
      "metadata": {
        "colab": {
          "base_uri": "https://localhost:8080/"
        },
        "id": "r8eNaXjcQ62Y",
        "outputId": "c2baa191-c516-4b5a-8757-a602a2e6869c"
      },
      "source": [
        "print(pattern)"
      ],
      "execution_count": null,
      "outputs": [
        {
          "output_type": "stream",
          "name": "stdout",
          "text": [
            "6\n"
          ]
        }
      ]
    },
    {
      "cell_type": "code",
      "metadata": {
        "id": "CHWUnlO3Q65Q"
      },
      "source": [
        "replace = ''"
      ],
      "execution_count": null,
      "outputs": []
    },
    {
      "cell_type": "code",
      "metadata": {
        "id": "Tbo_NHExQ675"
      },
      "source": [
        "new_string = re.sub(pattern, replace, string)  "
      ],
      "execution_count": null,
      "outputs": []
    },
    {
      "cell_type": "code",
      "metadata": {
        "colab": {
          "base_uri": "https://localhost:8080/"
        },
        "id": "fjyBTYD9RUKJ",
        "outputId": "98ef1bbc-ff8e-4843-ee34-564011d95a92"
      },
      "source": [
        "print(new_string)"
      ],
      "execution_count": null,
      "outputs": [
        {
          "output_type": "stream",
          "name": "stdout",
          "text": [
            "abc 12 de 23  f45 \n"
          ]
        }
      ]
    }
  ]
}