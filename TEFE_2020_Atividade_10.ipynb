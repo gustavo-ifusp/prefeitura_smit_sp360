{
  "nbformat": 4,
  "nbformat_minor": 0,
  "metadata": {
    "colab": {
      "name": "TEFE 2020 - Atividade 10.ipynb",
      "provenance": [],
      "collapsed_sections": [],
      "toc_visible": true,
      "include_colab_link": true
    },
    "kernelspec": {
      "name": "python3",
      "display_name": "Python 3"
    }
  },
  "cells": [
    {
      "cell_type": "markdown",
      "metadata": {
        "id": "view-in-github",
        "colab_type": "text"
      },
      "source": [
        "<a href=\"https://colab.research.google.com/github/gustavo-ifusp/prefeitura_smit_sp360/blob/main/TEFE_2020_Atividade_10.ipynb\" target=\"_parent\"><img src=\"https://colab.research.google.com/assets/colab-badge.svg\" alt=\"Open In Colab\"/></a>"
      ]
    },
    {
      "cell_type": "code",
      "metadata": {
        "id": "0O1EZb7hAQGC"
      },
      "source": [
        "import numpy as np\n",
        "import matplotlib.pyplot as plt\n",
        "\n",
        "N = 10000\n",
        "\n",
        "lmbd = [1.,1.5,2.,2.5,3.]"
      ],
      "execution_count": null,
      "outputs": []
    },
    {
      "cell_type": "markdown",
      "metadata": {
        "id": "Gy_GW4_SvOsW"
      },
      "source": [
        "# Gere  um  conjunto  com $𝑁=10.000$ dados "
      ]
    },
    {
      "cell_type": "code",
      "metadata": {
        "id": "QXAsrff6fPyJ",
        "colab": {
          "base_uri": "https://localhost:8080/",
          "height": 367
        },
        "outputId": "06b495f4-84b6-4599-9401-2502276544b9"
      },
      "source": [
        "# método inversão\n",
        "g = np.random.default_rng().random(N)\n",
        "x = np.cbrt(2*g - 1) \n",
        "\n",
        "plt.hist(x)"
      ],
      "execution_count": null,
      "outputs": [
        {
          "output_type": "execute_result",
          "data": {
            "text/plain": [
              "(array([2487., 1478.,  731.,  254.,   33.,   41.,  279.,  736., 1560.,\n",
              "        2401.]),\n",
              " array([-9.99952393e-01, -7.99976768e-01, -6.00001143e-01, -4.00025518e-01,\n",
              "        -2.00049893e-01, -7.42675588e-05,  1.99901358e-01,  3.99876983e-01,\n",
              "         5.99852608e-01,  7.99828233e-01,  9.99803858e-01]),\n",
              " <a list of 10 Patch objects>)"
            ]
          },
          "metadata": {
            "tags": []
          },
          "execution_count": 3
        },
        {
          "output_type": "display_data",
          "data": {
            "image/png": "[encoded data removed]",
            "text/plain": [
              "<Figure size 432x288 with 1 Axes>"
            ]
          },
          "metadata": {
            "tags": [],
            "needs_background": "light"
          }
        }
      ]
    },
    {
      "cell_type": "markdown",
      "metadata": {
        "id": "W3mHV9nTs2Ic"
      },
      "source": [
        "## e  preenchaacoluna  (1)  do  quadro  com o  númerode valores observados em cada um dos intervalos indicados."
      ]
    },
    {
      "cell_type": "code",
      "metadata": {
        "id": "JQetVj8rhsd4",
        "colab": {
          "base_uri": "https://localhost:8080/"
        },
        "outputId": "86dd9183-c256-4bef-ce21-8991a8891427"
      },
      "source": [
        "sigma_x = (3/5)**(1/2)\n",
        "\n",
        "# n(|x|<=lambda*sigma_x)\n",
        "col_1 = [np.sum(np.abs(x)<=l*sigma_x) for l in lmbd]\n",
        "col_1"
      ],
      "execution_count": null,
      "outputs": [
        {
          "output_type": "execute_result",
          "data": {
            "text/plain": [
              "[4650, 10000, 10000, 10000, 10000]"
            ]
          },
          "metadata": {
            "tags": []
          },
          "execution_count": 5
        }
      ]
    },
    {
      "cell_type": "markdown",
      "metadata": {
        "id": "X0jKr_z9wA6C"
      },
      "source": [
        "# Considere agora que cada dado, $y$, seja a soma de dois valores que seguem a função $f(x)$ (isto é, que $y=x_1+x_2$).  Gere $N=10.000$ valores  independentes  de $y$ (o  que  implica  em  gerar,  20.000 valores de $x$)"
      ]
    },
    {
      "cell_type": "code",
      "metadata": {
        "id": "61hQgTG4qqT5",
        "colab": {
          "base_uri": "https://localhost:8080/",
          "height": 367
        },
        "outputId": "4f4cdcb3-a244-4c45-bbb2-0192dd53912d"
      },
      "source": [
        "# método inversão\n",
        "g = np.random.default_rng().random((2,N))\n",
        "x_1, x_2 = np.cbrt(2*g - 1) \n",
        "\n",
        "y = x_1 + x_2\n",
        "\n",
        "plt.hist(y)"
      ],
      "execution_count": null,
      "outputs": [
        {
          "output_type": "execute_result",
          "data": {
            "text/plain": [
              "(array([1090., 1125.,  305.,  384., 2130., 2136.,  381.,  331., 1074.,\n",
              "        1044.]),\n",
              " array([-1.98261376e+00, -1.58599282e+00, -1.18937188e+00, -7.92750947e-01,\n",
              "        -3.96130011e-01,  4.90925690e-04,  3.97111862e-01,  7.93732798e-01,\n",
              "         1.19035373e+00,  1.58697467e+00,  1.98359561e+00]),\n",
              " <a list of 10 Patch objects>)"
            ]
          },
          "metadata": {
            "tags": []
          },
          "execution_count": 6
        },
        {
          "output_type": "display_data",
          "data": {
            "image/png": "[encoded data removed]",
            "text/plain": [
              "<Figure size 432x288 with 1 Axes>"
            ]
          },
          "metadata": {
            "tags": [],
            "needs_background": "light"
          }
        }
      ]
    },
    {
      "cell_type": "markdown",
      "metadata": {
        "id": "lFTIc8i-tEPc"
      },
      "source": [
        "##  e preencha a coluna (2) do quadro com o número de valoresde $y$ observados em cada um dos intervalos indicados."
      ]
    },
    {
      "cell_type": "code",
      "metadata": {
        "id": "m4vcX43vzDiu",
        "colab": {
          "base_uri": "https://localhost:8080/"
        },
        "outputId": "956d8785-40a0-43e6-9f6b-801afe4ab8d9"
      },
      "source": [
        "sigma_y = y.std(ddof=1)\n",
        "\n",
        "# n(|y|<=lambda*sigma_y)\n",
        "col_2 = [np.sum(np.abs(y)<=l*sigma_y) for l in lmbd]\n",
        "col_2"
      ],
      "execution_count": null,
      "outputs": [
        {
          "output_type": "execute_result",
          "data": {
            "text/plain": [
              "[5386, 8265, 10000, 10000, 10000]"
            ]
          },
          "metadata": {
            "tags": []
          },
          "execution_count": 7
        }
      ]
    },
    {
      "cell_type": "markdown",
      "metadata": {
        "id": "pM8TOa9Y0ohN"
      },
      "source": [
        "# Faça uma rotina para calcular dados de uma variável $S$ definida como $s = \\sum_{i=1}^M x_i$, para os casos com $M=3$, $5$, $10$ e $100$. Em seguida, preencha as colunas (3)-(6) do quadro com os resultadosobtidos para conjuntos com 𝑁=10.000valores independentes de 𝑆(note que o item acorresponde ao caso em que 𝑀=1, quando 𝑆=𝑥,e o item bao caso 𝑀=2, quando 𝑆=𝑦=𝑥1+𝑥2)."
      ]
    },
    {
      "cell_type": "code",
      "metadata": {
        "id": "LL-zMMl1zF50",
        "colab": {
          "base_uri": "https://localhost:8080/",
          "height": 367
        },
        "outputId": "02f5beb7-83e4-4998-e9c0-5be83dd537d1"
      },
      "source": [
        "M = 3\n",
        "\n",
        "# método inversão\n",
        "g = np.random.default_rng().random((M,N))\n",
        "x = np.cbrt(2*g - 1) \n",
        "\n",
        "s_3 = x.sum(axis=0)\n",
        "\n",
        "plt.hist(s_3)"
      ],
      "execution_count": null,
      "outputs": [
        {
          "output_type": "execute_result",
          "data": {
            "text/plain": [
              "(array([ 491.,  622.,  443., 2300., 1127., 1180., 2258.,  469.,  602.,\n",
              "         508.]),\n",
              " array([-2.94944876, -2.36063546, -1.77182216, -1.18300886, -0.59419556,\n",
              "        -0.00538226,  0.58343104,  1.17224434,  1.76105764,  2.34987094,\n",
              "         2.93868424]),\n",
              " <a list of 10 Patch objects>)"
            ]
          },
          "metadata": {
            "tags": []
          },
          "execution_count": 9
        },
        {
          "output_type": "display_data",
          "data": {
            "image/png": "[encoded data removed]",
            "text/plain": [
              "<Figure size 432x288 with 1 Axes>"
            ]
          },
          "metadata": {
            "tags": [],
            "needs_background": "light"
          }
        }
      ]
    },
    {
      "cell_type": "code",
      "metadata": {
        "id": "z1X9lqAyr045",
        "colab": {
          "base_uri": "https://localhost:8080/"
        },
        "outputId": "adc6e1ed-7920-4064-822b-b53dcb438a82"
      },
      "source": [
        "sigma_s_3 = s_3.std(ddof=1)\n",
        "\n",
        "# n(|y|<=lambda*sigma_s)\n",
        "col_3 = [np.sum(np.abs(s_3)<=l*sigma_s_3) for l in lmbd]\n",
        "col_3"
      ],
      "execution_count": null,
      "outputs": [
        {
          "output_type": "execute_result",
          "data": {
            "text/plain": [
              "[7333, 8121, 9731, 10000, 10000]"
            ]
          },
          "metadata": {
            "tags": []
          },
          "execution_count": 10
        }
      ]
    },
    {
      "cell_type": "code",
      "metadata": {
        "id": "nFqyF7eK4Erp",
        "colab": {
          "base_uri": "https://localhost:8080/",
          "height": 367
        },
        "outputId": "45477995-60b9-45e6-a0a2-9a766e79bc00"
      },
      "source": [
        "M = 5\n",
        "\n",
        "# método inversão\n",
        "g = np.random.default_rng().random((M,N))\n",
        "x = np.cbrt(2*g - 1) \n",
        "\n",
        "s_4 = x.sum(axis=0)\n",
        "\n",
        "plt.hist(s_4)"
      ],
      "execution_count": null,
      "outputs": [
        {
          "output_type": "execute_result",
          "data": {
            "text/plain": [
              "(array([ 168.,  337., 1069., 1346., 2039., 2186., 1330., 1100.,  285.,\n",
              "         140.]),\n",
              " array([-4.65151473, -3.71569066, -2.7798666 , -1.84404253, -0.90821846,\n",
              "         0.02760561,  0.96342968,  1.89925375,  2.83507782,  3.77090189,\n",
              "         4.70672596]),\n",
              " <a list of 10 Patch objects>)"
            ]
          },
          "metadata": {
            "tags": []
          },
          "execution_count": 11
        },
        {
          "output_type": "display_data",
          "data": {
            "image/png": "[encoded data removed]",
            "text/plain": [
              "<Figure size 432x288 with 1 Axes>"
            ]
          },
          "metadata": {
            "tags": [],
            "needs_background": "light"
          }
        }
      ]
    },
    {
      "cell_type": "code",
      "metadata": {
        "id": "j6PoW-c5zjEB",
        "colab": {
          "base_uri": "https://localhost:8080/"
        },
        "outputId": "8f90bba7-9c4d-4811-b012-c64b662c6a8a"
      },
      "source": [
        "sigma_s_4 = s_4.std(ddof=1)\n",
        "\n",
        "# n(|y|<=lambda*sigma_s)\n",
        "col_4 = [np.sum(np.abs(s_4)<=l*sigma_s_4) for l in lmbd]\n",
        "col_4"
      ],
      "execution_count": null,
      "outputs": [
        {
          "output_type": "execute_result",
          "data": {
            "text/plain": [
              "[6596, 8657, 9529, 9944, 10000]"
            ]
          },
          "metadata": {
            "tags": []
          },
          "execution_count": 12
        }
      ]
    },
    {
      "cell_type": "code",
      "metadata": {
        "id": "uN3aaiNJ4Rgq",
        "colab": {
          "base_uri": "https://localhost:8080/",
          "height": 367
        },
        "outputId": "26549f2e-27b2-41f9-8d11-a55fece1a0e8"
      },
      "source": [
        "M = 10\n",
        "\n",
        "# método inversão\n",
        "g = np.random.default_rng().random((M,N))\n",
        "x = np.cbrt(2*g - 1) \n",
        "\n",
        "s_5 = x.sum(axis=0)\n",
        "\n",
        "plt.hist(s_5)"
      ],
      "execution_count": null,
      "outputs": [
        {
          "output_type": "execute_result",
          "data": {
            "text/plain": [
              "(array([  11.,  196.,  764., 1801., 2656., 2414., 1515.,  534.,   97.,\n",
              "          12.]),\n",
              " array([-8.44965365, -6.71147175, -4.97328984, -3.23510794, -1.49692603,\n",
              "         0.24125587,  1.97943777,  3.71761968,  5.45580158,  7.19398349,\n",
              "         8.93216539]),\n",
              " <a list of 10 Patch objects>)"
            ]
          },
          "metadata": {
            "tags": []
          },
          "execution_count": 13
        },
        {
          "output_type": "display_data",
          "data": {
            "image/png": "[encoded data removed]",
            "text/plain": [
              "<Figure size 432x288 with 1 Axes>"
            ]
          },
          "metadata": {
            "tags": [],
            "needs_background": "light"
          }
        }
      ]
    },
    {
      "cell_type": "code",
      "metadata": {
        "id": "l6FaDHyFz4HX",
        "colab": {
          "base_uri": "https://localhost:8080/"
        },
        "outputId": "4f0856d5-6218-40d3-a5cf-901b8fbc344b"
      },
      "source": [
        "sigma_s_5 = s_5.std(ddof=1)\n",
        "\n",
        "# n(|y|<=lambda*sigma_s)\n",
        "col_5 = [np.sum(np.abs(s_5)<=l*sigma_s_5) for l in lmbd]\n",
        "col_5"
      ],
      "execution_count": null,
      "outputs": [
        {
          "output_type": "execute_result",
          "data": {
            "text/plain": [
              "[6758, 8646, 9567, 9907, 9985]"
            ]
          },
          "metadata": {
            "tags": []
          },
          "execution_count": 14
        }
      ]
    },
    {
      "cell_type": "code",
      "metadata": {
        "id": "qtRZBOtm4T71",
        "colab": {
          "base_uri": "https://localhost:8080/",
          "height": 333
        },
        "outputId": "4c366815-b24d-48f1-de55-9199e039020d"
      },
      "source": [
        "M = 100\n",
        "\n",
        "# método inversão\n",
        "g = np.random.default_rng().random((M,N))\n",
        "x = np.cbrt(2*g - 1) \n",
        "\n",
        "s_6 = x.sum(axis=0)\n",
        "\n",
        "plt.hist(s_6)"
      ],
      "execution_count": null,
      "outputs": [
        {
          "output_type": "execute_result",
          "data": {
            "text/plain": [
              "(array([  14.,  130.,  548., 1575., 2717., 2786., 1572.,  532.,  117.,\n",
              "           9.]), array([-29.12647716, -23.27561082, -17.42474449, -11.57387815,\n",
              "         -5.72301181,   0.12785453,   5.97872086,  11.8295872 ,\n",
              "         17.68045354,  23.53131988,  29.38218621]), <a list of 10 Patch objects>)"
            ]
          },
          "metadata": {
            "tags": []
          },
          "execution_count": 15
        },
        {
          "output_type": "display_data",
          "data": {
            "image/png": "[encoded data removed]",
            "text/plain": [
              "<Figure size 432x288 with 1 Axes>"
            ]
          },
          "metadata": {
            "tags": [],
            "needs_background": "light"
          }
        }
      ]
    },
    {
      "cell_type": "code",
      "metadata": {
        "id": "zdDwwJjU0rNu",
        "colab": {
          "base_uri": "https://localhost:8080/"
        },
        "outputId": "72253d4c-fa1d-4cf4-aa6b-573fcaa3e542"
      },
      "source": [
        "sigma_s_6 = s_6.std(ddof=1)\n",
        "\n",
        "# n(|y|<=lambda*sigma_s)\n",
        "col_6 = [np.sum(np.abs(s_6)<=l*sigma_s_6) for l in lmbd]\n",
        "col_6"
      ],
      "execution_count": null,
      "outputs": [
        {
          "output_type": "execute_result",
          "data": {
            "text/plain": [
              "[6870, 8661, 9517, 9884, 9979]"
            ]
          },
          "metadata": {
            "tags": []
          },
          "execution_count": 17
        }
      ]
    },
    {
      "cell_type": "code",
      "metadata": {
        "id": "_1e20Ebb4WND",
        "colab": {
          "base_uri": "https://localhost:8080/",
          "height": 367
        },
        "outputId": "daea986d-90b1-4fe9-d6d2-0c54eb140143"
      },
      "source": [
        "z = np.random.default_rng().normal(size=N)\n",
        "\n",
        "plt.hist(z)"
      ],
      "execution_count": null,
      "outputs": [
        {
          "output_type": "execute_result",
          "data": {
            "text/plain": [
              "(array([  16.,  144.,  626., 1747., 2773., 2593., 1510.,  496.,   87.,\n",
              "           8.]),\n",
              " array([-3.64818346, -2.90503097, -2.16187847, -1.41872598, -0.67557349,\n",
              "         0.06757901,  0.8107315 ,  1.553884  ,  2.29703649,  3.04018899,\n",
              "         3.78334148]),\n",
              " <a list of 10 Patch objects>)"
            ]
          },
          "metadata": {
            "tags": []
          },
          "execution_count": 18
        },
        {
          "output_type": "display_data",
          "data": {
            "image/png": "[encoded data removed]",
            "text/plain": [
              "<Figure size 432x288 with 1 Axes>"
            ]
          },
          "metadata": {
            "tags": [],
            "needs_background": "light"
          }
        }
      ]
    },
    {
      "cell_type": "code",
      "metadata": {
        "id": "sbkryweQ1MfC",
        "colab": {
          "base_uri": "https://localhost:8080/"
        },
        "outputId": "474ce9f6-e8e5-4916-aee7-347cad54d47b"
      },
      "source": [
        "sigma_s_7 = z.std(ddof=1)\n",
        "\n",
        "# n(|y|<=lambda*sigma_z)\n",
        "col_7 = [np.sum(np.abs(z)<=l*sigma_s_7) for l in lmbd]\n",
        "col_7"
      ],
      "execution_count": null,
      "outputs": [
        {
          "output_type": "execute_result",
          "data": {
            "text/plain": [
              "[6808, 8671, 9548, 9881, 9979]"
            ]
          },
          "metadata": {
            "tags": []
          },
          "execution_count": 20
        }
      ]
    },
    {
      "cell_type": "code",
      "metadata": {
        "id": "9Gd9f7Dy04kN",
        "colab": {
          "base_uri": "https://localhost:8080/"
        },
        "outputId": "76d18d2c-0872-4026-ff14-c6b396c3e15e"
      },
      "source": [
        "respostas = np.array([col_1, col_2, col_3, col_4, col_5, col_6, col_7]).T\n",
        "respostas"
      ],
      "execution_count": null,
      "outputs": [
        {
          "output_type": "execute_result",
          "data": {
            "text/plain": [
              "array([[ 4650,  5386,  7333,  6596,  6758,  6870,  6808],\n",
              "       [10000,  8265,  8121,  8657,  8646,  8661,  8671],\n",
              "       [10000, 10000,  9731,  9529,  9567,  9517,  9548],\n",
              "       [10000, 10000, 10000,  9944,  9907,  9884,  9881],\n",
              "       [10000, 10000, 10000, 10000,  9985,  9979,  9979]])"
            ]
          },
          "metadata": {
            "tags": []
          },
          "execution_count": 21
        }
      ]
    },
    {
      "cell_type": "code",
      "metadata": {
        "id": "zLcdgMvc2dim"
      },
      "source": [
        "np.savetxt('respostas.csv', respostas, delimiter=',')"
      ],
      "execution_count": null,
      "outputs": []
    }
  ]
}