{
  "nbformat": 4,
  "nbformat_minor": 0,
  "metadata": {
    "colab": {
      "name": "estatistica_descritiva_passageiros_tranportados_dias_da_semana_acumulado.ipynb",
      "provenance": [],
      "authorship_tag": "ABX9TyMKMPSEYh+dI4qCvk2c/znR",
      "include_colab_link": true
    },
    "kernelspec": {
      "name": "python3",
      "display_name": "Python 3"
    },
    "language_info": {
      "name": "python"
    }
  },
  "cells": [
    {
      "cell_type": "markdown",
      "metadata": {
        "id": "view-in-github",
        "colab_type": "text"
      },
      "source": [
        "<a href=\"https://colab.research.google.com/github/gustavo-ifusp/prefeitura_smit_sp360/blob/main/estatistica_descritiva_passageiros_tranportados_dias_da_semana_acumulado.ipynb\" target=\"_parent\"><img src=\"https://colab.research.google.com/assets/colab-badge.svg\" alt=\"Open In Colab\"/></a>"
      ]
    },
    {
      "cell_type": "code",
      "metadata": {
        "id": "YW0W9zwkc7FG"
      },
      "source": [
        "import pandas as pd\n",
        "import seaborn as sns\n",
        "from datetime import datetime, date, timedelta"
      ],
      "execution_count": null,
      "outputs": []
    },
    {
      "cell_type": "code",
      "metadata": {
        "colab": {
          "base_uri": "https://localhost:8080/",
          "height": 379
        },
        "id": "p1dv0BcbfFpy",
        "outputId": "c10ee18b-9fd8-4da0-a44e-5c75fe16dcaa"
      },
      "source": [
        "dados = pd.DataFrame()\n",
        "dados = pd.read_csv('fato_total_passageiros_transportados_sptrans.csv')\n",
        "dados.tail(10)"
      ],
      "execution_count": null,
      "outputs": [
        {
          "output_type": "execute_result",
          "data": {
            "text/html": [
              "<div>\n",
              "<style scoped>\n",
              "    .dataframe tbody tr th:only-of-type {\n",
              "        vertical-align: middle;\n",
              "    }\n",
              "\n",
              "    .dataframe tbody tr th {\n",
              "        vertical-align: top;\n",
              "    }\n",
              "\n",
              "    .dataframe thead th {\n",
              "        text-align: right;\n",
              "    }\n",
              "</style>\n",
              "<table border=\"1\" class=\"dataframe\">\n",
              "  <thead>\n",
              "    <tr style=\"text-align: right;\">\n",
              "      <th></th>\n",
              "      <th>data_contabilizacao</th>\n",
              "      <th>dia_da_semana</th>\n",
              "      <th>total_passageiros_transportados</th>\n",
              "      <th>passageiros_pagtes_em_dinheiro</th>\n",
              "      <th>passageiros_comum_e_vt</th>\n",
              "      <th>passageiros_pgts_bu_comum_m</th>\n",
              "      <th>passageiros_pagtes_estudante</th>\n",
              "      <th>passageiros_pgts_bu_est_mensal</th>\n",
              "      <th>passageiros_pgts_bu_vt_mensal</th>\n",
              "      <th>passageiros_pagantes</th>\n",
              "      <th>passageiros_int_onibus_onibus</th>\n",
              "      <th>passageiros_com_gratuidade</th>\n",
              "      <th>passageiros_com_gratuidade_est</th>\n",
              "    </tr>\n",
              "  </thead>\n",
              "  <tbody>\n",
              "    <tr>\n",
              "      <th>910</th>\n",
              "      <td>2021-08-01</td>\n",
              "      <td>Domingo</td>\n",
              "      <td>1392340</td>\n",
              "      <td>117429</td>\n",
              "      <td>657613</td>\n",
              "      <td>35953</td>\n",
              "      <td>3244</td>\n",
              "      <td>22</td>\n",
              "      <td>9</td>\n",
              "      <td>814270</td>\n",
              "      <td>377051</td>\n",
              "      <td>189086</td>\n",
              "      <td>11933</td>\n",
              "    </tr>\n",
              "    <tr>\n",
              "      <th>911</th>\n",
              "      <td>2021-08-02</td>\n",
              "      <td>Segunda-feira</td>\n",
              "      <td>4494561</td>\n",
              "      <td>311657</td>\n",
              "      <td>2241423</td>\n",
              "      <td>100502</td>\n",
              "      <td>19298</td>\n",
              "      <td>41</td>\n",
              "      <td>19</td>\n",
              "      <td>2672940</td>\n",
              "      <td>1262525</td>\n",
              "      <td>499463</td>\n",
              "      <td>59633</td>\n",
              "    </tr>\n",
              "    <tr>\n",
              "      <th>912</th>\n",
              "      <td>2021-08-03</td>\n",
              "      <td>Terça-feira</td>\n",
              "      <td>4838057</td>\n",
              "      <td>299532</td>\n",
              "      <td>2421517</td>\n",
              "      <td>111446</td>\n",
              "      <td>24922</td>\n",
              "      <td>57</td>\n",
              "      <td>23</td>\n",
              "      <td>2857497</td>\n",
              "      <td>1371212</td>\n",
              "      <td>525091</td>\n",
              "      <td>84257</td>\n",
              "    </tr>\n",
              "    <tr>\n",
              "      <th>913</th>\n",
              "      <td>2021-08-04</td>\n",
              "      <td>Quarta-feira</td>\n",
              "      <td>4985943</td>\n",
              "      <td>301444</td>\n",
              "      <td>2486363</td>\n",
              "      <td>115398</td>\n",
              "      <td>27665</td>\n",
              "      <td>45</td>\n",
              "      <td>17</td>\n",
              "      <td>2930932</td>\n",
              "      <td>1399190</td>\n",
              "      <td>561333</td>\n",
              "      <td>94488</td>\n",
              "    </tr>\n",
              "    <tr>\n",
              "      <th>914</th>\n",
              "      <td>2021-08-05</td>\n",
              "      <td>Quinta-feira</td>\n",
              "      <td>5086312</td>\n",
              "      <td>307427</td>\n",
              "      <td>2534607</td>\n",
              "      <td>118010</td>\n",
              "      <td>28746</td>\n",
              "      <td>74</td>\n",
              "      <td>28</td>\n",
              "      <td>2988892</td>\n",
              "      <td>1435754</td>\n",
              "      <td>563052</td>\n",
              "      <td>98614</td>\n",
              "    </tr>\n",
              "    <tr>\n",
              "      <th>915</th>\n",
              "      <td>2021-08-06</td>\n",
              "      <td>Sexta-feira</td>\n",
              "      <td>5537159</td>\n",
              "      <td>366550</td>\n",
              "      <td>2740300</td>\n",
              "      <td>127022</td>\n",
              "      <td>30802</td>\n",
              "      <td>51</td>\n",
              "      <td>27</td>\n",
              "      <td>3264752</td>\n",
              "      <td>1541411</td>\n",
              "      <td>638870</td>\n",
              "      <td>92126</td>\n",
              "    </tr>\n",
              "    <tr>\n",
              "      <th>916</th>\n",
              "      <td>2021-08-07</td>\n",
              "      <td>Sábado</td>\n",
              "      <td>3419556</td>\n",
              "      <td>284744</td>\n",
              "      <td>1664757</td>\n",
              "      <td>87888</td>\n",
              "      <td>13905</td>\n",
              "      <td>67</td>\n",
              "      <td>11</td>\n",
              "      <td>2051372</td>\n",
              "      <td>907874</td>\n",
              "      <td>399412</td>\n",
              "      <td>60898</td>\n",
              "    </tr>\n",
              "    <tr>\n",
              "      <th>917</th>\n",
              "      <td>2021-08-08</td>\n",
              "      <td>Domingo</td>\n",
              "      <td>1683558</td>\n",
              "      <td>160330</td>\n",
              "      <td>776474</td>\n",
              "      <td>42842</td>\n",
              "      <td>5766</td>\n",
              "      <td>39</td>\n",
              "      <td>12</td>\n",
              "      <td>985463</td>\n",
              "      <td>448757</td>\n",
              "      <td>222127</td>\n",
              "      <td>27211</td>\n",
              "    </tr>\n",
              "    <tr>\n",
              "      <th>918</th>\n",
              "      <td>2021-08-09</td>\n",
              "      <td>Segunda-feira</td>\n",
              "      <td>4916277</td>\n",
              "      <td>337314</td>\n",
              "      <td>2409227</td>\n",
              "      <td>113554</td>\n",
              "      <td>30406</td>\n",
              "      <td>58</td>\n",
              "      <td>15</td>\n",
              "      <td>2890574</td>\n",
              "      <td>1364137</td>\n",
              "      <td>558303</td>\n",
              "      <td>103263</td>\n",
              "    </tr>\n",
              "    <tr>\n",
              "      <th>919</th>\n",
              "      <td>2021-08-10</td>\n",
              "      <td>Terça-feira</td>\n",
              "      <td>4900030</td>\n",
              "      <td>307472</td>\n",
              "      <td>2396709</td>\n",
              "      <td>114760</td>\n",
              "      <td>32545</td>\n",
              "      <td>46</td>\n",
              "      <td>25</td>\n",
              "      <td>2851557</td>\n",
              "      <td>1393409</td>\n",
              "      <td>548507</td>\n",
              "      <td>106557</td>\n",
              "    </tr>\n",
              "  </tbody>\n",
              "</table>\n",
              "</div>"
            ],
            "text/plain": [
              "    data_contabilizacao  ... passageiros_com_gratuidade_est\n",
              "910          2021-08-01  ...                          11933\n",
              "911          2021-08-02  ...                          59633\n",
              "912          2021-08-03  ...                          84257\n",
              "913          2021-08-04  ...                          94488\n",
              "914          2021-08-05  ...                          98614\n",
              "915          2021-08-06  ...                          92126\n",
              "916          2021-08-07  ...                          60898\n",
              "917          2021-08-08  ...                          27211\n",
              "918          2021-08-09  ...                         103263\n",
              "919          2021-08-10  ...                         106557\n",
              "\n",
              "[10 rows x 13 columns]"
            ]
          },
          "metadata": {},
          "execution_count": 10
        }
      ]
    },
    {
      "cell_type": "code",
      "metadata": {
        "colab": {
          "base_uri": "https://localhost:8080/"
        },
        "id": "v1ktSvcPfFs4",
        "outputId": "581e7370-b8e1-4d7f-e22f-807417412990"
      },
      "source": [
        "dados['data'] = pd.to_datetime(dados['data_contabilizacao'])\n",
        "dados['dia_da_semana'] = dados['dia_da_semana'].astype(\"category\")\n",
        "dados['mes'] = dados['data'].dt.month\n",
        "dados.info()"
      ],
      "execution_count": null,
      "outputs": [
        {
          "output_type": "stream",
          "text": [
            "<class 'pandas.core.frame.DataFrame'>\n",
            "RangeIndex: 920 entries, 0 to 919\n",
            "Data columns (total 15 columns):\n",
            " #   Column                           Non-Null Count  Dtype         \n",
            "---  ------                           --------------  -----         \n",
            " 0   data_contabilizacao              920 non-null    object        \n",
            " 1   dia_da_semana                    920 non-null    category      \n",
            " 2   total_passageiros_transportados  920 non-null    int64         \n",
            " 3   passageiros_pagtes_em_dinheiro   920 non-null    int64         \n",
            " 4   passageiros_comum_e_vt           920 non-null    int64         \n",
            " 5   passageiros_pgts_bu_comum_m      920 non-null    int64         \n",
            " 6   passageiros_pagtes_estudante     920 non-null    int64         \n",
            " 7   passageiros_pgts_bu_est_mensal   920 non-null    int64         \n",
            " 8   passageiros_pgts_bu_vt_mensal    920 non-null    int64         \n",
            " 9   passageiros_pagantes             920 non-null    int64         \n",
            " 10  passageiros_int_onibus_onibus    920 non-null    int64         \n",
            " 11  passageiros_com_gratuidade       920 non-null    int64         \n",
            " 12  passageiros_com_gratuidade_est   920 non-null    int64         \n",
            " 13  data                             920 non-null    datetime64[ns]\n",
            " 14  mes                              920 non-null    int64         \n",
            "dtypes: category(1), datetime64[ns](1), int64(12), object(1)\n",
            "memory usage: 102.0+ KB\n"
          ],
          "name": "stdout"
        }
      ]
    },
    {
      "cell_type": "code",
      "metadata": {
        "colab": {
          "base_uri": "https://localhost:8080/",
          "height": 821
        },
        "id": "5eN9nG7bfFva",
        "outputId": "7a817a43-ceda-4641-e45e-5b03470a5c18"
      },
      "source": [
        "dados_media = dados.groupby(['dia_da_semana', 'mes'], as_index=False)['total_passageiros_transportados'].mean()\n",
        "dados_media = dados_media.rename(columns={'total_passageiros_transportados': 'media_passageiros_transportados'})\n",
        "dados_mediana = dados.groupby(['dia_da_semana', 'mes'], as_index=False)['total_passageiros_transportados'].median()\n",
        "dados_mediana = dados_mediana.rename(columns={'total_passageiros_transportados': 'mediana_passageiros_transportados'})\n",
        "display(dados_media)\n",
        "display(dados_mediana)"
      ],
      "execution_count": null,
      "outputs": [
        {
          "output_type": "display_data",
          "data": {
            "text/html": [
              "<div>\n",
              "<style scoped>\n",
              "    .dataframe tbody tr th:only-of-type {\n",
              "        vertical-align: middle;\n",
              "    }\n",
              "\n",
              "    .dataframe tbody tr th {\n",
              "        vertical-align: top;\n",
              "    }\n",
              "\n",
              "    .dataframe thead th {\n",
              "        text-align: right;\n",
              "    }\n",
              "</style>\n",
              "<table border=\"1\" class=\"dataframe\">\n",
              "  <thead>\n",
              "    <tr style=\"text-align: right;\">\n",
              "      <th></th>\n",
              "      <th>dia_da_semana</th>\n",
              "      <th>mes</th>\n",
              "      <th>media_passageiros_transportados</th>\n",
              "    </tr>\n",
              "  </thead>\n",
              "  <tbody>\n",
              "    <tr>\n",
              "      <th>0</th>\n",
              "      <td>Domingo</td>\n",
              "      <td>1</td>\n",
              "      <td>2.005607e+06</td>\n",
              "    </tr>\n",
              "    <tr>\n",
              "      <th>1</th>\n",
              "      <td>Domingo</td>\n",
              "      <td>2</td>\n",
              "      <td>2.522319e+06</td>\n",
              "    </tr>\n",
              "    <tr>\n",
              "      <th>2</th>\n",
              "      <td>Domingo</td>\n",
              "      <td>3</td>\n",
              "      <td>2.140171e+06</td>\n",
              "    </tr>\n",
              "    <tr>\n",
              "      <th>3</th>\n",
              "      <td>Domingo</td>\n",
              "      <td>4</td>\n",
              "      <td>1.713063e+06</td>\n",
              "    </tr>\n",
              "    <tr>\n",
              "      <th>4</th>\n",
              "      <td>Domingo</td>\n",
              "      <td>5</td>\n",
              "      <td>1.665768e+06</td>\n",
              "    </tr>\n",
              "    <tr>\n",
              "      <th>...</th>\n",
              "      <td>...</td>\n",
              "      <td>...</td>\n",
              "      <td>...</td>\n",
              "    </tr>\n",
              "    <tr>\n",
              "      <th>79</th>\n",
              "      <td>Terça-feira</td>\n",
              "      <td>8</td>\n",
              "      <td>5.790514e+06</td>\n",
              "    </tr>\n",
              "    <tr>\n",
              "      <th>80</th>\n",
              "      <td>Terça-feira</td>\n",
              "      <td>9</td>\n",
              "      <td>6.676889e+06</td>\n",
              "    </tr>\n",
              "    <tr>\n",
              "      <th>81</th>\n",
              "      <td>Terça-feira</td>\n",
              "      <td>10</td>\n",
              "      <td>7.260014e+06</td>\n",
              "    </tr>\n",
              "    <tr>\n",
              "      <th>82</th>\n",
              "      <td>Terça-feira</td>\n",
              "      <td>11</td>\n",
              "      <td>7.032917e+06</td>\n",
              "    </tr>\n",
              "    <tr>\n",
              "      <th>83</th>\n",
              "      <td>Terça-feira</td>\n",
              "      <td>12</td>\n",
              "      <td>6.037076e+06</td>\n",
              "    </tr>\n",
              "  </tbody>\n",
              "</table>\n",
              "<p>84 rows × 3 columns</p>\n",
              "</div>"
            ],
            "text/plain": [
              "   dia_da_semana  mes  media_passageiros_transportados\n",
              "0        Domingo    1                     2.005607e+06\n",
              "1        Domingo    2                     2.522319e+06\n",
              "2        Domingo    3                     2.140171e+06\n",
              "3        Domingo    4                     1.713063e+06\n",
              "4        Domingo    5                     1.665768e+06\n",
              "..           ...  ...                              ...\n",
              "79   Terça-feira    8                     5.790514e+06\n",
              "80   Terça-feira    9                     6.676889e+06\n",
              "81   Terça-feira   10                     7.260014e+06\n",
              "82   Terça-feira   11                     7.032917e+06\n",
              "83   Terça-feira   12                     6.037076e+06\n",
              "\n",
              "[84 rows x 3 columns]"
            ]
          },
          "metadata": {}
        },
        {
          "output_type": "display_data",
          "data": {
            "text/html": [
              "<div>\n",
              "<style scoped>\n",
              "    .dataframe tbody tr th:only-of-type {\n",
              "        vertical-align: middle;\n",
              "    }\n",
              "\n",
              "    .dataframe tbody tr th {\n",
              "        vertical-align: top;\n",
              "    }\n",
              "\n",
              "    .dataframe thead th {\n",
              "        text-align: right;\n",
              "    }\n",
              "</style>\n",
              "<table border=\"1\" class=\"dataframe\">\n",
              "  <thead>\n",
              "    <tr style=\"text-align: right;\">\n",
              "      <th></th>\n",
              "      <th>dia_da_semana</th>\n",
              "      <th>mes</th>\n",
              "      <th>mediana_passageiros_transportados</th>\n",
              "    </tr>\n",
              "  </thead>\n",
              "  <tbody>\n",
              "    <tr>\n",
              "      <th>0</th>\n",
              "      <td>Domingo</td>\n",
              "      <td>1</td>\n",
              "      <td>1803955.0</td>\n",
              "    </tr>\n",
              "    <tr>\n",
              "      <th>1</th>\n",
              "      <td>Domingo</td>\n",
              "      <td>2</td>\n",
              "      <td>2789108.0</td>\n",
              "    </tr>\n",
              "    <tr>\n",
              "      <th>2</th>\n",
              "      <td>Domingo</td>\n",
              "      <td>3</td>\n",
              "      <td>2699623.0</td>\n",
              "    </tr>\n",
              "    <tr>\n",
              "      <th>3</th>\n",
              "      <td>Domingo</td>\n",
              "      <td>4</td>\n",
              "      <td>1294823.0</td>\n",
              "    </tr>\n",
              "    <tr>\n",
              "      <th>4</th>\n",
              "      <td>Domingo</td>\n",
              "      <td>5</td>\n",
              "      <td>1352910.0</td>\n",
              "    </tr>\n",
              "    <tr>\n",
              "      <th>...</th>\n",
              "      <td>...</td>\n",
              "      <td>...</td>\n",
              "      <td>...</td>\n",
              "    </tr>\n",
              "    <tr>\n",
              "      <th>79</th>\n",
              "      <td>Terça-feira</td>\n",
              "      <td>8</td>\n",
              "      <td>4776075.0</td>\n",
              "    </tr>\n",
              "    <tr>\n",
              "      <th>80</th>\n",
              "      <td>Terça-feira</td>\n",
              "      <td>9</td>\n",
              "      <td>4965623.0</td>\n",
              "    </tr>\n",
              "    <tr>\n",
              "      <th>81</th>\n",
              "      <td>Terça-feira</td>\n",
              "      <td>10</td>\n",
              "      <td>8725891.0</td>\n",
              "    </tr>\n",
              "    <tr>\n",
              "      <th>82</th>\n",
              "      <td>Terça-feira</td>\n",
              "      <td>11</td>\n",
              "      <td>6554431.0</td>\n",
              "    </tr>\n",
              "    <tr>\n",
              "      <th>83</th>\n",
              "      <td>Terça-feira</td>\n",
              "      <td>12</td>\n",
              "      <td>5534874.0</td>\n",
              "    </tr>\n",
              "  </tbody>\n",
              "</table>\n",
              "<p>84 rows × 3 columns</p>\n",
              "</div>"
            ],
            "text/plain": [
              "   dia_da_semana  mes  mediana_passageiros_transportados\n",
              "0        Domingo    1                          1803955.0\n",
              "1        Domingo    2                          2789108.0\n",
              "2        Domingo    3                          2699623.0\n",
              "3        Domingo    4                          1294823.0\n",
              "4        Domingo    5                          1352910.0\n",
              "..           ...  ...                                ...\n",
              "79   Terça-feira    8                          4776075.0\n",
              "80   Terça-feira    9                          4965623.0\n",
              "81   Terça-feira   10                          8725891.0\n",
              "82   Terça-feira   11                          6554431.0\n",
              "83   Terça-feira   12                          5534874.0\n",
              "\n",
              "[84 rows x 3 columns]"
            ]
          },
          "metadata": {}
        }
      ]
    },
    {
      "cell_type": "code",
      "metadata": {
        "colab": {
          "base_uri": "https://localhost:8080/",
          "height": 747
        },
        "id": "rimstq6qfFyA",
        "outputId": "a4a1288d-d506-4a84-b20b-f8092af2e26a"
      },
      "source": [
        "g = sns.relplot(x=\"mes\", y=\"media_passageiros_transportados\", kind=\"line\", hue=\"dia_da_semana\" , data=dados_media,  height=12)\n",
        "g.fig.autofmt_xdate()"
      ],
      "execution_count": null,
      "outputs": [
        {
          "output_type": "display_data",
          "data": {
            "image/png": "[encoded data removed]",
            "text/plain": [
              "<Figure size 970.5x864 with 1 Axes>"
            ]
          },
          "metadata": {
            "needs_background": "light"
          }
        }
      ]
    },
    {
      "cell_type": "code",
      "metadata": {
        "id": "_gligkuffF3j"
      },
      "source": [
        "dados_mediana = dados_mediana.drop(['dia_da_semana','mes'], axis = 1)\n",
        "all_data = pd.concat([dados_media, dados_mediana],axis = 1)"
      ],
      "execution_count": null,
      "outputs": []
    },
    {
      "cell_type": "code",
      "metadata": {
        "colab": {
          "base_uri": "https://localhost:8080/",
          "height": 419
        },
        "id": "Nc_HCfwilLMD",
        "outputId": "f1162d75-cdf6-4f2c-92a7-d773a4204bbd"
      },
      "source": [
        "display(all_data)"
      ],
      "execution_count": null,
      "outputs": [
        {
          "output_type": "display_data",
          "data": {
            "text/html": [
              "<div>\n",
              "<style scoped>\n",
              "    .dataframe tbody tr th:only-of-type {\n",
              "        vertical-align: middle;\n",
              "    }\n",
              "\n",
              "    .dataframe tbody tr th {\n",
              "        vertical-align: top;\n",
              "    }\n",
              "\n",
              "    .dataframe thead th {\n",
              "        text-align: right;\n",
              "    }\n",
              "</style>\n",
              "<table border=\"1\" class=\"dataframe\">\n",
              "  <thead>\n",
              "    <tr style=\"text-align: right;\">\n",
              "      <th></th>\n",
              "      <th>dia_da_semana</th>\n",
              "      <th>mes</th>\n",
              "      <th>media_passageiros_transportados</th>\n",
              "      <th>mediana_passageiros_transportados</th>\n",
              "    </tr>\n",
              "  </thead>\n",
              "  <tbody>\n",
              "    <tr>\n",
              "      <th>0</th>\n",
              "      <td>Domingo</td>\n",
              "      <td>1</td>\n",
              "      <td>2.005607e+06</td>\n",
              "      <td>1803955.0</td>\n",
              "    </tr>\n",
              "    <tr>\n",
              "      <th>1</th>\n",
              "      <td>Domingo</td>\n",
              "      <td>2</td>\n",
              "      <td>2.522319e+06</td>\n",
              "      <td>2789108.0</td>\n",
              "    </tr>\n",
              "    <tr>\n",
              "      <th>2</th>\n",
              "      <td>Domingo</td>\n",
              "      <td>3</td>\n",
              "      <td>2.140171e+06</td>\n",
              "      <td>2699623.0</td>\n",
              "    </tr>\n",
              "    <tr>\n",
              "      <th>3</th>\n",
              "      <td>Domingo</td>\n",
              "      <td>4</td>\n",
              "      <td>1.713063e+06</td>\n",
              "      <td>1294823.0</td>\n",
              "    </tr>\n",
              "    <tr>\n",
              "      <th>4</th>\n",
              "      <td>Domingo</td>\n",
              "      <td>5</td>\n",
              "      <td>1.665768e+06</td>\n",
              "      <td>1352910.0</td>\n",
              "    </tr>\n",
              "    <tr>\n",
              "      <th>...</th>\n",
              "      <td>...</td>\n",
              "      <td>...</td>\n",
              "      <td>...</td>\n",
              "      <td>...</td>\n",
              "    </tr>\n",
              "    <tr>\n",
              "      <th>79</th>\n",
              "      <td>Terça-feira</td>\n",
              "      <td>8</td>\n",
              "      <td>5.790514e+06</td>\n",
              "      <td>4776075.0</td>\n",
              "    </tr>\n",
              "    <tr>\n",
              "      <th>80</th>\n",
              "      <td>Terça-feira</td>\n",
              "      <td>9</td>\n",
              "      <td>6.676889e+06</td>\n",
              "      <td>4965623.0</td>\n",
              "    </tr>\n",
              "    <tr>\n",
              "      <th>81</th>\n",
              "      <td>Terça-feira</td>\n",
              "      <td>10</td>\n",
              "      <td>7.260014e+06</td>\n",
              "      <td>8725891.0</td>\n",
              "    </tr>\n",
              "    <tr>\n",
              "      <th>82</th>\n",
              "      <td>Terça-feira</td>\n",
              "      <td>11</td>\n",
              "      <td>7.032917e+06</td>\n",
              "      <td>6554431.0</td>\n",
              "    </tr>\n",
              "    <tr>\n",
              "      <th>83</th>\n",
              "      <td>Terça-feira</td>\n",
              "      <td>12</td>\n",
              "      <td>6.037076e+06</td>\n",
              "      <td>5534874.0</td>\n",
              "    </tr>\n",
              "  </tbody>\n",
              "</table>\n",
              "<p>84 rows × 4 columns</p>\n",
              "</div>"
            ],
            "text/plain": [
              "   dia_da_semana  ...  mediana_passageiros_transportados\n",
              "0        Domingo  ...                          1803955.0\n",
              "1        Domingo  ...                          2789108.0\n",
              "2        Domingo  ...                          2699623.0\n",
              "3        Domingo  ...                          1294823.0\n",
              "4        Domingo  ...                          1352910.0\n",
              "..           ...  ...                                ...\n",
              "79   Terça-feira  ...                          4776075.0\n",
              "80   Terça-feira  ...                          4965623.0\n",
              "81   Terça-feira  ...                          8725891.0\n",
              "82   Terça-feira  ...                          6554431.0\n",
              "83   Terça-feira  ...                          5534874.0\n",
              "\n",
              "[84 rows x 4 columns]"
            ]
          },
          "metadata": {}
        }
      ]
    },
    {
      "cell_type": "code",
      "metadata": {
        "id": "OI85NkUNleGz"
      },
      "source": [
        "all_data.to_csv(r'fato_total_passageiros_transportados_sptrans_export_complet.csv', index = False)"
      ],
      "execution_count": null,
      "outputs": []
    },
    {
      "cell_type": "markdown",
      "metadata": {
        "id": "Kvc3oRO5YEO7"
      },
      "source": [
        "#**Biblioteca plotly**\n",
        "\n",
        "Gráficos interativos - estudando a biblioteca"
      ]
    },
    {
      "cell_type": "code",
      "metadata": {
        "id": "G-ZkpY-EYXqy"
      },
      "source": [
        "g = sns.relplot(x=\"mes\", y=\"media_passageiros_transportados\", kind=\"line\", hue=\"dia_da_semana\" , data=dados_media,  height=12)\n",
        "g.fig.autofmt_xdate()"
      ],
      "execution_count": null,
      "outputs": []
    },
    {
      "cell_type": "code",
      "metadata": {
        "colab": {
          "base_uri": "https://localhost:8080/",
          "height": 542
        },
        "id": "u10-nfk7YIx5",
        "outputId": "e5be046f-db2d-4934-9f5b-e439124294b4"
      },
      "source": [
        "import plotly.express as px\n",
        "\n",
        "fig = px.line(dados_media, x=\"mes\", y=\"media_passageiros_transportados\", title='Teste 1', color='dia_da_semana')\n",
        "fig.show()"
      ],
      "execution_count": null,
      "outputs": [
        {
          "output_type": "display_data",
          "data": {
            "text/html": [
              "<html>\n",
              "<head><meta charset=\"utf-8\" /></head>\n",
              "<body>\n",
              "    <div>\n",
              "            <script src=\"https://cdnjs.cloudflare.com/ajax/libs/mathjax/2.7.5/MathJax.js?config=TeX-AMS-MML_SVG\"></script><script type=\"text/javascript\">if (window.MathJax) {MathJax.Hub.Config({SVG: {font: \"STIX-Web\"}});}</script>\n",
              "                <script type=\"text/javascript\">window.PlotlyConfig = {MathJaxConfig: 'local'};</script>\n",
              "        <script src=\"https://cdn.plot.ly/plotly-latest.min.js\"></script>    \n",
              "            <div id=\"664fc2a1-94b0-48f0-a2e5-863556734526\" class=\"plotly-graph-div\" style=\"height:525px; width:100%;\"></div>\n",
              "            <script type=\"text/javascript\">\n",
              "                \n",
              "                    window.PLOTLYENV=window.PLOTLYENV || {};\n",
              "                    \n",
              "                if (document.getElementById(\"664fc2a1-94b0-48f0-a2e5-863556734526\")) {\n",
              "                    Plotly.newPlot(\n",
              "                        '664fc2a1-94b0-48f0-a2e5-863556734526',\n",
              "                        [{\"hoverlabel\": {\"namelength\": 0}, \"hovertemplate\": \"dia_da_semana=Domingo<br>mes=%{x}<br>media_passageiros_transportados=%{y}\", \"legendgroup\": \"dia_da_semana=Domingo\", \"line\": {\"color\": \"#636efa\", \"dash\": \"solid\"}, \"mode\": \"lines\", \"name\": \"dia_da_semana=Domingo\", \"showlegend\": true, \"type\": \"scatter\", \"x\": [1, 2, 3, 4, 5, 6, 7, 8, 9, 10, 11, 12], \"xaxis\": \"x\", \"y\": [2005606.5555555555, 2522319.3333333335, 2140171.0714285714, 1713063.3333333333, 1665767.5, 1877381.7692307692, 1865757.75, 1948106.9090909092, 2223220.6666666665, 2287575.0, 2397351.4444444445, 2616047.111111111], \"yaxis\": \"y\"}, {\"hoverlabel\": {\"namelength\": 0}, \"hovertemplate\": \"dia_da_semana=Quarta-feira<br>mes=%{x}<br>media_passageiros_transportados=%{y}\", \"legendgroup\": \"dia_da_semana=Quarta-feira\", \"line\": {\"color\": \"#EF553B\", \"dash\": \"solid\"}, \"mode\": \"lines\", \"name\": \"dia_da_semana=Quarta-feira\", \"showlegend\": true, \"type\": \"scatter\", \"x\": [1, 2, 3, 4, 5, 6, 7, 8, 9, 10, 11, 12], \"xaxis\": \"x\", \"y\": [5908186.444444444, 7453499.25, 6353396.923076923, 5132142.923076923, 5192184.846153846, 5492687.307692308, 5628432.928571428, 6610264.444444444, 6596459.0, 7414060.0, 6493770.125, 6030712.888888889], \"yaxis\": \"y\"}, {\"hoverlabel\": {\"namelength\": 0}, \"hovertemplate\": \"dia_da_semana=Quinta-feira<br>mes=%{x}<br>media_passageiros_transportados=%{y}\", \"legendgroup\": \"dia_da_semana=Quinta-feira\", \"line\": {\"color\": \"#00cc96\", \"dash\": \"solid\"}, \"mode\": \"lines\", \"name\": \"dia_da_semana=Quinta-feira\", \"showlegend\": true, \"type\": \"scatter\", \"x\": [1, 2, 3, 4, 5, 6, 7, 8, 9, 10, 11, 12], \"xaxis\": \"x\", \"y\": [6044303.25, 7610665.583333333, 6610096.666666667, 5133066.642857143, 5637600.923076923, 5011070.333333333, 5304376.357142857, 6842444.7, 6680898.75, 7009818.3, 6974956.5, 6032652.111111111], \"yaxis\": \"y\"}, {\"hoverlabel\": {\"namelength\": 0}, \"hovertemplate\": \"dia_da_semana=Segunda-feira<br>mes=%{x}<br>media_passageiros_transportados=%{y}\", \"legendgroup\": \"dia_da_semana=Segunda-feira\", \"line\": {\"color\": \"#ab63fa\", \"dash\": \"solid\"}, \"mode\": \"lines\", \"name\": \"dia_da_semana=Segunda-feira\", \"showlegend\": true, \"type\": \"scatter\", \"x\": [1, 2, 3, 4, 5, 6, 7, 8, 9, 10, 11, 12], \"xaxis\": \"x\", \"y\": [5848960.5, 6899567.083333333, 5770291.307692308, 5535350.461538462, 5161922.461538462, 5287364.307692308, 5553625.923076923, 5876172.181818182, 6519500.333333333, 6236633.25, 6247413.555555556, 6239147.777777778], \"yaxis\": \"y\"}, {\"hoverlabel\": {\"namelength\": 0}, \"hovertemplate\": \"dia_da_semana=Sexta-feira<br>mes=%{x}<br>media_passageiros_transportados=%{y}\", \"legendgroup\": \"dia_da_semana=Sexta-feira\", \"line\": {\"color\": \"#FFA15A\", \"dash\": \"solid\"}, \"mode\": \"lines\", \"name\": \"dia_da_semana=Sexta-feira\", \"showlegend\": true, \"type\": \"scatter\", \"x\": [1, 2, 3, 4, 5, 6, 7, 8, 9, 10, 11, 12], \"xaxis\": \"x\", \"y\": [5713469.4, 7541191.0, 6561973.307692308, 4616068.461538462, 5428094.285714285, 5349674.416666667, 5402571.285714285, 6740539.6, 6571244.0, 6715969.222222222, 6477285.666666667, 6234662.25], \"yaxis\": \"y\"}, {\"hoverlabel\": {\"namelength\": 0}, \"hovertemplate\": \"dia_da_semana=S\\u00e1bado<br>mes=%{x}<br>media_passageiros_transportados=%{y}\", \"legendgroup\": \"dia_da_semana=S\\u00e1bado\", \"line\": {\"color\": \"#19d3f3\", \"dash\": \"solid\"}, \"mode\": \"lines\", \"name\": \"dia_da_semana=S\\u00e1bado\", \"showlegend\": true, \"type\": \"scatter\", \"x\": [1, 2, 3, 4, 5, 6, 7, 8, 9, 10, 11, 12], \"xaxis\": \"x\", \"y\": [3397591.6666666665, 4565524.615384615, 3772417.3846153845, 3219299.3333333335, 3123828.1428571427, 3581244.6153846155, 3565831.230769231, 4028192.6363636362, 4024484.875, 4115467.0, 4182912.0, 4440358.625], \"yaxis\": \"y\"}, {\"hoverlabel\": {\"namelength\": 0}, \"hovertemplate\": \"dia_da_semana=Ter\\u00e7a-feira<br>mes=%{x}<br>media_passageiros_transportados=%{y}\", \"legendgroup\": \"dia_da_semana=Ter\\u00e7a-feira\", \"line\": {\"color\": \"#FF6692\", \"dash\": \"solid\"}, \"mode\": \"lines\", \"name\": \"dia_da_semana=Ter\\u00e7a-feira\", \"showlegend\": true, \"type\": \"scatter\", \"x\": [1, 2, 3, 4, 5, 6, 7, 8, 9, 10, 11, 12], \"xaxis\": \"x\", \"y\": [6322373.125, 6573216.416666667, 5854013.571428572, 5536334.692307692, 5484798.333333333, 5335531.928571428, 5371067.692307692, 5790514.2, 6676888.666666667, 7260014.333333333, 7032916.75, 6037075.8], \"yaxis\": \"y\"}],\n",
              "                        {\"legend\": {\"tracegroupgap\": 0}, \"template\": {\"data\": {\"bar\": [{\"error_x\": {\"color\": \"#2a3f5f\"}, \"error_y\": {\"color\": \"#2a3f5f\"}, \"marker\": {\"line\": {\"color\": \"#E5ECF6\", \"width\": 0.5}}, \"type\": \"bar\"}], \"barpolar\": [{\"marker\": {\"line\": {\"color\": \"#E5ECF6\", \"width\": 0.5}}, \"type\": \"barpolar\"}], \"carpet\": [{\"aaxis\": {\"endlinecolor\": \"#2a3f5f\", \"gridcolor\": \"white\", \"linecolor\": \"white\", \"minorgridcolor\": \"white\", \"startlinecolor\": \"#2a3f5f\"}, \"baxis\": {\"endlinecolor\": \"#2a3f5f\", \"gridcolor\": \"white\", \"linecolor\": \"white\", \"minorgridcolor\": \"white\", \"startlinecolor\": \"#2a3f5f\"}, \"type\": \"carpet\"}], \"choropleth\": [{\"colorbar\": {\"outlinewidth\": 0, \"ticks\": \"\"}, \"type\": \"choropleth\"}], \"contour\": [{\"colorbar\": {\"outlinewidth\": 0, \"ticks\": \"\"}, \"colorscale\": [[0.0, \"#0d0887\"], [0.1111111111111111, \"#46039f\"], [0.2222222222222222, \"#7201a8\"], [0.3333333333333333, \"#9c179e\"], [0.4444444444444444, \"#bd3786\"], [0.5555555555555556, \"#d8576b\"], [0.6666666666666666, \"#ed7953\"], [0.7777777777777778, \"#fb9f3a\"], [0.8888888888888888, \"#fdca26\"], [1.0, \"#f0f921\"]], \"type\": \"contour\"}], \"contourcarpet\": [{\"colorbar\": {\"outlinewidth\": 0, \"ticks\": \"\"}, \"type\": \"contourcarpet\"}], \"heatmap\": [{\"colorbar\": {\"outlinewidth\": 0, \"ticks\": \"\"}, \"colorscale\": [[0.0, \"#0d0887\"], [0.1111111111111111, \"#46039f\"], [0.2222222222222222, \"#7201a8\"], [0.3333333333333333, \"#9c179e\"], [0.4444444444444444, \"#bd3786\"], [0.5555555555555556, \"#d8576b\"], [0.6666666666666666, \"#ed7953\"], [0.7777777777777778, \"#fb9f3a\"], [0.8888888888888888, \"#fdca26\"], [1.0, \"#f0f921\"]], \"type\": \"heatmap\"}], \"heatmapgl\": [{\"colorbar\": {\"outlinewidth\": 0, \"ticks\": \"\"}, \"colorscale\": [[0.0, \"#0d0887\"], [0.1111111111111111, \"#46039f\"], [0.2222222222222222, \"#7201a8\"], [0.3333333333333333, \"#9c179e\"], [0.4444444444444444, \"#bd3786\"], [0.5555555555555556, \"#d8576b\"], [0.6666666666666666, \"#ed7953\"], [0.7777777777777778, \"#fb9f3a\"], [0.8888888888888888, \"#fdca26\"], [1.0, \"#f0f921\"]], \"type\": \"heatmapgl\"}], \"histogram\": [{\"marker\": {\"colorbar\": {\"outlinewidth\": 0, \"ticks\": \"\"}}, \"type\": \"histogram\"}], \"histogram2d\": [{\"colorbar\": {\"outlinewidth\": 0, \"ticks\": \"\"}, \"colorscale\": [[0.0, \"#0d0887\"], [0.1111111111111111, \"#46039f\"], [0.2222222222222222, \"#7201a8\"], [0.3333333333333333, \"#9c179e\"], [0.4444444444444444, \"#bd3786\"], [0.5555555555555556, \"#d8576b\"], [0.6666666666666666, \"#ed7953\"], [0.7777777777777778, \"#fb9f3a\"], [0.8888888888888888, \"#fdca26\"], [1.0, \"#f0f921\"]], \"type\": \"histogram2d\"}], \"histogram2dcontour\": [{\"colorbar\": {\"outlinewidth\": 0, \"ticks\": \"\"}, \"colorscale\": [[0.0, \"#0d0887\"], [0.1111111111111111, \"#46039f\"], [0.2222222222222222, \"#7201a8\"], [0.3333333333333333, \"#9c179e\"], [0.4444444444444444, \"#bd3786\"], [0.5555555555555556, \"#d8576b\"], [0.6666666666666666, \"#ed7953\"], [0.7777777777777778, \"#fb9f3a\"], [0.8888888888888888, \"#fdca26\"], [1.0, \"#f0f921\"]], \"type\": \"histogram2dcontour\"}], \"mesh3d\": [{\"colorbar\": {\"outlinewidth\": 0, \"ticks\": \"\"}, \"type\": \"mesh3d\"}], \"parcoords\": [{\"line\": {\"colorbar\": {\"outlinewidth\": 0, \"ticks\": \"\"}}, \"type\": \"parcoords\"}], \"pie\": [{\"automargin\": true, \"type\": \"pie\"}], \"scatter\": [{\"marker\": {\"colorbar\": {\"outlinewidth\": 0, \"ticks\": \"\"}}, \"type\": \"scatter\"}], \"scatter3d\": [{\"line\": {\"colorbar\": {\"outlinewidth\": 0, \"ticks\": \"\"}}, \"marker\": {\"colorbar\": {\"outlinewidth\": 0, \"ticks\": \"\"}}, \"type\": \"scatter3d\"}], \"scattercarpet\": [{\"marker\": {\"colorbar\": {\"outlinewidth\": 0, \"ticks\": \"\"}}, \"type\": \"scattercarpet\"}], \"scattergeo\": [{\"marker\": {\"colorbar\": {\"outlinewidth\": 0, \"ticks\": \"\"}}, \"type\": \"scattergeo\"}], \"scattergl\": [{\"marker\": {\"colorbar\": {\"outlinewidth\": 0, \"ticks\": \"\"}}, \"type\": \"scattergl\"}], \"scattermapbox\": [{\"marker\": {\"colorbar\": {\"outlinewidth\": 0, \"ticks\": \"\"}}, \"type\": \"scattermapbox\"}], \"scatterpolar\": [{\"marker\": {\"colorbar\": {\"outlinewidth\": 0, \"ticks\": \"\"}}, \"type\": \"scatterpolar\"}], \"scatterpolargl\": [{\"marker\": {\"colorbar\": {\"outlinewidth\": 0, \"ticks\": \"\"}}, \"type\": \"scatterpolargl\"}], \"scatterternary\": [{\"marker\": {\"colorbar\": {\"outlinewidth\": 0, \"ticks\": \"\"}}, \"type\": \"scatterternary\"}], \"surface\": [{\"colorbar\": {\"outlinewidth\": 0, \"ticks\": \"\"}, \"colorscale\": [[0.0, \"#0d0887\"], [0.1111111111111111, \"#46039f\"], [0.2222222222222222, \"#7201a8\"], [0.3333333333333333, \"#9c179e\"], [0.4444444444444444, \"#bd3786\"], [0.5555555555555556, \"#d8576b\"], [0.6666666666666666, \"#ed7953\"], [0.7777777777777778, \"#fb9f3a\"], [0.8888888888888888, \"#fdca26\"], [1.0, \"#f0f921\"]], \"type\": \"surface\"}], \"table\": [{\"cells\": {\"fill\": {\"color\": \"#EBF0F8\"}, \"line\": {\"color\": \"white\"}}, \"header\": {\"fill\": {\"color\": \"#C8D4E3\"}, \"line\": {\"color\": \"white\"}}, \"type\": \"table\"}]}, \"layout\": {\"annotationdefaults\": {\"arrowcolor\": \"#2a3f5f\", \"arrowhead\": 0, \"arrowwidth\": 1}, \"coloraxis\": {\"colorbar\": {\"outlinewidth\": 0, \"ticks\": \"\"}}, \"colorscale\": {\"diverging\": [[0, \"#8e0152\"], [0.1, \"#c51b7d\"], [0.2, \"#de77ae\"], [0.3, \"#f1b6da\"], [0.4, \"#fde0ef\"], [0.5, \"#f7f7f7\"], [0.6, \"#e6f5d0\"], [0.7, \"#b8e186\"], [0.8, \"#7fbc41\"], [0.9, \"#4d9221\"], [1, \"#276419\"]], \"sequential\": [[0.0, \"#0d0887\"], [0.1111111111111111, \"#46039f\"], [0.2222222222222222, \"#7201a8\"], [0.3333333333333333, \"#9c179e\"], [0.4444444444444444, \"#bd3786\"], [0.5555555555555556, \"#d8576b\"], [0.6666666666666666, \"#ed7953\"], [0.7777777777777778, \"#fb9f3a\"], [0.8888888888888888, \"#fdca26\"], [1.0, \"#f0f921\"]], \"sequentialminus\": [[0.0, \"#0d0887\"], [0.1111111111111111, \"#46039f\"], [0.2222222222222222, \"#7201a8\"], [0.3333333333333333, \"#9c179e\"], [0.4444444444444444, \"#bd3786\"], [0.5555555555555556, \"#d8576b\"], [0.6666666666666666, \"#ed7953\"], [0.7777777777777778, \"#fb9f3a\"], [0.8888888888888888, \"#fdca26\"], [1.0, \"#f0f921\"]]}, \"colorway\": [\"#636efa\", \"#EF553B\", \"#00cc96\", \"#ab63fa\", \"#FFA15A\", \"#19d3f3\", \"#FF6692\", \"#B6E880\", \"#FF97FF\", \"#FECB52\"], \"font\": {\"color\": \"#2a3f5f\"}, \"geo\": {\"bgcolor\": \"white\", \"lakecolor\": \"white\", \"landcolor\": \"#E5ECF6\", \"showlakes\": true, \"showland\": true, \"subunitcolor\": \"white\"}, \"hoverlabel\": {\"align\": \"left\"}, \"hovermode\": \"closest\", \"mapbox\": {\"style\": \"light\"}, \"paper_bgcolor\": \"white\", \"plot_bgcolor\": \"#E5ECF6\", \"polar\": {\"angularaxis\": {\"gridcolor\": \"white\", \"linecolor\": \"white\", \"ticks\": \"\"}, \"bgcolor\": \"#E5ECF6\", \"radialaxis\": {\"gridcolor\": \"white\", \"linecolor\": \"white\", \"ticks\": \"\"}}, \"scene\": {\"xaxis\": {\"backgroundcolor\": \"#E5ECF6\", \"gridcolor\": \"white\", \"gridwidth\": 2, \"linecolor\": \"white\", \"showbackground\": true, \"ticks\": \"\", \"zerolinecolor\": \"white\"}, \"yaxis\": {\"backgroundcolor\": \"#E5ECF6\", \"gridcolor\": \"white\", \"gridwidth\": 2, \"linecolor\": \"white\", \"showbackground\": true, \"ticks\": \"\", \"zerolinecolor\": \"white\"}, \"zaxis\": {\"backgroundcolor\": \"#E5ECF6\", \"gridcolor\": \"white\", \"gridwidth\": 2, \"linecolor\": \"white\", \"showbackground\": true, \"ticks\": \"\", \"zerolinecolor\": \"white\"}}, \"shapedefaults\": {\"line\": {\"color\": \"#2a3f5f\"}}, \"ternary\": {\"aaxis\": {\"gridcolor\": \"white\", \"linecolor\": \"white\", \"ticks\": \"\"}, \"baxis\": {\"gridcolor\": \"white\", \"linecolor\": \"white\", \"ticks\": \"\"}, \"bgcolor\": \"#E5ECF6\", \"caxis\": {\"gridcolor\": \"white\", \"linecolor\": \"white\", \"ticks\": \"\"}}, \"title\": {\"x\": 0.05}, \"xaxis\": {\"automargin\": true, \"gridcolor\": \"white\", \"linecolor\": \"white\", \"ticks\": \"\", \"title\": {\"standoff\": 15}, \"zerolinecolor\": \"white\", \"zerolinewidth\": 2}, \"yaxis\": {\"automargin\": true, \"gridcolor\": \"white\", \"linecolor\": \"white\", \"ticks\": \"\", \"title\": {\"standoff\": 15}, \"zerolinecolor\": \"white\", \"zerolinewidth\": 2}}}, \"title\": {\"text\": \"Teste 1\"}, \"xaxis\": {\"anchor\": \"y\", \"domain\": [0.0, 1.0], \"title\": {\"text\": \"mes\"}}, \"yaxis\": {\"anchor\": \"x\", \"domain\": [0.0, 1.0], \"title\": {\"text\": \"media_passageiros_transportados\"}}},\n",
              "                        {\"responsive\": true}\n",
              "                    ).then(function(){\n",
              "                            \n",
              "var gd = document.getElementById('664fc2a1-94b0-48f0-a2e5-863556734526');\n",
              "var x = new MutationObserver(function (mutations, observer) {{\n",
              "        var display = window.getComputedStyle(gd).display;\n",
              "        if (!display || display === 'none') {{\n",
              "            console.log([gd, 'removed!']);\n",
              "            Plotly.purge(gd);\n",
              "            observer.disconnect();\n",
              "        }}\n",
              "}});\n",
              "\n",
              "// Listen for the removal of the full notebook cells\n",
              "var notebookContainer = gd.closest('#notebook-container');\n",
              "if (notebookContainer) {{\n",
              "    x.observe(notebookContainer, {childList: true});\n",
              "}}\n",
              "\n",
              "// Listen for the clearing of the current output cell\n",
              "var outputEl = gd.closest('.output');\n",
              "if (outputEl) {{\n",
              "    x.observe(outputEl, {childList: true});\n",
              "}}\n",
              "\n",
              "                        })\n",
              "                };\n",
              "                \n",
              "            </script>\n",
              "        </div>\n",
              "</body>\n",
              "</html>"
            ]
          },
          "metadata": {}
        }
      ]
    },
    {
      "cell_type": "markdown",
      "metadata": {
        "id": "69MZJi7E5w-S"
      },
      "source": [
        "#**TESTE para recuperar o nome do arquivo**"
      ]
    },
    {
      "cell_type": "code",
      "metadata": {
        "id": "0vZaT37I564h"
      },
      "source": [
        "import re\n",
        "url_arquivo = \"https://www.prefeitura.sp.gov.br/cidade/secretarias/upload/26JUL2021.xls\""
      ],
      "execution_count": null,
      "outputs": []
    },
    {
      "cell_type": "code",
      "metadata": {
        "colab": {
          "base_uri": "https://localhost:8080/",
          "height": 35
        },
        "id": "wmQViH3B5ytK",
        "outputId": "1fb4c616-8c4d-466e-eb1a-978188570d34"
      },
      "source": [
        "nome_arquivo = re.split(r'https://www.prefeitura.sp.gov.br/cidade/secretarias/upload/', url_arquivo)\n",
        "nome_arquivo = nome_arquivo[1]\n",
        "nome_arquivo"
      ],
      "execution_count": null,
      "outputs": [
        {
          "output_type": "execute_result",
          "data": {
            "application/vnd.google.colaboratory.intrinsic+json": {
              "type": "string"
            },
            "text/plain": [
              "'26JUL2021.xls'"
            ]
          },
          "metadata": {},
          "execution_count": 20
        }
      ]
    }
  ]
}