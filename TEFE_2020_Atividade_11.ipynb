{
  "nbformat": 4,
  "nbformat_minor": 0,
  "metadata": {
    "colab": {
      "name": "TEFE 2020 - Atividade 11.ipynb",
      "provenance": [],
      "collapsed_sections": [],
      "toc_visible": true,
      "include_colab_link": true
    },
    "kernelspec": {
      "name": "python3",
      "display_name": "Python 3"
    }
  },
  "cells": [
    {
      "cell_type": "markdown",
      "metadata": {
        "id": "view-in-github",
        "colab_type": "text"
      },
      "source": [
        "<a href=\"https://colab.research.google.com/github/gustavo-ifusp/prefeitura_smit_sp360/blob/main/TEFE_2020_Atividade_11.ipynb\" target=\"_parent\"><img src=\"https://colab.research.google.com/assets/colab-badge.svg\" alt=\"Open In Colab\"/></a>"
      ]
    },
    {
      "cell_type": "code",
      "metadata": {
        "id": "eu3pSkj6TD-l",
        "colab": {
          "base_uri": "https://localhost:8080/"
        },
        "outputId": "c8af0495-c04b-4a18-8810-7781daf55383"
      },
      "source": [
        "import numpy as np\n",
        "import matplotlib.pyplot as plt\n",
        "import pandas as pd\n",
        "\n",
        "ind = pd.Index(['[0, 1[','[1, 2[','[2, 3[','[3, 4[','[4, 5['], \n",
        "               name='[x_a,x_b[')\n",
        "df = pd.DataFrame(index=ind,\n",
        "             columns=['(1) P(x_a<=x<=x_b)','(2) n_0','(3) n','(4) n',\n",
        "                      '(5) n','(6) nh','(7) sig_nh','(8) s_n'])\n",
        "df.columns"
      ],
      "execution_count": null,
      "outputs": [
        {
          "output_type": "execute_result",
          "data": {
            "text/plain": [
              "Index(['(1) P(x_a<=x<=x_b)', '(2) n_0', '(3) n', '(4) n', '(5) n', '(6) nh',\n",
              "       '(7) sig_nh', '(8) s_n'],\n",
              "      dtype='object')"
            ]
          },
          "metadata": {
            "tags": []
          },
          "execution_count": 2
        }
      ]
    },
    {
      "cell_type": "markdown",
      "metadata": {
        "id": "BLIvrHGTLMTC"
      },
      "source": [
        "# Considere a função densidade de probabilidade $f(x)=\\frac{3}{125} x^2$, para $x \\in [0,5]$."
      ]
    },
    {
      "cell_type": "code",
      "metadata": {
        "id": "Nv0f23aCPsuY"
      },
      "source": [
        "def cum_f(x): return (x**3)/125"
      ],
      "execution_count": null,
      "outputs": []
    },
    {
      "cell_type": "markdown",
      "metadata": {
        "id": "va-yBNXqLzWr"
      },
      "source": [
        "## a) \n",
        "\n",
        "Preencha a coluna (1) do quadro abaixo com as probabilidades deseobtervalores de $x$ em cada um dos intervalos indicados. Escreva cada probabilidade com 5 casas decimais."
      ]
    },
    {
      "cell_type": "code",
      "metadata": {
        "id": "trMFhobEK7db",
        "colab": {
          "base_uri": "https://localhost:8080/",
          "height": 235
        },
        "outputId": "6b96a598-7b49-495d-e0db-9505476ef696"
      },
      "source": [
        "df['(1) P(x_a<=x<=x_b)'] = [cum_f(i+1)-cum_f(i) for i in range(5)]\n",
        "df"
      ],
      "execution_count": null,
      "outputs": [
        {
          "output_type": "execute_result",
          "data": {
            "text/html": [
              "<div>\n",
              "<style scoped>\n",
              "    .dataframe tbody tr th:only-of-type {\n",
              "        vertical-align: middle;\n",
              "    }\n",
              "\n",
              "    .dataframe tbody tr th {\n",
              "        vertical-align: top;\n",
              "    }\n",
              "\n",
              "    .dataframe thead th {\n",
              "        text-align: right;\n",
              "    }\n",
              "</style>\n",
              "<table border=\"1\" class=\"dataframe\">\n",
              "  <thead>\n",
              "    <tr style=\"text-align: right;\">\n",
              "      <th></th>\n",
              "      <th>(1) P(x_a&lt;=x&lt;=x_b)</th>\n",
              "      <th>(2) n_0</th>\n",
              "      <th>(3) n</th>\n",
              "      <th>(4) n</th>\n",
              "      <th>(5) n</th>\n",
              "      <th>(6) nh</th>\n",
              "      <th>(7) sig_nh</th>\n",
              "      <th>(8) s_n</th>\n",
              "    </tr>\n",
              "    <tr>\n",
              "      <th>[x_a,x_b[</th>\n",
              "      <th></th>\n",
              "      <th></th>\n",
              "      <th></th>\n",
              "      <th></th>\n",
              "      <th></th>\n",
              "      <th></th>\n",
              "      <th></th>\n",
              "      <th></th>\n",
              "    </tr>\n",
              "  </thead>\n",
              "  <tbody>\n",
              "    <tr>\n",
              "      <th>[0, 1[</th>\n",
              "      <td>0.008</td>\n",
              "      <td>NaN</td>\n",
              "      <td>NaN</td>\n",
              "      <td>NaN</td>\n",
              "      <td>NaN</td>\n",
              "      <td>NaN</td>\n",
              "      <td>NaN</td>\n",
              "      <td>NaN</td>\n",
              "    </tr>\n",
              "    <tr>\n",
              "      <th>[1, 2[</th>\n",
              "      <td>0.056</td>\n",
              "      <td>NaN</td>\n",
              "      <td>NaN</td>\n",
              "      <td>NaN</td>\n",
              "      <td>NaN</td>\n",
              "      <td>NaN</td>\n",
              "      <td>NaN</td>\n",
              "      <td>NaN</td>\n",
              "    </tr>\n",
              "    <tr>\n",
              "      <th>[2, 3[</th>\n",
              "      <td>0.152</td>\n",
              "      <td>NaN</td>\n",
              "      <td>NaN</td>\n",
              "      <td>NaN</td>\n",
              "      <td>NaN</td>\n",
              "      <td>NaN</td>\n",
              "      <td>NaN</td>\n",
              "      <td>NaN</td>\n",
              "    </tr>\n",
              "    <tr>\n",
              "      <th>[3, 4[</th>\n",
              "      <td>0.296</td>\n",
              "      <td>NaN</td>\n",
              "      <td>NaN</td>\n",
              "      <td>NaN</td>\n",
              "      <td>NaN</td>\n",
              "      <td>NaN</td>\n",
              "      <td>NaN</td>\n",
              "      <td>NaN</td>\n",
              "    </tr>\n",
              "    <tr>\n",
              "      <th>[4, 5[</th>\n",
              "      <td>0.488</td>\n",
              "      <td>NaN</td>\n",
              "      <td>NaN</td>\n",
              "      <td>NaN</td>\n",
              "      <td>NaN</td>\n",
              "      <td>NaN</td>\n",
              "      <td>NaN</td>\n",
              "      <td>NaN</td>\n",
              "    </tr>\n",
              "  </tbody>\n",
              "</table>\n",
              "</div>"
            ],
            "text/plain": [
              "           (1) P(x_a<=x<=x_b) (2) n_0 (3) n  ... (6) nh (7) sig_nh (8) s_n\n",
              "[x_a,x_b[                                    ...                          \n",
              "[0, 1[                  0.008     NaN   NaN  ...    NaN        NaN     NaN\n",
              "[1, 2[                  0.056     NaN   NaN  ...    NaN        NaN     NaN\n",
              "[2, 3[                  0.152     NaN   NaN  ...    NaN        NaN     NaN\n",
              "[3, 4[                  0.296     NaN   NaN  ...    NaN        NaN     NaN\n",
              "[4, 5[                  0.488     NaN   NaN  ...    NaN        NaN     NaN\n",
              "\n",
              "[5 rows x 8 columns]"
            ]
          },
          "metadata": {
            "tags": []
          },
          "execution_count": 4
        }
      ]
    },
    {
      "cell_type": "markdown",
      "metadata": {
        "id": "iU0afQHIYPuz"
      },
      "source": [
        "## b) \n",
        "\n",
        "Preencha acoluna (2) do quadro abaixo com o número esperado de ocorrências, $n_0$, em cada um dos intervalos em um experimento com $𝑁=200$ dados. Escreva cada $n_0$ com 2 casas decimais."
      ]
    },
    {
      "cell_type": "code",
      "metadata": {
        "id": "z7QuCW_iRUK2",
        "colab": {
          "base_uri": "https://localhost:8080/",
          "height": 235
        },
        "outputId": "eaa4dfb4-57f5-4fda-a22a-f9de1bb87105"
      },
      "source": [
        "df['(2) n_0'] = df['(1) P(x_a<=x<=x_b)']*200\n",
        "df"
      ],
      "execution_count": null,
      "outputs": [
        {
          "output_type": "execute_result",
          "data": {
            "text/html": [
              "<div>\n",
              "<style scoped>\n",
              "    .dataframe tbody tr th:only-of-type {\n",
              "        vertical-align: middle;\n",
              "    }\n",
              "\n",
              "    .dataframe tbody tr th {\n",
              "        vertical-align: top;\n",
              "    }\n",
              "\n",
              "    .dataframe thead th {\n",
              "        text-align: right;\n",
              "    }\n",
              "</style>\n",
              "<table border=\"1\" class=\"dataframe\">\n",
              "  <thead>\n",
              "    <tr style=\"text-align: right;\">\n",
              "      <th></th>\n",
              "      <th>(1) P(x_a&lt;=x&lt;=x_b)</th>\n",
              "      <th>(2) n_0</th>\n",
              "      <th>(3) n</th>\n",
              "      <th>(4) n</th>\n",
              "      <th>(5) n</th>\n",
              "      <th>(6) nh</th>\n",
              "      <th>(7) sig_nh</th>\n",
              "      <th>(8) s_n</th>\n",
              "    </tr>\n",
              "    <tr>\n",
              "      <th>[x_a,x_b[</th>\n",
              "      <th></th>\n",
              "      <th></th>\n",
              "      <th></th>\n",
              "      <th></th>\n",
              "      <th></th>\n",
              "      <th></th>\n",
              "      <th></th>\n",
              "      <th></th>\n",
              "    </tr>\n",
              "  </thead>\n",
              "  <tbody>\n",
              "    <tr>\n",
              "      <th>[0, 1[</th>\n",
              "      <td>0.008</td>\n",
              "      <td>1.6</td>\n",
              "      <td>NaN</td>\n",
              "      <td>NaN</td>\n",
              "      <td>NaN</td>\n",
              "      <td>NaN</td>\n",
              "      <td>NaN</td>\n",
              "      <td>NaN</td>\n",
              "    </tr>\n",
              "    <tr>\n",
              "      <th>[1, 2[</th>\n",
              "      <td>0.056</td>\n",
              "      <td>11.2</td>\n",
              "      <td>NaN</td>\n",
              "      <td>NaN</td>\n",
              "      <td>NaN</td>\n",
              "      <td>NaN</td>\n",
              "      <td>NaN</td>\n",
              "      <td>NaN</td>\n",
              "    </tr>\n",
              "    <tr>\n",
              "      <th>[2, 3[</th>\n",
              "      <td>0.152</td>\n",
              "      <td>30.4</td>\n",
              "      <td>NaN</td>\n",
              "      <td>NaN</td>\n",
              "      <td>NaN</td>\n",
              "      <td>NaN</td>\n",
              "      <td>NaN</td>\n",
              "      <td>NaN</td>\n",
              "    </tr>\n",
              "    <tr>\n",
              "      <th>[3, 4[</th>\n",
              "      <td>0.296</td>\n",
              "      <td>59.2</td>\n",
              "      <td>NaN</td>\n",
              "      <td>NaN</td>\n",
              "      <td>NaN</td>\n",
              "      <td>NaN</td>\n",
              "      <td>NaN</td>\n",
              "      <td>NaN</td>\n",
              "    </tr>\n",
              "    <tr>\n",
              "      <th>[4, 5[</th>\n",
              "      <td>0.488</td>\n",
              "      <td>97.6</td>\n",
              "      <td>NaN</td>\n",
              "      <td>NaN</td>\n",
              "      <td>NaN</td>\n",
              "      <td>NaN</td>\n",
              "      <td>NaN</td>\n",
              "      <td>NaN</td>\n",
              "    </tr>\n",
              "  </tbody>\n",
              "</table>\n",
              "</div>"
            ],
            "text/plain": [
              "           (1) P(x_a<=x<=x_b)  (2) n_0 (3) n  ... (6) nh (7) sig_nh (8) s_n\n",
              "[x_a,x_b[                                     ...                          \n",
              "[0, 1[                  0.008      1.6   NaN  ...    NaN        NaN     NaN\n",
              "[1, 2[                  0.056     11.2   NaN  ...    NaN        NaN     NaN\n",
              "[2, 3[                  0.152     30.4   NaN  ...    NaN        NaN     NaN\n",
              "[3, 4[                  0.296     59.2   NaN  ...    NaN        NaN     NaN\n",
              "[4, 5[                  0.488     97.6   NaN  ...    NaN        NaN     NaN\n",
              "\n",
              "[5 rows x 8 columns]"
            ]
          },
          "metadata": {
            "tags": []
          },
          "execution_count": 5
        }
      ]
    },
    {
      "cell_type": "markdown",
      "metadata": {
        "id": "RmkJp5vquc6b"
      },
      "source": [
        "## c."
      ]
    },
    {
      "cell_type": "markdown",
      "metadata": {
        "id": "f8Rgeu-guhZp"
      },
      "source": [
        "### 1)\n",
        "\n",
        "Faça um programa para gerar dados que sigam essa função densidade de probabilidade. Em seguida, gere um conjuntode $N=200$ dados e preencha  acoluna (3) do quadro com o número de ocorrências, $n$, obtido em cada intervalo."
      ]
    },
    {
      "cell_type": "code",
      "metadata": {
        "id": "ASqQEHaYYpdo",
        "colab": {
          "base_uri": "https://localhost:8080/",
          "height": 268
        },
        "outputId": "61cdf81f-263d-4ff0-9844-701b3ea05edc"
      },
      "source": [
        "rng = np.random.default_rng()\n",
        "N = 200\n",
        "b = [0,1,2,3,4,5]\n",
        " \n",
        "c1_3 = (125 * rng.random(N))**(1/3)\n",
        "df['(3) n'] = plt.hist(c1_3,bins=b, color = \"red\")[0]"
      ],
      "execution_count": null,
      "outputs": [
        {
          "output_type": "display_data",
          "data": {
            "image/png": "[encoded data removed]",
            "text/plain": [
              "<Figure size 432x288 with 1 Axes>"
            ]
          },
          "metadata": {
            "tags": [],
            "needs_background": "light"
          }
        }
      ]
    },
    {
      "cell_type": "code",
      "metadata": {
        "id": "tqEK8AMNx1li",
        "colab": {
          "base_uri": "https://localhost:8080/",
          "height": 235
        },
        "outputId": "68ec6ac9-4a14-4d31-8af2-2a6de815623c"
      },
      "source": [
        "df"
      ],
      "execution_count": null,
      "outputs": [
        {
          "output_type": "execute_result",
          "data": {
            "text/html": [
              "<div>\n",
              "<style scoped>\n",
              "    .dataframe tbody tr th:only-of-type {\n",
              "        vertical-align: middle;\n",
              "    }\n",
              "\n",
              "    .dataframe tbody tr th {\n",
              "        vertical-align: top;\n",
              "    }\n",
              "\n",
              "    .dataframe thead th {\n",
              "        text-align: right;\n",
              "    }\n",
              "</style>\n",
              "<table border=\"1\" class=\"dataframe\">\n",
              "  <thead>\n",
              "    <tr style=\"text-align: right;\">\n",
              "      <th></th>\n",
              "      <th>(1) P(x_a&lt;=x&lt;=x_b)</th>\n",
              "      <th>(2) n_0</th>\n",
              "      <th>(3) n</th>\n",
              "      <th>(4) n</th>\n",
              "      <th>(5) n</th>\n",
              "      <th>(6) nh</th>\n",
              "      <th>(7) sig_nh</th>\n",
              "      <th>(8) s_n</th>\n",
              "    </tr>\n",
              "    <tr>\n",
              "      <th>[x_a,x_b[</th>\n",
              "      <th></th>\n",
              "      <th></th>\n",
              "      <th></th>\n",
              "      <th></th>\n",
              "      <th></th>\n",
              "      <th></th>\n",
              "      <th></th>\n",
              "      <th></th>\n",
              "    </tr>\n",
              "  </thead>\n",
              "  <tbody>\n",
              "    <tr>\n",
              "      <th>[0, 1[</th>\n",
              "      <td>0.008</td>\n",
              "      <td>1.6</td>\n",
              "      <td>2.0</td>\n",
              "      <td>NaN</td>\n",
              "      <td>NaN</td>\n",
              "      <td>NaN</td>\n",
              "      <td>NaN</td>\n",
              "      <td>NaN</td>\n",
              "    </tr>\n",
              "    <tr>\n",
              "      <th>[1, 2[</th>\n",
              "      <td>0.056</td>\n",
              "      <td>11.2</td>\n",
              "      <td>9.0</td>\n",
              "      <td>NaN</td>\n",
              "      <td>NaN</td>\n",
              "      <td>NaN</td>\n",
              "      <td>NaN</td>\n",
              "      <td>NaN</td>\n",
              "    </tr>\n",
              "    <tr>\n",
              "      <th>[2, 3[</th>\n",
              "      <td>0.152</td>\n",
              "      <td>30.4</td>\n",
              "      <td>39.0</td>\n",
              "      <td>NaN</td>\n",
              "      <td>NaN</td>\n",
              "      <td>NaN</td>\n",
              "      <td>NaN</td>\n",
              "      <td>NaN</td>\n",
              "    </tr>\n",
              "    <tr>\n",
              "      <th>[3, 4[</th>\n",
              "      <td>0.296</td>\n",
              "      <td>59.2</td>\n",
              "      <td>54.0</td>\n",
              "      <td>NaN</td>\n",
              "      <td>NaN</td>\n",
              "      <td>NaN</td>\n",
              "      <td>NaN</td>\n",
              "      <td>NaN</td>\n",
              "    </tr>\n",
              "    <tr>\n",
              "      <th>[4, 5[</th>\n",
              "      <td>0.488</td>\n",
              "      <td>97.6</td>\n",
              "      <td>96.0</td>\n",
              "      <td>NaN</td>\n",
              "      <td>NaN</td>\n",
              "      <td>NaN</td>\n",
              "      <td>NaN</td>\n",
              "      <td>NaN</td>\n",
              "    </tr>\n",
              "  </tbody>\n",
              "</table>\n",
              "</div>"
            ],
            "text/plain": [
              "           (1) P(x_a<=x<=x_b)  (2) n_0  (3) n  ... (6) nh (7) sig_nh (8) s_n\n",
              "[x_a,x_b[                                      ...                          \n",
              "[0, 1[                  0.008      1.6    2.0  ...    NaN        NaN     NaN\n",
              "[1, 2[                  0.056     11.2    9.0  ...    NaN        NaN     NaN\n",
              "[2, 3[                  0.152     30.4   39.0  ...    NaN        NaN     NaN\n",
              "[3, 4[                  0.296     59.2   54.0  ...    NaN        NaN     NaN\n",
              "[4, 5[                  0.488     97.6   96.0  ...    NaN        NaN     NaN\n",
              "\n",
              "[5 rows x 8 columns]"
            ]
          },
          "metadata": {
            "tags": []
          },
          "execution_count": 9
        }
      ]
    },
    {
      "cell_type": "markdown",
      "metadata": {
        "id": "pJ5VjwES1f-2"
      },
      "source": [
        "### 2)\n",
        "\n",
        "Gere outros dois conjuntosde $n=200$ dados e preencha as colunas (4) e (5) do quadro."
      ]
    },
    {
      "cell_type": "code",
      "metadata": {
        "id": "MCeQbDvn1NEN",
        "colab": {
          "base_uri": "https://localhost:8080/",
          "height": 265
        },
        "outputId": "cabbc3e9-1fbe-47fa-ae7a-566b5f065bab"
      },
      "source": [
        "c2_4 = (125 * rng.random(N))**(1/3)\n",
        "df['(4) n'] = plt.hist(c2_4,bins=b, color = \"red\")[0]"
      ],
      "execution_count": null,
      "outputs": [
        {
          "output_type": "display_data",
          "data": {
            "image/png": "[encoded data removed]",
            "text/plain": [
              "<Figure size 432x288 with 1 Axes>"
            ]
          },
          "metadata": {
            "tags": [],
            "needs_background": "light"
          }
        }
      ]
    },
    {
      "cell_type": "code",
      "metadata": {
        "id": "ZKcSyjAM5bWo",
        "colab": {
          "base_uri": "https://localhost:8080/",
          "height": 265
        },
        "outputId": "951da09c-3771-416f-b486-fef24f8373a5"
      },
      "source": [
        "c2_5 = (125 * rng.random(N))**(1/3)\n",
        "df['(5) n'] = plt.hist(c2_5,bins=b, color = \"red\")[0]"
      ],
      "execution_count": null,
      "outputs": [
        {
          "output_type": "display_data",
          "data": {
            "image/png": "[encoded data removed]",
            "text/plain": [
              "<Figure size 432x288 with 1 Axes>"
            ]
          },
          "metadata": {
            "tags": [],
            "needs_background": "light"
          }
        }
      ]
    },
    {
      "cell_type": "code",
      "metadata": {
        "id": "r7MJ09OK10_t",
        "colab": {
          "base_uri": "https://localhost:8080/",
          "height": 235
        },
        "outputId": "40ddf7a1-f255-4820-86a4-257cecc2e869"
      },
      "source": [
        "df"
      ],
      "execution_count": null,
      "outputs": [
        {
          "output_type": "execute_result",
          "data": {
            "text/html": [
              "<div>\n",
              "<style scoped>\n",
              "    .dataframe tbody tr th:only-of-type {\n",
              "        vertical-align: middle;\n",
              "    }\n",
              "\n",
              "    .dataframe tbody tr th {\n",
              "        vertical-align: top;\n",
              "    }\n",
              "\n",
              "    .dataframe thead th {\n",
              "        text-align: right;\n",
              "    }\n",
              "</style>\n",
              "<table border=\"1\" class=\"dataframe\">\n",
              "  <thead>\n",
              "    <tr style=\"text-align: right;\">\n",
              "      <th></th>\n",
              "      <th>(1) P(x_a&lt;=x&lt;=x_b)</th>\n",
              "      <th>(2) n_0</th>\n",
              "      <th>(3) n</th>\n",
              "      <th>(4) n</th>\n",
              "      <th>(5) n</th>\n",
              "      <th>(6) nh</th>\n",
              "      <th>(7) sig_nh</th>\n",
              "      <th>(8) s_n</th>\n",
              "    </tr>\n",
              "    <tr>\n",
              "      <th>[x_a,x_b[</th>\n",
              "      <th></th>\n",
              "      <th></th>\n",
              "      <th></th>\n",
              "      <th></th>\n",
              "      <th></th>\n",
              "      <th></th>\n",
              "      <th></th>\n",
              "      <th></th>\n",
              "    </tr>\n",
              "  </thead>\n",
              "  <tbody>\n",
              "    <tr>\n",
              "      <th>[0, 1[</th>\n",
              "      <td>0.008</td>\n",
              "      <td>1.6</td>\n",
              "      <td>2.0</td>\n",
              "      <td>0.0</td>\n",
              "      <td>1.0</td>\n",
              "      <td>NaN</td>\n",
              "      <td>NaN</td>\n",
              "      <td>NaN</td>\n",
              "    </tr>\n",
              "    <tr>\n",
              "      <th>[1, 2[</th>\n",
              "      <td>0.056</td>\n",
              "      <td>11.2</td>\n",
              "      <td>9.0</td>\n",
              "      <td>6.0</td>\n",
              "      <td>12.0</td>\n",
              "      <td>NaN</td>\n",
              "      <td>NaN</td>\n",
              "      <td>NaN</td>\n",
              "    </tr>\n",
              "    <tr>\n",
              "      <th>[2, 3[</th>\n",
              "      <td>0.152</td>\n",
              "      <td>30.4</td>\n",
              "      <td>39.0</td>\n",
              "      <td>21.0</td>\n",
              "      <td>26.0</td>\n",
              "      <td>NaN</td>\n",
              "      <td>NaN</td>\n",
              "      <td>NaN</td>\n",
              "    </tr>\n",
              "    <tr>\n",
              "      <th>[3, 4[</th>\n",
              "      <td>0.296</td>\n",
              "      <td>59.2</td>\n",
              "      <td>54.0</td>\n",
              "      <td>73.0</td>\n",
              "      <td>69.0</td>\n",
              "      <td>NaN</td>\n",
              "      <td>NaN</td>\n",
              "      <td>NaN</td>\n",
              "    </tr>\n",
              "    <tr>\n",
              "      <th>[4, 5[</th>\n",
              "      <td>0.488</td>\n",
              "      <td>97.6</td>\n",
              "      <td>96.0</td>\n",
              "      <td>100.0</td>\n",
              "      <td>92.0</td>\n",
              "      <td>NaN</td>\n",
              "      <td>NaN</td>\n",
              "      <td>NaN</td>\n",
              "    </tr>\n",
              "  </tbody>\n",
              "</table>\n",
              "</div>"
            ],
            "text/plain": [
              "           (1) P(x_a<=x<=x_b)  (2) n_0  (3) n  ...  (6) nh  (7) sig_nh (8) s_n\n",
              "[x_a,x_b[                                      ...                            \n",
              "[0, 1[                  0.008      1.6    2.0  ...     NaN         NaN     NaN\n",
              "[1, 2[                  0.056     11.2    9.0  ...     NaN         NaN     NaN\n",
              "[2, 3[                  0.152     30.4   39.0  ...     NaN         NaN     NaN\n",
              "[3, 4[                  0.296     59.2   54.0  ...     NaN         NaN     NaN\n",
              "[4, 5[                  0.488     97.6   96.0  ...     NaN         NaN     NaN\n",
              "\n",
              "[5 rows x 8 columns]"
            ]
          },
          "metadata": {
            "tags": []
          },
          "execution_count": 12
        }
      ]
    },
    {
      "cell_type": "markdown",
      "metadata": {
        "id": "_s81TZD15WO4"
      },
      "source": [
        "## d)\n",
        "\n",
        "Gere $n_{REP} = 10^4$ conjuntos de $N=200$ dados e preencha as colunas (6) e (7) do quadro com o valor médio do número de ocorrências em cada intervalo, ñ, e sua respectiva incerteza(escreva esses valores com o número correto de algarismossignificativos)"
      ]
    },
    {
      "cell_type": "code",
      "metadata": {
        "id": "7sT5kBUu9BvR"
      },
      "source": [
        "def binarize(a): return np.histogram(a, bins=b)[0]"
      ],
      "execution_count": null,
      "outputs": []
    },
    {
      "cell_type": "code",
      "metadata": {
        "id": "Ur34yCQ313x8",
        "colab": {
          "base_uri": "https://localhost:8080/"
        },
        "outputId": "ad92ab8c-00de-402a-83bc-ec6d06d895b7"
      },
      "source": [
        "n_rep = 10000\n",
        "\n",
        "x = (125 * rng.random((n_rep,N)))**(1/3)\n",
        "d = np.apply_along_axis(binarize, axis=1, arr=x)\n",
        "d.shape"
      ],
      "execution_count": null,
      "outputs": [
        {
          "output_type": "execute_result",
          "data": {
            "text/plain": [
              "(10000, 5)"
            ]
          },
          "metadata": {
            "tags": []
          },
          "execution_count": 14
        }
      ]
    },
    {
      "cell_type": "code",
      "metadata": {
        "id": "S_MRFm8L73DB",
        "colab": {
          "base_uri": "https://localhost:8080/",
          "height": 235
        },
        "outputId": "7262a1ec-344c-466a-da99-e1f0d7b99f1b"
      },
      "source": [
        "df['(6) nh'] = d.mean(axis=0)\n",
        "d_std = d.std(axis=0, ddof=1)\n",
        "df['(7) sig_nh'] = d_std/(d.shape[0]**(1/2))\n",
        "df"
      ],
      "execution_count": null,
      "outputs": [
        {
          "output_type": "execute_result",
          "data": {
            "text/html": [
              "<div>\n",
              "<style scoped>\n",
              "    .dataframe tbody tr th:only-of-type {\n",
              "        vertical-align: middle;\n",
              "    }\n",
              "\n",
              "    .dataframe tbody tr th {\n",
              "        vertical-align: top;\n",
              "    }\n",
              "\n",
              "    .dataframe thead th {\n",
              "        text-align: right;\n",
              "    }\n",
              "</style>\n",
              "<table border=\"1\" class=\"dataframe\">\n",
              "  <thead>\n",
              "    <tr style=\"text-align: right;\">\n",
              "      <th></th>\n",
              "      <th>(1) P(x_a&lt;=x&lt;=x_b)</th>\n",
              "      <th>(2) n_0</th>\n",
              "      <th>(3) n</th>\n",
              "      <th>(4) n</th>\n",
              "      <th>(5) n</th>\n",
              "      <th>(6) nh</th>\n",
              "      <th>(7) sig_nh</th>\n",
              "      <th>(8) s_n</th>\n",
              "    </tr>\n",
              "    <tr>\n",
              "      <th>[x_a,x_b[</th>\n",
              "      <th></th>\n",
              "      <th></th>\n",
              "      <th></th>\n",
              "      <th></th>\n",
              "      <th></th>\n",
              "      <th></th>\n",
              "      <th></th>\n",
              "      <th></th>\n",
              "    </tr>\n",
              "  </thead>\n",
              "  <tbody>\n",
              "    <tr>\n",
              "      <th>[0, 1[</th>\n",
              "      <td>0.008</td>\n",
              "      <td>1.6</td>\n",
              "      <td>2.0</td>\n",
              "      <td>0.0</td>\n",
              "      <td>1.0</td>\n",
              "      <td>1.5889</td>\n",
              "      <td>0.012660</td>\n",
              "      <td>NaN</td>\n",
              "    </tr>\n",
              "    <tr>\n",
              "      <th>[1, 2[</th>\n",
              "      <td>0.056</td>\n",
              "      <td>11.2</td>\n",
              "      <td>9.0</td>\n",
              "      <td>6.0</td>\n",
              "      <td>12.0</td>\n",
              "      <td>11.1578</td>\n",
              "      <td>0.032903</td>\n",
              "      <td>NaN</td>\n",
              "    </tr>\n",
              "    <tr>\n",
              "      <th>[2, 3[</th>\n",
              "      <td>0.152</td>\n",
              "      <td>30.4</td>\n",
              "      <td>39.0</td>\n",
              "      <td>21.0</td>\n",
              "      <td>26.0</td>\n",
              "      <td>30.4356</td>\n",
              "      <td>0.050891</td>\n",
              "      <td>NaN</td>\n",
              "    </tr>\n",
              "    <tr>\n",
              "      <th>[3, 4[</th>\n",
              "      <td>0.296</td>\n",
              "      <td>59.2</td>\n",
              "      <td>54.0</td>\n",
              "      <td>73.0</td>\n",
              "      <td>69.0</td>\n",
              "      <td>59.1595</td>\n",
              "      <td>0.064519</td>\n",
              "      <td>NaN</td>\n",
              "    </tr>\n",
              "    <tr>\n",
              "      <th>[4, 5[</th>\n",
              "      <td>0.488</td>\n",
              "      <td>97.6</td>\n",
              "      <td>96.0</td>\n",
              "      <td>100.0</td>\n",
              "      <td>92.0</td>\n",
              "      <td>97.6582</td>\n",
              "      <td>0.070312</td>\n",
              "      <td>NaN</td>\n",
              "    </tr>\n",
              "  </tbody>\n",
              "</table>\n",
              "</div>"
            ],
            "text/plain": [
              "           (1) P(x_a<=x<=x_b)  (2) n_0  (3) n  ...   (6) nh  (7) sig_nh  (8) s_n\n",
              "[x_a,x_b[                                      ...                              \n",
              "[0, 1[                  0.008      1.6    2.0  ...   1.5889    0.012660      NaN\n",
              "[1, 2[                  0.056     11.2    9.0  ...  11.1578    0.032903      NaN\n",
              "[2, 3[                  0.152     30.4   39.0  ...  30.4356    0.050891      NaN\n",
              "[3, 4[                  0.296     59.2   54.0  ...  59.1595    0.064519      NaN\n",
              "[4, 5[                  0.488     97.6   96.0  ...  97.6582    0.070312      NaN\n",
              "\n",
              "[5 rows x 8 columns]"
            ]
          },
          "metadata": {
            "tags": []
          },
          "execution_count": 15
        }
      ]
    },
    {
      "cell_type": "markdown",
      "metadata": {
        "id": "SBwUXoe8Vaus"
      },
      "source": [
        "## e)\n",
        "\n",
        "Calcule o desvio-padrão amostral do número de ocorrências em cada intervalo, $s_n$ (isto é a dispersão no número de casos em cada intervalo observados nas 10.000 simulações) e preencha a coluna (8) do quadro. Escreva esses desvios-padrões amostrais com o mesmo número de casas decimais usados para escrever os correspondentes valores médios[coluna (6)]."
      ]
    },
    {
      "cell_type": "code",
      "metadata": {
        "id": "6CsLsOKCA7Ep",
        "colab": {
          "base_uri": "https://localhost:8080/",
          "height": 235
        },
        "outputId": "b5789ef4-ff91-4cb8-e6ae-b985a4b590fc"
      },
      "source": [
        "df['(8) s_n'] = d_std\n",
        "df"
      ],
      "execution_count": null,
      "outputs": [
        {
          "output_type": "execute_result",
          "data": {
            "text/html": [
              "<div>\n",
              "<style scoped>\n",
              "    .dataframe tbody tr th:only-of-type {\n",
              "        vertical-align: middle;\n",
              "    }\n",
              "\n",
              "    .dataframe tbody tr th {\n",
              "        vertical-align: top;\n",
              "    }\n",
              "\n",
              "    .dataframe thead th {\n",
              "        text-align: right;\n",
              "    }\n",
              "</style>\n",
              "<table border=\"1\" class=\"dataframe\">\n",
              "  <thead>\n",
              "    <tr style=\"text-align: right;\">\n",
              "      <th></th>\n",
              "      <th>(1) P(x_a&lt;=x&lt;=x_b)</th>\n",
              "      <th>(2) n_0</th>\n",
              "      <th>(3) n</th>\n",
              "      <th>(4) n</th>\n",
              "      <th>(5) n</th>\n",
              "      <th>(6) nh</th>\n",
              "      <th>(7) sig_nh</th>\n",
              "      <th>(8) s_n</th>\n",
              "    </tr>\n",
              "    <tr>\n",
              "      <th>[x_a,x_b[</th>\n",
              "      <th></th>\n",
              "      <th></th>\n",
              "      <th></th>\n",
              "      <th></th>\n",
              "      <th></th>\n",
              "      <th></th>\n",
              "      <th></th>\n",
              "      <th></th>\n",
              "    </tr>\n",
              "  </thead>\n",
              "  <tbody>\n",
              "    <tr>\n",
              "      <th>[0, 1[</th>\n",
              "      <td>0.008</td>\n",
              "      <td>1.6</td>\n",
              "      <td>2.0</td>\n",
              "      <td>0.0</td>\n",
              "      <td>1.0</td>\n",
              "      <td>1.5889</td>\n",
              "      <td>0.012660</td>\n",
              "      <td>1.265961</td>\n",
              "    </tr>\n",
              "    <tr>\n",
              "      <th>[1, 2[</th>\n",
              "      <td>0.056</td>\n",
              "      <td>11.2</td>\n",
              "      <td>9.0</td>\n",
              "      <td>6.0</td>\n",
              "      <td>12.0</td>\n",
              "      <td>11.1578</td>\n",
              "      <td>0.032903</td>\n",
              "      <td>3.290347</td>\n",
              "    </tr>\n",
              "    <tr>\n",
              "      <th>[2, 3[</th>\n",
              "      <td>0.152</td>\n",
              "      <td>30.4</td>\n",
              "      <td>39.0</td>\n",
              "      <td>21.0</td>\n",
              "      <td>26.0</td>\n",
              "      <td>30.4356</td>\n",
              "      <td>0.050891</td>\n",
              "      <td>5.089130</td>\n",
              "    </tr>\n",
              "    <tr>\n",
              "      <th>[3, 4[</th>\n",
              "      <td>0.296</td>\n",
              "      <td>59.2</td>\n",
              "      <td>54.0</td>\n",
              "      <td>73.0</td>\n",
              "      <td>69.0</td>\n",
              "      <td>59.1595</td>\n",
              "      <td>0.064519</td>\n",
              "      <td>6.451916</td>\n",
              "    </tr>\n",
              "    <tr>\n",
              "      <th>[4, 5[</th>\n",
              "      <td>0.488</td>\n",
              "      <td>97.6</td>\n",
              "      <td>96.0</td>\n",
              "      <td>100.0</td>\n",
              "      <td>92.0</td>\n",
              "      <td>97.6582</td>\n",
              "      <td>0.070312</td>\n",
              "      <td>7.031224</td>\n",
              "    </tr>\n",
              "  </tbody>\n",
              "</table>\n",
              "</div>"
            ],
            "text/plain": [
              "           (1) P(x_a<=x<=x_b)  (2) n_0  (3) n  ...   (6) nh  (7) sig_nh   (8) s_n\n",
              "[x_a,x_b[                                      ...                               \n",
              "[0, 1[                  0.008      1.6    2.0  ...   1.5889    0.012660  1.265961\n",
              "[1, 2[                  0.056     11.2    9.0  ...  11.1578    0.032903  3.290347\n",
              "[2, 3[                  0.152     30.4   39.0  ...  30.4356    0.050891  5.089130\n",
              "[3, 4[                  0.296     59.2   54.0  ...  59.1595    0.064519  6.451916\n",
              "[4, 5[                  0.488     97.6   96.0  ...  97.6582    0.070312  7.031224\n",
              "\n",
              "[5 rows x 8 columns]"
            ]
          },
          "metadata": {
            "tags": []
          },
          "execution_count": 16
        }
      ]
    },
    {
      "cell_type": "code",
      "metadata": {
        "id": "TZs5CtNsV4Fj"
      },
      "source": [
        "df.to_csv('TEFE 2020 - Atividade 11.csv')"
      ],
      "execution_count": null,
      "outputs": []
    }
  ]
}