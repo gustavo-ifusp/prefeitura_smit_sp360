{
  "nbformat": 4,
  "nbformat_minor": 0,
  "metadata": {
    "colab": {
      "name": "TEFE 2020 - Atividade 18 (Geração de dados correlacionados)-tentativa2.ipynb",
      "provenance": [],
      "collapsed_sections": [],
      "include_colab_link": true
    },
    "kernelspec": {
      "name": "python3",
      "display_name": "Python 3"
    }
  },
  "cells": [
    {
      "cell_type": "markdown",
      "metadata": {
        "id": "view-in-github",
        "colab_type": "text"
      },
      "source": [
        "<a href=\"https://colab.research.google.com/github/gustavo-ifusp/prefeitura_smit_sp360/blob/main/TEFE_2020_Atividade_18_(Gera%C3%A7%C3%A3o_de_dados_correlacionados)_tentativa2.ipynb\" target=\"_parent\"><img src=\"https://colab.research.google.com/assets/colab-badge.svg\" alt=\"Open In Colab\"/></a>"
      ]
    },
    {
      "cell_type": "code",
      "metadata": {
        "id": "QT4clrsmc0Lk"
      },
      "source": [
        "import numpy as np\n",
        "import matplotlib.pyplot as plt"
      ],
      "execution_count": null,
      "outputs": []
    },
    {
      "cell_type": "code",
      "metadata": {
        "id": "H14HS25enzvW"
      },
      "source": [
        "a0, b0 = 30, 20\n",
        "sigma_a = sigma_b = 2"
      ],
      "execution_count": null,
      "outputs": []
    },
    {
      "cell_type": "markdown",
      "metadata": {
        "id": "LjpKEnPxvx7h"
      },
      "source": [
        "# a"
      ]
    },
    {
      "cell_type": "code",
      "metadata": {
        "id": "1fRkSfatgvE1",
        "colab": {
          "base_uri": "https://localhost:8080/",
          "height": 295
        },
        "outputId": "63aa7f20-6a2d-4963-f9fe-492e1dc01607"
      },
      "source": [
        "N = 500\n",
        "rho = .75\n",
        "\n",
        "mu, sigma = 0, 1 # mean and standard deviation\n",
        "r = np.random.normal(mu, sigma, (2,N))\n",
        "\n",
        "a = a0 + sigma_a*r[0]\n",
        "b = b0 + sigma_b*(rho*r[0] + (1-rho**2)**(1/2) *r[1])\n",
        "\n",
        "plt.plot(a, b, '.', color=\"green\")\n",
        "plt.title('Dispersão rho = 0.75')\n",
        "plt.xlabel('a')\n",
        "plt.ylabel('b')\n",
        "plt.show()"
      ],
      "execution_count": null,
      "outputs": [
        {
          "output_type": "display_data",
          "data": {
            "image/png": "[encoded data removed]",
            "text/plain": [
              "<Figure size 432x288 with 1 Axes>"
            ]
          },
          "metadata": {
            "tags": [],
            "needs_background": "light"
          }
        }
      ]
    },
    {
      "cell_type": "markdown",
      "metadata": {
        "id": "vjaKtjtsyMzh"
      },
      "source": [
        "## 1"
      ]
    },
    {
      "cell_type": "code",
      "metadata": {
        "id": "E-RQ5T7LqXj1",
        "colab": {
          "base_uri": "https://localhost:8080/"
        },
        "outputId": "968cc911-6c18-4868-f1c8-1a70abaa82d0"
      },
      "source": [
        "n = np.sum((a>=a0)==(b>=b0))\n",
        "print(n)\n",
        "\n",
        "p = n/N\n",
        "q = (1-p)\n",
        "sigma_n = (N*p*q)**(1/2)\n",
        "print(sigma_n)"
      ],
      "execution_count": null,
      "outputs": [
        {
          "output_type": "stream",
          "text": [
            "390\n",
            "9.262828941527529\n"
          ],
          "name": "stdout"
        }
      ]
    },
    {
      "cell_type": "markdown",
      "metadata": {
        "id": "9aMP4V8Q1Ger"
      },
      "source": [
        "## 2"
      ]
    },
    {
      "cell_type": "code",
      "metadata": {
        "id": "fUbG8jxIyauZ",
        "colab": {
          "base_uri": "https://localhost:8080/"
        },
        "outputId": "b69e3352-84e2-4820-cbcc-684641124e45"
      },
      "source": [
        "print(p)\n",
        "\n",
        "print(sigma_n/N)"
      ],
      "execution_count": null,
      "outputs": [
        {
          "output_type": "stream",
          "text": [
            "0.78\n",
            "0.018525657883055057\n"
          ],
          "name": "stdout"
        }
      ]
    },
    {
      "cell_type": "markdown",
      "metadata": {
        "id": "aS1nTpgsXNtL"
      },
      "source": [
        "## 3"
      ]
    },
    {
      "cell_type": "markdown",
      "metadata": {
        "id": "ZOQoMvB5fk5s"
      },
      "source": [
        "### 1"
      ]
    },
    {
      "cell_type": "code",
      "metadata": {
        "id": "PY9zJNPAXILU",
        "colab": {
          "base_uri": "https://localhost:8080/"
        },
        "outputId": "a770f67e-9609-4948-e5e7-a65eeaa6ff56"
      },
      "source": [
        "V_ab = np.sum((a-a.mean())*(b-b.mean()))/(N-1)\n",
        "print(V_ab)\n",
        "\n",
        "s_a, s_b = a.std(ddof=1), b.std(ddof=1)\n",
        "R = V_ab/(s_a*s_b)\n",
        "inc_V = s_a*s_b*((1+R**2)/(N-1))**(1/2)\n",
        "print(inc_V)"
      ],
      "execution_count": null,
      "outputs": [
        {
          "output_type": "stream",
          "text": [
            "3.143324893160702\n",
            "0.23291431987045041\n"
          ],
          "name": "stdout"
        }
      ]
    },
    {
      "cell_type": "markdown",
      "metadata": {
        "id": "u0wfFi2lhTKB"
      },
      "source": [
        "### 2"
      ]
    },
    {
      "cell_type": "code",
      "metadata": {
        "id": "8mdRQM9OdTrH",
        "colab": {
          "base_uri": "https://localhost:8080/"
        },
        "outputId": "991399a7-33e4-4ae7-b308-fad7f0223f5d"
      },
      "source": [
        "print(R)\n",
        "\n",
        "inc_R = (1-R**2)/((N-1)**(1/2))\n",
        "print(inc_R)"
      ],
      "execution_count": null,
      "outputs": [
        {
          "output_type": "stream",
          "text": [
            "0.758147772526355\n",
            "0.019035101353541282\n"
          ],
          "name": "stdout"
        }
      ]
    },
    {
      "cell_type": "markdown",
      "metadata": {
        "id": "Li4azRhjJEHo"
      },
      "source": [
        "## 4"
      ]
    },
    {
      "cell_type": "code",
      "metadata": {
        "id": "QNOpMZCdhp4S",
        "colab": {
          "base_uri": "https://localhost:8080/"
        },
        "outputId": "4ed1245f-2f67-4d20-b762-3e514b7d4ed1"
      },
      "source": [
        "w = a + b\n",
        "s_w = w.std(ddof=1)\n",
        "print(s_w)\n",
        "\n",
        "inc_s = s_w/((2*(N-1))**(1/2))\n",
        "print(inc_s)"
      ],
      "execution_count": null,
      "outputs": [
        {
          "output_type": "stream",
          "text": [
            "3.8182505099200426\n",
            "0.12086460798526394\n"
          ],
          "name": "stdout"
        }
      ]
    },
    {
      "cell_type": "markdown",
      "metadata": {
        "id": "D1rsMcCqNcbd"
      },
      "source": [
        "## 5"
      ]
    },
    {
      "cell_type": "code",
      "metadata": {
        "id": "KqhLTq3zNEcb",
        "colab": {
          "base_uri": "https://localhost:8080/"
        },
        "outputId": "7df318ad-f7c5-4766-db6e-2ad909f2cd1f"
      },
      "source": [
        "z = a - b\n",
        "s_z = z.std(ddof=1)\n",
        "print(s_z)\n",
        "\n",
        "inc_s = s_z/((2*(N-1))**(1/2))\n",
        "print(inc_s)"
      ],
      "execution_count": null,
      "outputs": [
        {
          "output_type": "stream",
          "text": [
            "1.4162405812085228\n",
            "0.04483031226365894\n"
          ],
          "name": "stdout"
        }
      ]
    },
    {
      "cell_type": "markdown",
      "metadata": {
        "id": "lX-CQ7a5Oq-c"
      },
      "source": [
        "## 6"
      ]
    },
    {
      "cell_type": "code",
      "metadata": {
        "id": "Ge5IoRskOnsT",
        "colab": {
          "base_uri": "https://localhost:8080/"
        },
        "outputId": "d79db4cf-da1c-420d-8c8b-4c9c17a03425"
      },
      "source": [
        "s = (s_a**2 + s_b**2)**(1/2)\n",
        "print(s)\n",
        "\n",
        "inc_s = s/((2*(N-1))**(1/2))\n",
        "print(inc_s)"
      ],
      "execution_count": null,
      "outputs": [
        {
          "output_type": "stream",
          "text": [
            "2.879650529175938\n",
            "0.0911537447422998\n"
          ],
          "name": "stdout"
        }
      ]
    },
    {
      "cell_type": "markdown",
      "metadata": {
        "id": "or_ygovtTgXc"
      },
      "source": [
        "# b"
      ]
    },
    {
      "cell_type": "code",
      "metadata": {
        "id": "0wAjve3KTgXm",
        "colab": {
          "base_uri": "https://localhost:8080/",
          "height": 295
        },
        "outputId": "d5498fd0-12b1-4452-cc30-872276aa91d1"
      },
      "source": [
        "N = 500\n",
        "rho = -.75\n",
        "\n",
        "mu, sigma = 0, 1 # mean and standard deviation\n",
        "r = np.random.normal(mu, sigma, (2,N))\n",
        "\n",
        "a = a0 + sigma_a*r[0]\n",
        "b = b0 + sigma_b*(rho*r[0] + (1-rho**2)**(1/2) *r[1])\n",
        "\n",
        "plt.plot(a, b, '.', color = \"green\")\n",
        "plt.title('Dispersão rho = -0.75')\n",
        "plt.xlabel('a')\n",
        "plt.ylabel('b')\n",
        "plt.show()"
      ],
      "execution_count": null,
      "outputs": [
        {
          "output_type": "display_data",
          "data": {
            "image/png": "[encoded data removed]",
            "text/plain": [
              "<Figure size 432x288 with 1 Axes>"
            ]
          },
          "metadata": {
            "tags": [],
            "needs_background": "light"
          }
        }
      ]
    },
    {
      "cell_type": "markdown",
      "metadata": {
        "id": "VsIfooEfTgXv"
      },
      "source": [
        "## 1"
      ]
    },
    {
      "cell_type": "code",
      "metadata": {
        "id": "oreQBdckTgXw",
        "colab": {
          "base_uri": "https://localhost:8080/"
        },
        "outputId": "bc746fe5-cbd4-4784-8202-bbf179d65550"
      },
      "source": [
        "n = np.sum((a>=a0)==(b>=b0))\n",
        "print(n)\n",
        "\n",
        "p = n/N\n",
        "q = (1-p)\n",
        "sigma_n = (N*p*q)**(1/2)\n",
        "print(sigma_n)"
      ],
      "execution_count": null,
      "outputs": [
        {
          "output_type": "stream",
          "text": [
            "142\n",
            "10.083253443209687\n"
          ],
          "name": "stdout"
        }
      ]
    },
    {
      "cell_type": "markdown",
      "metadata": {
        "id": "bJ9TsuMETgX0"
      },
      "source": [
        "## 2"
      ]
    },
    {
      "cell_type": "code",
      "metadata": {
        "id": "ubC32hwzTgX1",
        "colab": {
          "base_uri": "https://localhost:8080/"
        },
        "outputId": "9841fd9c-d375-425e-f8ee-0f69fd9efac5"
      },
      "source": [
        "print(p)\n",
        "\n",
        "print(sigma_n/N)"
      ],
      "execution_count": null,
      "outputs": [
        {
          "output_type": "stream",
          "text": [
            "0.284\n",
            "0.020166506886419373\n"
          ],
          "name": "stdout"
        }
      ]
    },
    {
      "cell_type": "markdown",
      "metadata": {
        "id": "dhWSp_QjTgX5"
      },
      "source": [
        "## 3"
      ]
    },
    {
      "cell_type": "markdown",
      "metadata": {
        "id": "UByDP2b0TgX6"
      },
      "source": [
        "### 1"
      ]
    },
    {
      "cell_type": "code",
      "metadata": {
        "id": "tY_KUhYNTgX7",
        "colab": {
          "base_uri": "https://localhost:8080/"
        },
        "outputId": "a2a4d0d7-e848-4bbc-8254-5ddc5f992d3d"
      },
      "source": [
        "V_ab = np.sum((a-a.mean())*(b-b.mean()))/(N-1)\n",
        "print(V_ab)\n",
        "\n",
        "s_a, s_b = a.std(ddof=1), b.std(ddof=1)\n",
        "R = V_ab/(s_a*s_b)\n",
        "inc_V = s_a*s_b*((1+R**2)/(N-1))**(1/2)\n",
        "print(inc_V)"
      ],
      "execution_count": null,
      "outputs": [
        {
          "output_type": "stream",
          "text": [
            "-2.5083205008448513\n",
            "0.19963292892735543\n"
          ],
          "name": "stdout"
        }
      ]
    },
    {
      "cell_type": "markdown",
      "metadata": {
        "id": "uS5x9BVNTgYA"
      },
      "source": [
        "### 2"
      ]
    },
    {
      "cell_type": "code",
      "metadata": {
        "id": "qaZfO0hHTgYA",
        "colab": {
          "base_uri": "https://localhost:8080/"
        },
        "outputId": "e083f271-1872-42b3-84a5-ba4a4dafc66b"
      },
      "source": [
        "print(R)\n",
        "\n",
        "inc_R = (1-R**2)/((N-1)**(1/2))\n",
        "print(inc_R)"
      ],
      "execution_count": null,
      "outputs": [
        {
          "output_type": "stream",
          "text": [
            "-0.680285752481974\n",
            "0.024048880393546995\n"
          ],
          "name": "stdout"
        }
      ]
    },
    {
      "cell_type": "markdown",
      "metadata": {
        "id": "TnZJXlyxTgYE"
      },
      "source": [
        "## 4"
      ]
    },
    {
      "cell_type": "code",
      "metadata": {
        "id": "HHLCOA8STgYF",
        "colab": {
          "base_uri": "https://localhost:8080/"
        },
        "outputId": "695a24df-336f-4245-b0b7-308fc066545e"
      },
      "source": [
        "w = a + b\n",
        "s_w = w.std(ddof=1)\n",
        "print(s_w)\n",
        "\n",
        "inc_s = s_w/((2*(N-1))**(1/2))\n",
        "print(inc_s)"
      ],
      "execution_count": null,
      "outputs": [
        {
          "output_type": "stream",
          "text": [
            "1.5396568654309748\n",
            "0.04873698647814282\n"
          ],
          "name": "stdout"
        }
      ]
    },
    {
      "cell_type": "markdown",
      "metadata": {
        "id": "2T4kTewiTgYJ"
      },
      "source": [
        "## 5"
      ]
    },
    {
      "cell_type": "code",
      "metadata": {
        "id": "u0KabMsUTgYK",
        "colab": {
          "base_uri": "https://localhost:8080/"
        },
        "outputId": "9110446c-1e93-4902-be1b-4b7d109669e1"
      },
      "source": [
        "z = a - b\n",
        "s_z = z.std(ddof=1)\n",
        "print(s_z)\n",
        "\n",
        "inc_s = s_z/((2*(N-1))**(1/2))\n",
        "print(inc_s)"
      ],
      "execution_count": null,
      "outputs": [
        {
          "output_type": "stream",
          "text": [
            "3.5219064818146637\n",
            "0.1114840016859458\n"
          ],
          "name": "stdout"
        }
      ]
    },
    {
      "cell_type": "markdown",
      "metadata": {
        "id": "7h4H5uYaTgYQ"
      },
      "source": [
        "## 6"
      ]
    },
    {
      "cell_type": "code",
      "metadata": {
        "id": "fa0R9z3BTgYQ",
        "colab": {
          "base_uri": "https://localhost:8080/"
        },
        "outputId": "8d767552-6061-46d3-a487-664f448dbf80"
      },
      "source": [
        "s = (s_a**2 + s_b**2)**(1/2)\n",
        "print(s)\n",
        "\n",
        "inc_s = s/((2*(N-1))**(1/2))\n",
        "print(inc_s)"
      ],
      "execution_count": null,
      "outputs": [
        {
          "output_type": "stream",
          "text": [
            "2.717937502033194\n",
            "0.08603480831292253\n"
          ],
          "name": "stdout"
        }
      ]
    },
    {
      "cell_type": "markdown",
      "metadata": {
        "id": "w__k_zd5Z1ak"
      },
      "source": [
        "# c"
      ]
    },
    {
      "cell_type": "code",
      "metadata": {
        "id": "nSi7uHBxQaP1",
        "colab": {
          "base_uri": "https://localhost:8080/",
          "height": 600
        },
        "outputId": "78b5dd99-7052-49b4-e5b8-9e38e13ad418"
      },
      "source": [
        "fig, axs = plt.subplots(5, 1, sharex=True, figsize=[6.4, 9.6])\n",
        "\n",
        "rho_ls = [.0, -.25, .5, -.9, .95]\n",
        "\n",
        "for i, ax in enumerate(axs):\n",
        "    rho = rho_ls[i]\n",
        "\n",
        "    r = np.random.normal(mu, sigma, (2,N))\n",
        "\n",
        "    a = a0 + sigma_a*r[0]\n",
        "    b = b0 + sigma_b*(rho*r[0] + (1-rho**2)**(1/2) *r[1])\n",
        "\n",
        "    ax.plot(a, b, '.', markersize=4, color = \"green\")\n",
        "    ax.set_title(f'rho = {rho}')\n",
        "\n",
        "plt.xlabel('a')\n",
        "plt.ylabel('b')\n",
        "plt.show()"
      ],
      "execution_count": null,
      "outputs": [
        {
          "output_type": "display_data",
          "data": {
            "image/png": "[encoded data removed]",
            "text/plain": [
              "<Figure size 460.8x691.2 with 5 Axes>"
            ]
          },
          "metadata": {
            "tags": [],
            "needs_background": "light"
          }
        }
      ]
    }
  ]
}